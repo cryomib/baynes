{
 "cells": [
  {
   "cell_type": "code",
   "execution_count": null,
   "id": "55ab4355",
   "metadata": {},
   "outputs": [],
   "source": [
    "import seaborn as sns\n",
    "import numpy as np\n",
    "from baynes.model_utils import get_model\n",
    "from baynes.analysis import *\n",
    "from baynes.probability import hdi\n",
    "import pandas as pd\n",
    "\n",
    "import cmdstanpy\n",
    "import logging\n",
    "cmdstanpy.utils.get_logger().setLevel(logging.ERROR)"
   ]
  },
  {
   "attachments": {},
   "cell_type": "markdown",
   "id": "0caaaa9a",
   "metadata": {},
   "source": [
    "# Prior sensitivity analysis for the Poisson model\n",
    "### Generate the data"
   ]
  },
  {
   "cell_type": "code",
   "execution_count": null,
   "id": "a9e23c1b",
   "metadata": {},
   "outputs": [],
   "source": [
    "N=1000\n",
    "lambda_true = 6.3\n",
    "events = np.random.poisson(lambda_true, N)\n",
    "\n",
    "data_mean = np.mean(events)\n",
    "data_sd = np.std(events)\n",
    "print('- mean of data: ', data_mean)\n",
    "print('- sd of data: ', data_sd)\n",
    "bins = np.arange(min(events), max(events))\n",
    "sns.histplot(events, bins=bins)\n",
    "sns.despine()\n",
    "\n",
    "data = {'N': len(events), 'y': events, 'alpha': 5, 'beta': 1, 'prior': 0}"
   ]
  },
  {
   "attachments": {},
   "cell_type": "markdown",
   "id": "2515e650",
   "metadata": {},
   "source": [
    "### Compile and print the STAN model\n"
   ]
  },
  {
   "cell_type": "code",
   "execution_count": null,
   "id": "880e7dc2",
   "metadata": {},
   "outputs": [],
   "source": [
    "model = get_model('poisson.stan')\n",
    "print(model.code())"
   ]
  },
  {
   "cell_type": "markdown",
   "id": "31aa8a99",
   "metadata": {},
   "source": [
    "`baynes` allows to repeat the fit for multiple data keys and values using multithreading"
   ]
  },
  {
   "cell_type": "code",
   "execution_count": null,
   "id": "ebe6fcaf",
   "metadata": {},
   "outputs": [],
   "source": [
    "from baynes import sensitivity_sweep\n",
    "df = sensitivity_sweep(model, data, {'alpha': [1, 5, 10, 20, 40, 60]}, ['lambda'])\n",
    "sns.lineplot(df, x='alpha', y='lambda', errorbar=hdi)"
   ]
  },
  {
   "cell_type": "markdown",
   "id": "1886ce67",
   "metadata": {},
   "source": [
    "The sweep over different data must be coded explicitly for more complex cases"
   ]
  },
  {
   "cell_type": "code",
   "execution_count": null,
   "id": "b973cf90",
   "metadata": {},
   "outputs": [],
   "source": [
    "df=pd.DataFrame()\n",
    "prior_var=10\n",
    "post=[]\n",
    "mus= np.linspace(1, 51, 10)\n",
    "\n",
    "Ns=[50, 100, 200, 500]\n",
    "for N in Ns:\n",
    "    evs = events[:N]\n",
    "    data = {'N': len(evs), 'y': evs, 'alpha': 5, 'beta': 1, 'prior': 0}\n",
    "    dN = pd.DataFrame()\n",
    "    for mu in mus:\n",
    "        data['beta'] = mu/prior_var\n",
    "        data['alpha'] = mu**2/prior_var\n",
    "\n",
    "        fit = model.sample(data,\n",
    "                           chains=4,\n",
    "                           iter_warmup=200,\n",
    "                           iter_sampling=300,\n",
    "                           save_warmup=False,\n",
    "                           show_progress=False)\n",
    "        dfit = fit.draws_pd(['lambda'])\n",
    "        dfit['prior mean'] = mu\n",
    "        dN = pd.concat([dN, dfit])\n",
    "    dN['N'] = N\n",
    "    df = pd.concat([df, dN])"
   ]
  },
  {
   "cell_type": "code",
   "execution_count": null,
   "id": "58593f3c",
   "metadata": {},
   "outputs": [],
   "source": [
    "ax = sns.lineplot(df, x='prior mean', y='lambda', hue='N', errorbar=hdi, zorder=0, err_kws={'alpha':0.4, 'lw':0}, style='N')\n",
    "ax.legend(bbox_to_anchor=(1.1, 0.7), facecolor='white', edgecolor='white', title='N data')"
   ]
  }
 ],
 "metadata": {
  "kernelspec": {
   "display_name": "baynesenv",
   "language": "python",
   "name": "baynesenv"
  },
  "language_info": {
   "codemirror_mode": {
    "name": "ipython",
    "version": 3
   },
   "file_extension": ".py",
   "mimetype": "text/x-python",
   "name": "python",
   "nbconvert_exporter": "python",
   "pygments_lexer": "ipython3",
   "version": "3.10.6"
  },
  "toc": {
   "base_numbering": 1,
   "nav_menu": {},
   "number_sections": true,
   "sideBar": true,
   "skip_h1_title": false,
   "title_cell": "Table of Contents",
   "title_sidebar": "Contents",
   "toc_cell": false,
   "toc_position": {},
   "toc_section_display": true,
   "toc_window_display": true
  }
 },
 "nbformat": 4,
 "nbformat_minor": 5
}

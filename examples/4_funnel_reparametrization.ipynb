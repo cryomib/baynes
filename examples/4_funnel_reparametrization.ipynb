{
 "cells": [
  {
   "cell_type": "code",
   "execution_count": null,
   "id": "55ab4355",
   "metadata": {},
   "outputs": [],
   "source": [
    "import seaborn as sns\n",
    "import numpy as np\n",
    "from scipy import stats\n",
    "from baynes.plotter import FitPlotter\n",
    "from baynes.model_utils import get_model"
   ]
  },
  {
   "cell_type": "markdown",
   "id": "e6efac55",
   "metadata": {},
   "source": [
    "## Centered parametrization"
   ]
  },
  {
   "cell_type": "code",
   "execution_count": null,
   "id": "fc2f980f",
   "metadata": {},
   "outputs": [],
   "source": [
    "model = get_model('funnel.stan')\n",
    "fit = model.sample({},\n",
    "                   chains=4,\n",
    "                   iter_warmup=1000,\n",
    "                   iter_sampling=300,\n",
    "                   save_warmup=True,\n",
    "                   show_progress=True,\n",
    "                   adapt_delta=0.9)\n",
    "print(fit.diagnose())\n",
    "\n",
    "fplot = FitPlotter()\n",
    "\n",
    "xmax=40\n",
    "ymin, ymax = -4, 5\n",
    "X = np.linspace(-xmax, xmax, 1001)\n",
    "Y = np.linspace(ymin, ymax, 1001)\n",
    "Z=[]\n",
    "for y in Y:\n",
    "    Z.append(stats.norm.pdf(X, 0, np.exp(y))* stats.norm.pdf(y, loc=0, scale=3))\n",
    "Z = np.array(Z)\n",
    "levels = Z[[900, 850, 800, 750, 700, 650, 600], 500]\n",
    "ax = fplot.new_figure('funnel').subplots()\n",
    "ax.contour(X, Y, Z, levels=levels, colors='grey', alpha=0.5, zorder=0)\n",
    "df = fit.draws_pd()\n",
    "sns.scatterplot(df, x='x', y='y', legend=False, ax=ax)\n",
    "sns.scatterplot(df.loc[df.divergent__==True], x='x', y='y',  legend=False, ax=ax)\n",
    "\n",
    "\n",
    "ax.set_xlim(-xmax, xmax)\n",
    "ax.set_ylim(ymin,ymax)\n",
    "fplot.resize(5,5)"
   ]
  },
  {
   "cell_type": "markdown",
   "id": "6d622b05",
   "metadata": {},
   "source": [
    "## Noncentered parametrization"
   ]
  },
  {
   "cell_type": "code",
   "execution_count": null,
   "id": "68ef915e",
   "metadata": {},
   "outputs": [],
   "source": [
    "model = get_model('funnel_noncentered.stan')\n",
    "print(model.code())\n",
    "fit = model.sample({},\n",
    "                   chains=4,\n",
    "                   iter_warmup=1000,\n",
    "                   iter_sampling=300,\n",
    "                   save_warmup=True,\n",
    "                   show_progress=True,\n",
    "                   adapt_delta=0.9)\n",
    "print(fit.diagnose())\n",
    "\n",
    "Z=[]\n",
    "for y in Y:\n",
    "    Z.append(stats.norm.pdf(X, 0, np.exp(y))* stats.norm.pdf(y, loc=0, scale=3))\n",
    "Z = np.array(Z)\n",
    "levels=Z[[900, 850, 800, 750, 700, 650, 600], 500]\n",
    "ax = fplot.new_figure('funnel').subplots()\n",
    "ax.contour(X, Y, Z, levels=levels, colors='grey', alpha=0.5, zorder=0)\n",
    "df= fit.draws_pd()\n",
    "sns.scatterplot(df, x='x', y='y', legend=False, ax=ax)\n",
    "sns.scatterplot(df.loc[df.divergent__==True], x='x', y='y',  legend=False, ax=ax)\n",
    "ax.set_xlim(-xmax, xmax)\n",
    "ax.set_ylim(ymin,ymax)\n",
    "fplot.resize(5,5)"
   ]
  },
  {
   "cell_type": "code",
   "execution_count": null,
   "id": "cea8073d",
   "metadata": {},
   "outputs": [],
   "source": [
    "xmax=4\n",
    "ymin, ymax = -8.5, 8.5\n",
    "X = np.linspace(-xmax, xmax, 1001)\n",
    "Y= np.linspace(ymin, ymax, 1001)\n",
    "Z=[]\n",
    "for y in Y:\n",
    "    Z.append(stats.norm.pdf(X, 0, 1)* stats.norm.pdf(y, loc=0, scale=3))\n",
    "Z = np.array(Z)\n",
    "levels=Z[[1000,900, 800, 750, 700, 650, 600], 500]\n",
    "ax = fplot.new_figure('funnel').subplots()\n",
    "ax.contour(X, Y, Z, levels=levels, colors='grey', alpha=0.5, zorder=0)\n",
    "df = fit.draws_pd()\n",
    "sns.scatterplot(df, x='z', y='y', legend=False, ax=ax)\n",
    "sns.scatterplot(df.loc[df.divergent__==True], x='z', y='y',  legend=False, ax=ax)\n",
    "ax.set_xlim(-xmax, xmax)\n",
    "ax.set_ylim(ymin,ymax)\n",
    "fplot.resize(5,5)"
   ]
  }
 ],
 "metadata": {
  "kernelspec": {
   "display_name": "baynesenv",
   "language": "python",
   "name": "baynesenv"
  },
  "language_info": {
   "codemirror_mode": {
    "name": "ipython",
    "version": 3
   },
   "file_extension": ".py",
   "mimetype": "text/x-python",
   "name": "python",
   "nbconvert_exporter": "python",
   "pygments_lexer": "ipython3",
   "version": "3.10.12"
  },
  "toc": {
   "base_numbering": 1,
   "nav_menu": {},
   "number_sections": true,
   "sideBar": true,
   "skip_h1_title": false,
   "title_cell": "Table of Contents",
   "title_sidebar": "Contents",
   "toc_cell": false,
   "toc_position": {},
   "toc_section_display": true,
   "toc_window_display": true
  }
 },
 "nbformat": 4,
 "nbformat_minor": 5
}

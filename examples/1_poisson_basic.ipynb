{
 "cells": [
  {
   "cell_type": "code",
   "execution_count": null,
   "id": "55ab4355",
   "metadata": {},
   "outputs": [],
   "source": [
    "import seaborn as sns\n",
    "import numpy as np\n",
    "from cmdstanpy import CmdStanModel\n",
    "from baynes.plotter import FitPlotter\n",
    "from baynes.model_utils import get_stan_file\n",
    "import pandas as pd\n",
    "from scipy import stats"
   ]
  },
  {
   "attachments": {},
   "cell_type": "markdown",
   "id": "0caaaa9a",
   "metadata": {},
   "source": [
    "# Example 1: fit of a poissonian process\n",
    "### Generate the data"
   ]
  },
  {
   "cell_type": "code",
   "execution_count": null,
   "id": "a9e23c1b",
   "metadata": {},
   "outputs": [],
   "source": [
    "N=500\n",
    "lambda_true = 6.3\n",
    "events = np.random.poisson(lambda_true, N)\n",
    "\n",
    "data_mean = np.mean(events)\n",
    "data_sd = np.std(events)\n",
    "print('- mean of data: ', data_mean)\n",
    "print('- sd of data: ', data_sd)\n",
    "bins = np.arange(min(events), max(events))\n",
    "sns.histplot(events, bins=bins)\n",
    "sns.despine()"
   ]
  },
  {
   "attachments": {},
   "cell_type": "markdown",
   "id": "2515e650",
   "metadata": {},
   "source": [
    "### Compile and print the STAN model\n"
   ]
  },
  {
   "cell_type": "markdown",
   "id": "f4606d69",
   "metadata": {},
   "source": [
    "`baynes` allows to retrieve a .stan file from the models' directory specified in the installation procedure"
   ]
  },
  {
   "cell_type": "code",
   "execution_count": null,
   "id": "880e7dc2",
   "metadata": {},
   "outputs": [],
   "source": [
    "stan_file = get_stan_file('poisson.stan')\n",
    "model = CmdStanModel(stan_file=stan_file,\n",
    "                     cpp_options={'STAN_THREADS': True, 'jN': 4})\n",
    "print(model.code())"
   ]
  },
  {
   "cell_type": "markdown",
   "id": "ed29dc10",
   "metadata": {},
   "source": [
    "The model can also be directly compiled with default arguments"
   ]
  },
  {
   "cell_type": "code",
   "execution_count": null,
   "id": "7877d38e",
   "metadata": {},
   "outputs": [],
   "source": [
    "from baynes import get_model\n",
    "model = get_model('poisson.stan')"
   ]
  },
  {
   "attachments": {},
   "cell_type": "markdown",
   "id": "2cb6fa8d",
   "metadata": {},
   "source": [
    "### Assemble the data\n",
    "The model fits a poissonian with a gamma for the only parameter $\\lambda$. The variables 'alpha' and 'beta' are the parameters of the gamma distribution, while 'prior' selects whether to sample only from the prior (1) or from the fit (0)"
   ]
  },
  {
   "cell_type": "code",
   "execution_count": null,
   "id": "6b13d415",
   "metadata": {},
   "outputs": [],
   "source": [
    "data = {'N': len(events), 'y': events, 'alpha': 5, 'beta': 1, 'prior': 1}"
   ]
  },
  {
   "attachments": {},
   "cell_type": "markdown",
   "id": "0ba70467",
   "metadata": {},
   "source": [
    "### Prior predictive check\n",
    "Run the model without warmup and with fixed parameters"
   ]
  },
  {
   "cell_type": "code",
   "execution_count": null,
   "id": "30ff68f6",
   "metadata": {},
   "outputs": [],
   "source": [
    "fit_prior = model.sample(data, save_warmup=False)"
   ]
  },
  {
   "attachments": {},
   "cell_type": "markdown",
   "id": "1c40b62c",
   "metadata": {},
   "source": [
    "Initialize a FitPlotter object adding the fit and its title (optional), then plot a predictive check. By default, the 5-95% interval of the simulated data is drawn. If the data is unbinned, as in this case, pass the number of bins that will be used in the plot as an additional argument. "
   ]
  },
  {
   "cell_type": "code",
   "execution_count": null,
   "id": "1013745c",
   "metadata": {},
   "outputs": [],
   "source": [
    "plotter = FitPlotter(fit_prior, fit_title='prior')\n",
    "plotter.predictive_check('y_rep',\n",
    "                         data=data,\n",
    "                         data_key='y',\n",
    "                         lines=False,\n",
    "                         n_bins=len(bins))"
   ]
  },
  {
   "attachments": {},
   "cell_type": "markdown",
   "id": "d7440e85",
   "metadata": {},
   "source": [
    "### Fit the model\n",
    "Sample from the posterior, specifying the warmup iterations. Use $diagnose()$ to check the convergence of the fit."
   ]
  },
  {
   "cell_type": "code",
   "execution_count": null,
   "id": "fc2f980f",
   "metadata": {},
   "outputs": [],
   "source": [
    "data['prior'] = 0\n",
    "fit = model.sample(data,\n",
    "                   chains=4,\n",
    "                   iter_warmup=500,\n",
    "                   iter_sampling=1000,\n",
    "                   save_warmup=True,\n",
    "                   show_progress=True,\n",
    "                   inits={'lambda':5})\n",
    "print(fit.diagnose())"
   ]
  },
  {
   "attachments": {},
   "cell_type": "markdown",
   "id": "0dc44d22",
   "metadata": {},
   "source": [
    "Add the new fit to the FitPlotter and inspect the convergence of the only parameter. By default, new fits are added to an internal dictionary and new graphs are generated from the last added fit. All the parameters are plotted if None is passed as the first argument of the plotting function."
   ]
  },
  {
   "cell_type": "code",
   "execution_count": null,
   "id": "d93b0f4c",
   "metadata": {},
   "outputs": [],
   "source": [
    "plotter.add_fit(fit, fit_title='posterior')\n",
    "plotter.convergence_plot(wspace=0.2)"
   ]
  },
  {
   "attachments": {},
   "cell_type": "markdown",
   "id": "aa9c1c9b",
   "metadata": {},
   "source": [
    "Plot the posterior predictive check"
   ]
  },
  {
   "cell_type": "code",
   "execution_count": null,
   "id": "b33ae324",
   "metadata": {},
   "outputs": [],
   "source": [
    "plotter.predictive_check('y_rep',\n",
    "                         data=data,\n",
    "                         data_key='y',\n",
    "                         lines = False,\n",
    "                         n_bins=len(bins))"
   ]
  },
  {
   "attachments": {},
   "cell_type": "markdown",
   "id": "085b521d",
   "metadata": {},
   "source": [
    "Print the results for the parameter $lambda$ and plot its posterior distribution, or compare it to the analytical solution"
   ]
  },
  {
   "cell_type": "code",
   "execution_count": null,
   "id": "966cdc48",
   "metadata": {},
   "outputs": [],
   "source": [
    "plotter.kde_plot()\n",
    "plotter.add_lines([lambda_true], color='green', label='true value', ls='--')"
   ]
  },
  {
   "cell_type": "code",
   "execution_count": null,
   "id": "f11c3d99",
   "metadata": {},
   "outputs": [],
   "source": [
    "gamma_dist=stats.gamma(5+N*np.mean(events), scale=1/(1+N))\n",
    "x = np.linspace(gamma_dist.ppf(0.0001), gamma_dist.ppf(0.9999), 100)\n",
    "ax = plotter.plot(x, gamma_dist.pdf(x), color=\"black\", lw=3, alpha=1, label='exact')\n",
    "sns.histplot(fit.draws_pd(['lambda']), x='lambda', ax=ax, stat='density', label='HMC', element='step', alpha=0.5)\n",
    "plotter.resize(6,6)"
   ]
  },
  {
   "cell_type": "markdown",
   "id": "4f9d3b19",
   "metadata": {},
   "source": [
    "### Compare prior and posterior with histograms or a boxplot "
   ]
  },
  {
   "cell_type": "code",
   "execution_count": null,
   "id": "7e0c21a2",
   "metadata": {},
   "outputs": [],
   "source": [
    "plotter.dis_plot(fit_titles='all', kind='hist', hue='fit', common_bins=False, element=\"step\")"
   ]
  },
  {
   "cell_type": "code",
   "execution_count": null,
   "id": "958eeaa5",
   "metadata": {},
   "outputs": [],
   "source": [
    "plotter.cat_plot(fit_titles='all', parameters='lambda')\n",
    "plotter.add_lines(x_coords=[lambda_true], color='black', lw=2, ls='--', label='data')"
   ]
  },
  {
   "cell_type": "code",
   "execution_count": null,
   "id": "f0d971b2",
   "metadata": {},
   "outputs": [],
   "source": [
    "exact = {'Mean': gamma_dist.mean(), 'StdDev': gamma_dist.std(), '5%': gamma_dist.ppf(0.05), '95%': gamma_dist.ppf(0.95)}\n",
    "df = pd.concat([fit.summary().loc[['lambda']], fit_prior.summary().loc[['lambda']]])\n",
    "d=df[['Mean', 'StdDev', '5%', '95%']]\n",
    "d = pd.concat([pd.DataFrame.from_dict([exact]), d])\n",
    "print(d.to_latex(float_format=\"%.2f\"))"
   ]
  },
  {
   "cell_type": "markdown",
   "id": "fb717b91",
   "metadata": {},
   "source": [
    "### Boxplots of test variables in predictive check and \"p-values\""
   ]
  },
  {
   "cell_type": "code",
   "execution_count": null,
   "id": "9d09a330",
   "metadata": {},
   "outputs": [],
   "source": [
    "plotter.col_wrap=2\n",
    "variables = ['mean_y_rep', 'sd_y_rep']\n",
    "plotter.cat_plot(variables, fit_titles='all')\n",
    "plotter.add_lines(x_coords=[data_mean, data_sd], color='black', lw=2, ls='--', label='data')\n",
    "plotter.update_legend(edgecolor='white')\n",
    "plotter.resize(9, 3)"
   ]
  },
  {
   "cell_type": "code",
   "execution_count": null,
   "id": "816f5e7d",
   "metadata": {},
   "outputs": [],
   "source": [
    "pars = ['mean_y_rep', 'sd_y_rep']\n",
    "fits = plotter.get_fit_titles('all')\n",
    "res = {}\n",
    "data_val=[data_mean, data_sd]\n",
    "for f in fits[::-1]:\n",
    "    res[f] = {}\n",
    "    for i, v in enumerate(pars):\n",
    "        d = plotter.draws_df(parameters=[v], fit_titles=[f])\n",
    "        res[f][v] = len(d.loc[d[v]>data_val[i]])/len(d)\n",
    "\n",
    "print(pd.DataFrame.from_dict(res).transpose().to_latex(float_format=\"%.2f\"))"
   ]
  },
  {
   "cell_type": "markdown",
   "id": "7c1a3ff4",
   "metadata": {},
   "source": [
    "### This basic workflow can be automatically executed with standard_analysis:\n",
    "* Sample from priors\n",
    "* Use samples from priors as initial parameters\n",
    "* Sample from the posterior\n",
    "* Check diagnostics and compare priors with posteriors"
   ]
  },
  {
   "cell_type": "code",
   "execution_count": null,
   "id": "3c1e68ec",
   "metadata": {},
   "outputs": [],
   "source": [
    "from baynes import standard_analysis\n",
    "fit = standard_analysis(model, data, plotter,\n",
    "                        {'chains': 4, \"save_warmup\": True},\n",
    "                        rep_key='y_rep',\n",
    "                        data_key='y',\n",
    "                        n_bins=len(bins))"
   ]
  },
  {
   "cell_type": "code",
   "execution_count": null,
   "id": "bad57a3d",
   "metadata": {},
   "outputs": [],
   "source": []
  }
 ],
 "metadata": {
  "kernelspec": {
   "display_name": "baynesenv",
   "language": "python",
   "name": "python3"
  },
  "language_info": {
   "codemirror_mode": {
    "name": "ipython",
    "version": 3
   },
   "file_extension": ".py",
   "mimetype": "text/x-python",
   "name": "python",
   "nbconvert_exporter": "python",
   "pygments_lexer": "ipython3",
   "version": "3.10.18"
  },
  "toc": {
   "base_numbering": 1,
   "nav_menu": {},
   "number_sections": true,
   "sideBar": true,
   "skip_h1_title": false,
   "title_cell": "Table of Contents",
   "title_sidebar": "Contents",
   "toc_cell": false,
   "toc_position": {},
   "toc_section_display": true,
   "toc_window_display": true
  }
 },
 "nbformat": 4,
 "nbformat_minor": 5
}

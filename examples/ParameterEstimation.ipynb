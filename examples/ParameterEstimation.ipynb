{
 "cells": [
  {
   "cell_type": "code",
   "execution_count": null,
   "id": "30b824cd-774a-4289-a0c4-f665dfb1f9eb",
   "metadata": {},
   "outputs": [],
   "source": [
    "from baynes.model_utils import get_model, inits_from_priors\n",
    "from baynes.plotter import FitPlotter\n",
    "from scipy import stats\n",
    "import itertools as it\n",
    "import numpy as np\n",
    "import matplotlib.pyplot as plt\n",
    "import h5py\n",
    "import scipy\n",
    "from matplotlib import gridspec\n",
    "from matplotlib import rc\n",
    "import os\n",
    "\n",
    "import cmdstanpy\n",
    "import logging\n",
    "%config IPCompleter.use_jedi=False"
   ]
  },
  {
   "cell_type": "markdown",
   "id": "c4cfaaf8-b948-4326-9dd1-66083e2cdf9d",
   "metadata": {},
   "source": [
    "# Useful Functions"
   ]
  },
  {
   "cell_type": "code",
   "execution_count": null,
   "id": "a32275ba-2bba-453f-8c2c-01f4691646db",
   "metadata": {},
   "outputs": [],
   "source": [
    "def add_subplot_axes(ax,rect,axisbg='w'):\n",
    "    fig = plt.gcf()\n",
    "    box = ax.get_position()\n",
    "    width = box.width\n",
    "    height = box.height\n",
    "    inax_position  = ax.transAxes.transform(rect[0:2])\n",
    "    transFigure = fig.transFigure.inverted()\n",
    "    infig_position = transFigure.transform(inax_position)    \n",
    "    x = infig_position[0]\n",
    "    y = infig_position[1]\n",
    "    width *= rect[2]\n",
    "    height *= rect[3]  \n",
    "    subax = fig.add_axes([x,y,width,height],facecolor=axisbg)  \n",
    "    x_labelsize = subax.get_xticklabels()[0].get_size()\n",
    "    y_labelsize = subax.get_yticklabels()[0].get_size()\n",
    "    x_labelsize *= rect[2]**0.5\n",
    "    y_labelsize *= rect[3]**0.5\n",
    "    subax.xaxis.set_tick_params(labelsize=x_labelsize)\n",
    "    subax.yaxis.set_tick_params(labelsize=y_labelsize)\n",
    "    return subax\n",
    "    "
   ]
  },
  {
   "cell_type": "code",
   "execution_count": null,
   "id": "d8d1983d-0811-478f-a212-3d5e8d9009eb",
   "metadata": {},
   "outputs": [],
   "source": [
    "def plot_fit_results(plotter=None,edges=None,x=None,counts=None,savepath =None, pvalue = None, logscale = True,\n",
    "                    label_gen_data = \"counts_rep\"):\n",
    "    rc('text', usetex=False)\n",
    "    rc('font', family='serif', size=20)\n",
    "    rc('figure', figsize=(12,8))\n",
    "    rc('axes',linewidth=2)\n",
    "\n",
    "    \n",
    "    bins = counts.shape[0]\n",
    "    res =plotter.get_fit(None)\n",
    "    if x is None:\n",
    "        step = edges[1]-edges[0]\n",
    "        xhist = np.linspace(edges[0]+step/2,edges[-1]-step/2,bins)\n",
    "    else:\n",
    "        step = x[1]-x[0]\n",
    "        xhist = x\n",
    "    gs = gridspec.GridSpec(2, 1,height_ratios=[3,1])\n",
    "    gs.update(wspace = 0.4, hspace=0.1)\n",
    "\n",
    "    ax = plt.subplot(gs[0, 0])\n",
    "    ax.hist(xhist,weights=counts,bins=counts.shape[0],histtype=\"step\",color='k',range=(xhist[0]-step/2,xhist[-1]+step/2))\n",
    "    yfit = np.mean(res.stan_variables()[label_gen_data],axis=0)\n",
    "    std_fit = np.std(res.stan_variables()[label_gen_data],axis=0)\n",
    "    ax.plot(xhist,yfit,c='r',lw=0.4)\n",
    "    ax.fill_between(xhist,yfit,yfit+std_fit,color='r',alpha=0.3)\n",
    "    ax.fill_between(xhist,yfit,yfit-std_fit,color='r',alpha=0.3)\n",
    "\n",
    "    ax.set_ylabel(\"Counts / \"+str(np.round(step,2)) + \" eV\")\n",
    "    ax.set_xlim(xhist[0],xhist[-1])\n",
    "    if logscale == True:\n",
    "        ax.set_yscale(\"log\")\n",
    "    ax.set_ylim(0.1)\n",
    "    #ax.grid(True,which=\"both\",alpha=0.6)\n",
    "    ax.set_xticklabels([],fontsize=0)\n",
    "\n",
    "    ax = plt.subplot(gs[1, 0])\n",
    "    if pvalue is None:\n",
    "        ax.plot(xhist,(counts-yfit)/std_fit,ls=\"\",marker='o',color='k',ms=2,lw=0.2)\n",
    "        ax.axhline(0,color=\"b\",ls=\"--\")\n",
    "        ax.set_xlabel(\"Energy (eV)\")\n",
    "        ax.set_ylabel(r\"r ($\\sigma$)\")\n",
    "        #ax.grid(alpha=0.6)\n",
    "        ax.set_yticks([-3,-2,-1,0,1,2,3])\n",
    "        ax.set_yticklabels([-3,-2,-1,0,1,2,3],fontsize=15)\n",
    "        ax.set_xlim(xhist[0],xhist[-1])\n",
    "        ax.set_ylim(-4,4)\n",
    "    else:\n",
    "        ax.plot(xhist,pvalue,ls=\"\",marker='o',color='k',ms=2)\n",
    "        ax.set_xlabel(\"Energy (eV)\")\n",
    "        ax.set_ylabel(r\"p-value\")\n",
    "        ax.set_yticks([0,0.25,0.5,0.75,1])\n",
    "        ax.set_yticklabels([0,0.25,0.5,0.75,1],fontsize=15)\n",
    "        ax.set_xlim(xhist[0],xhist[-1])\n",
    "\n",
    "\n",
    "    if savepath is not None:\n",
    "        plt.savefig(savepath,bbox_inches='tight')\n",
    "    plt.show()\n",
    "    plt.rcdefaults()\n",
    "    return"
   ]
  },
  {
   "cell_type": "code",
   "execution_count": 1,
   "id": "947bd145-784b-4fc6-ad36-14751b26b949",
   "metadata": {},
   "outputs": [],
   "source": [
    "from decimal import Decimal\n",
    "\n",
    "def plot_Prior_Post(variables_name=[],variables_name2=[],ncol=4,prior_label = \"prior_fit\",posterior_label = None,\n",
    "                   savefig=None):\n",
    "    rc('text', usetex=False)\n",
    "    rc('font', family='serif', size=15)\n",
    "    rc('figure', figsize=(12,8))\n",
    "    rc('axes',linewidth=2)\n",
    "\n",
    "    nrow = len(variables_name)//ncol\n",
    "    if  len(variables_name)% ncol != 0:\n",
    "        nrow += 1\n",
    "\n",
    "    gs = gridspec.GridSpec(nrow, ncol)\n",
    "    gs.update(wspace = 0.4, hspace=0.5)\n",
    "\n",
    "    nr = 0\n",
    "    nc = 0\n",
    "    for i in range(len(variables_name)):\n",
    "        if nc == ncol:\n",
    "            nr +=1\n",
    "            nc = 0\n",
    "        ax = plt.subplot(gs[nr, nc])\n",
    "        nc +=1\n",
    "        varprior = plotter.get_fit(prior_label).stan_variables()[variables_name[i]]\n",
    "        varpost = plotter.get_fit(posterior_label).stan_variables()[variables_name[i]]\n",
    "        xmin = np.min(varprior)\n",
    "        xmax = np.max([np.max(varprior),np.max(varpost)])\n",
    "\n",
    "        rect = [0.7,0.8,0.5,0.3]\n",
    "        subax = add_subplot_axes(ax,rect)\n",
    "        subax.set_yticks([])\n",
    "        subax.set_xticks([])\n",
    "        subax.text(0.5,0.4,variables_name2[i],horizontalalignment='center',verticalalignment='center',transform=subax.transAxes)\n",
    "\n",
    "        counts, edge = np.histogram(varpost,bins=100,range=(xmin,xmax))\n",
    "        xb = (edge[:-1] + edge[1:]) / 2\n",
    "        ax.hist(xb,weights=counts/np.max(counts),histtype=\"step\",color=\"firebrick\",bins=100,range=(xmin,xmax))\n",
    "        counts, edge = np.histogram(varprior,bins=100,range=(xmin,xmax))\n",
    "        xb = (edge[:-1] + edge[1:]) / 2\n",
    "        ax.hist(xb,weights=counts/np.max(counts),histtype=\"step\",color=\"darkblue\",bins=100,range=(xmin,xmax))\n",
    "        ax.set_xlim(xmin,xmax)\n",
    "\n",
    "        if ((xmin <= 1e-4) | (xmin>=1e4) | ((xmax>=1e4))):\n",
    "            ss = xmax-xmin\n",
    "            ax.set_xticks([xmin+0.15*ss,xmax-0.15*ss],\n",
    "                         ['%.1E'%Decimal(xmin+0.15*ss),'%.1E'%Decimal(xmax-0.15*ss)])\n",
    "        else:\n",
    "            if xmin <=1e2:\n",
    "                ax.set_xticks([np.round(xmin,1),np.round(xmin+(xmax-xmin)/2,1),np.round(xmax,1)])\n",
    "            else:\n",
    "                ax.set_xticks([np.round(xmin,0),np.round(xmin+(xmax-xmin)/2,0),np.round(xmax,0)])\n",
    "        ax.set_yticks([])\n",
    "    if savefig is not None:\n",
    "        plt.savefig(savefig)\n",
    "    plt.show()\n",
    "    plt.rcdefaults()"
   ]
  },
  {
   "cell_type": "code",
   "execution_count": null,
   "id": "21e5dc9a-41c4-473e-864b-e0361cc29e9a",
   "metadata": {},
   "outputs": [],
   "source": [
    "from matplotlib.colors import LogNorm\n",
    "from matplotlib.pyplot import *\n",
    "\n",
    "def plot_par1_par2(plotter=None,posterior_label = None,pname1 = \"\",pname2 = \"\",bins=(50,50),savefig=None):\n",
    "    rc('text', usetex=False)\n",
    "    rc('font', family='serif', size=20)\n",
    "    rc('figure', figsize=(12,8))\n",
    "    rc('axes',linewidth=2)\n",
    "\n",
    "    res =plotter.get_fit(posterior_label)\n",
    "\n",
    "    gs = gridspec.GridSpec(2, 2)\n",
    "    gs.update(wspace = 0.0, hspace=0.0)\n",
    "\n",
    "    ax = plt.subplot(gs[1, 0])\n",
    "\n",
    "    counts,xbins,ybins,_ = ax.hist2d(res.stan_variables()[pname1].flatten(),res.stan_variables()[pname2].flatten(),bins=bins,cmin=1)\n",
    "    #ax.set_xlim(np.min(res.stan_variables()[pname2].flatten()))\n",
    "    ax.set_ylabel(pname1)\n",
    "    ax.set_xlabel(pname2)\n",
    "    xlim = ax.get_xlim()\n",
    "    ylim = ax.get_ylim()\n",
    "\n",
    "\n",
    "    ax = plt.subplot(gs[1, 1])\n",
    "    FF = res.stan_variables()[pname2]\n",
    "    ax.hist(FF,bins=100,range=(ylim[0],ylim[1]),histtype=\"step\",color='k',density=True,lw=2,orientation=\"horizontal\")\n",
    "    ax.set_ylim(ylim)\n",
    "    ax.set_yticks([])\n",
    "    ax.set_xticks([])\n",
    "\n",
    "    ax = plt.subplot(gs[0, 0])\n",
    "    FF = res.stan_variables()[pname1]\n",
    "    ax.hist(FF,bins=100,range=(xlim[0],xlim[1]),histtype=\"step\",color='k',density=True,lw=2)\n",
    "    ax.set_xlim(xlim)\n",
    "    ax.set_yticks([])\n",
    "    ax.set_xticks([])\n",
    "    if savefig is not None:\n",
    "        plt.savefig(savefig)\n",
    "    plt.show()\n",
    "    plt.rcdefaults()"
   ]
  },
  {
   "cell_type": "code",
   "execution_count": null,
   "id": "f76ce3cd-755a-4f7c-9898-02ae02346584",
   "metadata": {},
   "outputs": [],
   "source": [
    "from scipy import stats\n",
    "\n",
    "def plot_PearsonCorr(plotter=None,posterior_label=None,variables_name=[],variables_name2=[],fontsize=10,savefig=None):\n",
    "    corr_mat = np.zeros((len(variables_name),len(variables_name)))\n",
    "\n",
    "    nv = len(variables_name)\n",
    "    for j in range(len(variables_name)):\n",
    "        nvar1 = variables_name[j] \n",
    "        varpost1 = (plotter.get_fit(posterior_label).stan_variables()[nvar1]).flatten()\n",
    "    \n",
    "        for i in range(len(variables_name)):\n",
    "            nvar2 =  variables_name[i] \n",
    "            varpost2 = (plotter.get_fit(posterior_label).stan_variables()[nvar2]).flatten()\n",
    "            corr_mat[j,i] = stats.pearsonr(varpost1, varpost2)[0]\n",
    "    corr_mat2 = corr_mat.copy()\n",
    "    corr_mat[np.arange(nv),np.arange(nv)] = np.zeros(nv)\n",
    "    plt.matshow(corr_mat2,cmap=\"coolwarm\",vmin = -np.max(np.abs(corr_mat)),vmax = np.max(np.abs(corr_mat)))\n",
    "    plt.xticks(np.arange(len(variables_name2)),variables_name2,fontsize=fontsize,rotation=90)\n",
    "    plt.yticks(np.arange(len(variables_name2)),variables_name2,fontsize=fontsize)\n",
    "\n",
    "    cb = plt.colorbar()\n",
    "    if savefig is not None:\n",
    "        plt.savefig(savefig)\n",
    "    plt.show()    "
   ]
  },
  {
   "cell_type": "markdown",
   "id": "58504fbb-28a0-4c6c-a231-f74df05bc76d",
   "metadata": {
    "jp-MarkdownHeadingCollapsed": true
   },
   "source": [
    "# Load model"
   ]
  },
  {
   "cell_type": "code",
   "execution_count": null,
   "id": "a07476dd-9475-4c97-b453-968fb16584ff",
   "metadata": {},
   "outputs": [],
   "source": [
    "from cmdstanpy import CmdStanModel\n",
    "import baynes\n",
    "\n",
    "# dic is optional, if you want to use it, it will overwrite default options\n",
    "dic ={\n",
    "    \"cpp_options\": {\n",
    "      \"STAN_THREADS\": True,\n",
    "      \"jN\": 4\n",
    "    },\n",
    "    \"stanc_options\": {\n",
    "      \"include-paths\": \"/home/installs/work/baynes/stan/include\"\n",
    "    }\n",
    "}\n",
    "\n",
    "model = CmdStanModel(stan_file=\"/home/matteo/Scrivania/lavoracci/Bayes/models/Ho_roi_shakeoff.stan\",**baynes.get_config()[\"STAN_COMPILER_KWARGS\"])\n",
    "# uncomment the following line if you want to use dic options\n",
    "#model = CmdStanModel(stan_file=\"/home/mborghesi/Desktop/stan/stan_models/Ho_par_roi.stan\",**dic) "
   ]
  },
  {
   "cell_type": "markdown",
   "id": "d2af207b-94b8-4681-a0f2-f9bda03874a9",
   "metadata": {
    "jp-MarkdownHeadingCollapsed": true
   },
   "source": [
    "# Load data"
   ]
  },
  {
   "cell_type": "markdown",
   "id": "1611b2ea-e5bf-44c0-8c39-18fc106c0df9",
   "metadata": {},
   "source": [
    "Load the data block for STAN.\n",
    "\n",
    "The data block will be a python dictionary named \"data\""
   ]
  },
  {
   "cell_type": "markdown",
   "id": "9f847631-fed3-4116-b0f1-f12e00661817",
   "metadata": {
    "jp-MarkdownHeadingCollapsed": true
   },
   "source": [
    "## Option 1: From json"
   ]
  },
  {
   "cell_type": "code",
   "execution_count": null,
   "id": "b6a52c48-86fb-4184-aabe-c05193b9c465",
   "metadata": {},
   "outputs": [],
   "source": [
    "import json\n",
    "# Opening JSON file \n",
    "f = open('/home/matteo/Scrivania/lavoracci/Juno/notebook/FixNuSpectra.json') \n",
    "\n",
    "# returns JSON object as a list \n",
    "data_2 = json.load(f) \n",
    "data = data_2.copy() #data is the dictionary with the info for the data block"
   ]
  },
  {
   "cell_type": "code",
   "execution_count": null,
   "id": "5d35a602-8115-401d-b3a6-92ca5eb57159",
   "metadata": {},
   "outputs": [],
   "source": [
    "# in these lines you can change the data code manually (optional)\n",
    "par_value1 = 0.5\n",
    "\n",
    "data[\"par_name1\"] = par_value1"
   ]
  },
  {
   "cell_type": "markdown",
   "id": "341a91bb-fb87-41c1-be6a-fcbfd368abde",
   "metadata": {
    "jp-MarkdownHeadingCollapsed": true
   },
   "source": [
    "## Option 2: Custom (from txt)"
   ]
  },
  {
   "cell_type": "markdown",
   "id": "14b30d9a-e04f-4b0d-90b8-82ad0cbdfc04",
   "metadata": {},
   "source": [
    "At the end of this section, the important variables will be:\n",
    "\n",
    "**COUNTS** array with the bin entries. Size (n)\n",
    "\n",
    "**EDGES** array with the bin edges. Size (n+1)"
   ]
  },
  {
   "cell_type": "code",
   "execution_count": null,
   "id": "a9e00837-ea2e-4b12-bd24-f1e84b2f7809",
   "metadata": {},
   "outputs": [],
   "source": [
    "# Load data from a txt file \n",
    "fdata = \"MockAsimov.dat\" #path for a txt file with the data. Data format: column 1 -> bin centers ; column 2 -> counts\n",
    "\n",
    "energy_file,counts_file =np.loadtxt(fdata).T\n",
    "\n",
    "step = energy_file[1]-energy_file[0]\n",
    "\n",
    "plt.hist(energy_file,weights=counts_file,bins=counts_file.shape[0],histtype=\"step\",color='k',range=(energy_file[0]-step/2,energy_file[-1]+step/2))\n",
    "\n",
    "plt.yscale(\"log\")\n",
    "plt.ylabel(\"Counts / \"+str(energy_file[1]-energy_file[0]) + \" eV\")\n",
    "plt.xlabel(\"Energy [eV]\")\n",
    "plt.xlim(energy_file[0],energy_file[-1])\n",
    "plt.yscale(\"log\")\n",
    "plt.show()"
   ]
  },
  {
   "cell_type": "code",
   "execution_count": null,
   "id": "e06a9215-840f-4870-b85d-c050fa677b09",
   "metadata": {},
   "outputs": [],
   "source": [
    "# Select data to fit\n",
    "\n",
    "Emin = 2250\n",
    "Emax = 3500\n",
    "\n",
    "ii = np.where((energy_file>=Emin)&(energy_file<=Emax))[0]\n",
    "step = energy_file[1]-energy_file[0]\n",
    "bins=len(ii)\n",
    "xhist = energy_file[ii]\n",
    "Emin = energy_file[ii][0]\n",
    "Emax = energy_file[ii][-1]\n",
    "COUNTS = counts_file[ii]\n",
    "EDGES = np.arange(xhist[0]-step/2,xhist[-1]+step,step)\n",
    "COUNTS = COUNTS.astype(int)\n",
    "\n",
    "plt.hist(xhist,weights=counts_file[ii],bins=len(ii),histtype=\"step\",color='k',range=(xhist[0]-step/2,xhist[-1]+step/2))\n",
    "plt.yscale(\"log\")\n",
    "plt.ylabel(\"Counts / \"+str(step) + \" eV\")\n",
    "plt.xlabel(\"Energy [eV]\")\n",
    "plt.xlim(energy_file[ii][0],energy_file[ii][-1])\n",
    "plt.yscale(\"log\")\n",
    "plt.show()"
   ]
  },
  {
   "cell_type": "code",
   "execution_count": null,
   "id": "9a7d8427-de3e-4b6e-8fe4-ef5b692d009d",
   "metadata": {},
   "outputs": [],
   "source": [
    "p_value1 = 6\n",
    "p_value1_std = 0.01\n",
    "p_value2 = [33,66]\n",
    "p_value2_std = [2,4]\n",
    "\n",
    "data={'counts': COUNTS.tolist(),\n",
    "      'x': EDGES.tolist(),\n",
    "      'p_name1': p_value1,\n",
    "      'p_name1_std':p_value1_std,\n",
    "      'p_name2': p_value2,\n",
    "      \"p_name2_std\": p_value2_std,\n",
    "     }"
   ]
  },
  {
   "cell_type": "markdown",
   "id": "e1ffe8e0-a95e-4838-997e-6fbd85b2403e",
   "metadata": {
    "jp-MarkdownHeadingCollapsed": true
   },
   "source": [
    "# Prior predictive check"
   ]
  },
  {
   "cell_type": "code",
   "execution_count": null,
   "id": "9407c79c-14c1-4bab-8c45-5c569af0ca9c",
   "metadata": {},
   "outputs": [],
   "source": [
    "data[\"prior\"] = 1\n",
    "prior_fit = model.sample(data,\n",
    "                         chains=4,\n",
    "                         iter_warmup=100,\n",
    "                         iter_sampling=1000,show_console=False, #set show_console = True for debugging\n",
    "                         #sig_figs=9  # uncomment this line if your parameters have very small value.\n",
    "                        )\n",
    "\n",
    "plotter = FitPlotter(prior_fit, fit_title='prior_fit')  #create the plotter object for the prior data.\n",
    "                                                        #The prior data will be stored in with the label \"prior_fit\""
   ]
  },
  {
   "cell_type": "code",
   "execution_count": null,
   "id": "1d95969c-913b-4411-aa28-377adeee6d6b",
   "metadata": {},
   "outputs": [],
   "source": [
    "name_generated_data = 'counts_rep' #the variable name in the STAN code for the generated data\n",
    "name_y_data = \"y\"                  #the variable name in the STAN code for the y\n",
    "\n",
    "plotter.predictive_check(name_generated_data,\n",
    "                         data=data,\n",
    "                         data_key=name_y_data)"
   ]
  },
  {
   "cell_type": "code",
   "execution_count": null,
   "id": "d793ea51-cbaf-437f-bbe8-8fd7c12ff45e",
   "metadata": {},
   "outputs": [],
   "source": [
    "#plotter.kde_plot(hue='variable')  #plot the prior distribution for all the parameters\n",
    "                                   #to see all the options, check the help for the functions"
   ]
  },
  {
   "cell_type": "markdown",
   "id": "2eae1286-f54a-414e-8e1b-68b03deeedbd",
   "metadata": {},
   "source": [
    "# Posterior(s) evaluation"
   ]
  },
  {
   "cell_type": "code",
   "execution_count": null,
   "id": "d37fffd1-c06b-42cb-a572-99a9797b209e",
   "metadata": {},
   "outputs": [],
   "source": [
    "n_chains = 4\n",
    "init_files = inits_from_priors(model, prior_fit, n_chains)\n",
    "print(init_files)"
   ]
  },
  {
   "cell_type": "code",
   "execution_count": null,
   "id": "a4202f96-bdc6-4bc6-9bb0-5f9ab2555359",
   "metadata": {},
   "outputs": [],
   "source": [
    "fit_label = \"\"  #give a name for the fit. Optional\n",
    "\n",
    "data['prior'] = 0\n",
    "fit = model.sample(data,\n",
    "                   chains=n_chains,\n",
    "                   iter_warmup=500,\n",
    "                   iter_sampling=1000,\n",
    "                   save_warmup=True,\n",
    "                   inits=init_files,\n",
    "                   show_console=False,\n",
    "                   #sig_figs=9\n",
    "                   )\n",
    "plotter.add_fit(fit, fit_title=fit_label)\n",
    "\n",
    "print(fit.diagnose())\n",
    "plotter.convergence_plot(initial_steps=100)"
   ]
  },
  {
   "cell_type": "code",
   "execution_count": null,
   "id": "7d439132-dfe9-4bdc-9fb1-4fdc42b71c37",
   "metadata": {},
   "outputs": [],
   "source": [
    "name_generated_data = 'counts_rep' #the variable name in the STAN code for the generated data\n",
    "name_y_data = \"y\"                  #the variable name in the STAN code for the y\n",
    "\n",
    "plotter.predictive_check(name_generated_data,\n",
    "                         data=data,\n",
    "                         data_key=name_y_data)"
   ]
  },
  {
   "cell_type": "code",
   "execution_count": null,
   "id": "92b5c1c8-8bb8-475a-ac8f-b8613c06a0e4",
   "metadata": {},
   "outputs": [],
   "source": [
    "plot_fit_results(plotter,edges=EDGES,counts=COUNTS,savepath=None)"
   ]
  },
  {
   "cell_type": "code",
   "execution_count": null,
   "id": "33a58ae8-27fa-458c-95b5-60d10fd0b99f",
   "metadata": {},
   "outputs": [],
   "source": [
    "#plotter.kde_plot(hue='variable')  #plot the prior distribution for all the parameters\n",
    "                                   #to see all the options, check the help for the functions"
   ]
  },
  {
   "cell_type": "code",
   "execution_count": null,
   "id": "2e08e55e-f09b-44d8-96c2-204443345a56",
   "metadata": {},
   "outputs": [],
   "source": [
    "#plotter.pair_grid() #plot the triangular plot for all the posterios. Useful to check for collerations?\n",
    "                                    #to see all the options, check the help for the functions"
   ]
  },
  {
   "cell_type": "code",
   "execution_count": null,
   "id": "f739294b-26cc-40af-b8ff-af1b8cdc7184",
   "metadata": {},
   "outputs": [],
   "source": [
    "variables_name = [\"p1\",\"p2\"] #variables name in STAN\n",
    "variables_name2 = [r\"$p_1$\",r\"p_2\"] #name for display\n",
    "spath = None #path for saving the figure. None to not save\n",
    "\n",
    "plot_Prior_Post(variables_name,variables_name2,ncol=4,prior_label=\"prior_fit\",posterior_label=None,savefig=spath)"
   ]
  },
  {
   "cell_type": "code",
   "execution_count": null,
   "id": "05edb5b5-f976-480f-9c6a-7ce387567731",
   "metadata": {},
   "outputs": [],
   "source": [
    "variables_name = [\"p1\",\"p2\"] #variables name in STAN\n",
    "variables_name2 = [r\"$p_1$\",r\"p_2\"] #name for display\n",
    "spath = None #path for saving the figure. None to not save\n",
    "\n",
    "plot_PearsonCorr(plotter=plotter,variables_name=variables_name,variables_name2=variables_name2)"
   ]
  },
  {
   "cell_type": "code",
   "execution_count": null,
   "id": "b88e4efd-ba77-4c4d-8705-c618e64b1463",
   "metadata": {},
   "outputs": [],
   "source": [
    "p1 = \"\"\n",
    "p2 = \"\"\n",
    "spath = None #path for saving the figure. None to not save\n",
    "\n",
    "plot_par1_par2(plotter=plotter,posterior_label = None,pname1 = p1,pname2 = p2,bins=(50,50),savefig=None):"
   ]
  },
  {
   "cell_type": "markdown",
   "id": "fd8ae3fc-f016-4d07-a35c-971b1dc35ef6",
   "metadata": {
    "jp-MarkdownHeadingCollapsed": true
   },
   "source": [
    "# Simple cmd for the plotter object"
   ]
  },
  {
   "cell_type": "code",
   "execution_count": null,
   "id": "64498ecc-66d3-4c89-9788-68ab51e1dd2b",
   "metadata": {},
   "outputs": [],
   "source": [
    "# to extract the fit results from the plotter object given a certain label\n",
    "label = \"\"\n",
    "\n",
    "results = plotter.get_fit(label)"
   ]
  },
  {
   "cell_type": "code",
   "execution_count": null,
   "id": "786bcf44-a0e5-4de4-8928-69ed4d27ca15",
   "metadata": {},
   "outputs": [],
   "source": [
    "# to get the sample from the posterior given a parameter name\n",
    "pname = \"\"\n",
    "variable = results.stan_variables()[pname]"
   ]
  }
 ],
 "metadata": {
  "kernelspec": {
   "display_name": "Python 3 (ipykernel)",
   "language": "python",
   "name": "python3"
  },
  "language_info": {
   "codemirror_mode": {
    "name": "ipython",
    "version": 3
   },
   "file_extension": ".py",
   "mimetype": "text/x-python",
   "name": "python",
   "nbconvert_exporter": "python",
   "pygments_lexer": "ipython3",
   "version": "3.10.16"
  }
 },
 "nbformat": 4,
 "nbformat_minor": 5
}

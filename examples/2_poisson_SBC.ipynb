{
 "cells": [
  {
   "cell_type": "code",
   "execution_count": null,
   "id": "55ab4355",
   "metadata": {},
   "outputs": [],
   "source": [
    "import seaborn as sns\n",
    "import numpy as np\n",
    "import arviz as az\n",
    "import pandas as pd\n",
    "from scipy import stats\n",
    "from baynes import get_model, multithreaded_run\n",
    "\n",
    "import cmdstanpy\n",
    "import logging\n",
    "cmdstanpy.utils.get_logger().setLevel(logging.ERROR)"
   ]
  },
  {
   "attachments": {},
   "cell_type": "markdown",
   "id": "0caaaa9a",
   "metadata": {},
   "source": [
    "# Simulation-Based-Calibration of poisson model"
   ]
  },
  {
   "cell_type": "code",
   "execution_count": null,
   "id": "880e7dc2",
   "metadata": {},
   "outputs": [],
   "source": [
    "model = get_model('poisson_SBC.stan')\n",
    "print(model.code())"
   ]
  },
  {
   "cell_type": "markdown",
   "id": "be62f93b",
   "metadata": {},
   "source": [
    "### Run the model many times with multithreading"
   ]
  },
  {
   "cell_type": "code",
   "execution_count": null,
   "id": "e4935a18",
   "metadata": {},
   "outputs": [],
   "source": [
    "N_ranks = 200\n",
    "thinning = 2\n",
    "\n",
    "def run_SBC(model):\n",
    "    data = {'N': 500, 'alpha':5, 'beta':1, 'alpha_true':5, 'beta_true':1}\n",
    "    fit = model.sample(data,\n",
    "                         chains=1,\n",
    "                         iter_warmup=200,\n",
    "                         iter_sampling= (N_ranks - 1) * thinning,\n",
    "                         save_warmup=False,\n",
    "                         show_progress=False,\n",
    "                         thin=thinning)\n",
    "    df = fit.draws_pd('lt_lambda')\n",
    "    rank = np.sum(df.to_numpy())\n",
    "    return rank\n",
    "\n",
    "rank = multithreaded_run(run_SBC, [model]*400, 4)"
   ]
  },
  {
   "cell_type": "markdown",
   "id": "c328ec94",
   "metadata": {},
   "source": [
    "### ECDF difference plot"
   ]
  },
  {
   "cell_type": "code",
   "execution_count": null,
   "id": "d366d9e4",
   "metadata": {},
   "outputs": [],
   "source": [
    "pdf = stats.uniform(0,N_ranks)\n",
    "ax = az.plot_ecdf(rank, cdf = pdf.cdf, difference=True,  plot_kwargs={'alpha':1, 'zorder':5}, fill_kwargs={'color': 'grey'})\n",
    "ax.set_xlabel('rank')\n",
    "ax.set_ylabel('ECDF difference')\n",
    "ax.plot([0]*200, ls='--', color='black', alpha=0.4, zorder=0)"
   ]
  },
  {
   "cell_type": "markdown",
   "id": "eab858dd",
   "metadata": {},
   "source": [
    "### Histogram and $\\chi^2$ test"
   ]
  },
  {
   "cell_type": "code",
   "execution_count": null,
   "id": "3e7a4b3d",
   "metadata": {},
   "outputs": [],
   "source": [
    "def SBC_histogram(data, n_bins, percs=[0.05, 0.95]):\n",
    "    if isinstance(data, str):\n",
    "        data = pd.read_json(data)\n",
    "    elif isinstance(data, dict):\n",
    "        data = pd.DataFrame.from_dict(data)\n",
    "    hist = sns.displot(data.melt(value_name='rank'), bins=n_bins, kind='hist', x='rank', col='variable', col_wrap=2, alpha=1)\n",
    "    pdf = stats.binom(len(data), 1/n_bins)\n",
    "    hist.set_titles(\"\")\n",
    "    for ax in hist.axes.flatten():\n",
    "        xlim = ax.get_xlim()\n",
    "        ax.fill_between(ax.get_xlim(), pdf.ppf(percs[0]), pdf.ppf(percs[1]), color='grey', alpha=0.20, zorder=0)\n",
    "        ax.axhline(pdf.median(), color='grey', alpha=0.50, zorder=0)\n",
    "        ax.set_xlim(xlim)\n",
    "        ax.grid(visible=False)\n",
    "    return hist"
   ]
  },
  {
   "cell_type": "code",
   "execution_count": null,
   "id": "722efda2",
   "metadata": {},
   "outputs": [],
   "source": [
    "N_bins = 20\n",
    "hist = SBC_histogram({'lambda':rank}, N_bins)\n",
    "exp = len(rank)/N_bins\n",
    "counts, bins=np.histogram(rank, bins=N_bins)\n",
    "chi_test = sum([(a-exp)**2/exp for a in counts])\n",
    "p_value = stats.chi2.sf(chi_test, N_bins)\n",
    "print(\"p-value: \", p_value)"
   ]
  }
 ],
 "metadata": {
  "kernelspec": {
   "display_name": "baynesenv",
   "language": "python",
   "name": "baynesenv"
  },
  "language_info": {
   "codemirror_mode": {
    "name": "ipython",
    "version": 3
   },
   "file_extension": ".py",
   "mimetype": "text/x-python",
   "name": "python",
   "nbconvert_exporter": "python",
   "pygments_lexer": "ipython3",
   "version": "3.10.12"
  },
  "toc": {
   "base_numbering": 1,
   "nav_menu": {},
   "number_sections": true,
   "sideBar": true,
   "skip_h1_title": false,
   "title_cell": "Table of Contents",
   "title_sidebar": "Contents",
   "toc_cell": false,
   "toc_position": {},
   "toc_section_display": true,
   "toc_window_display": true
  }
 },
 "nbformat": 4,
 "nbformat_minor": 5
}

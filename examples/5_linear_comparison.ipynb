{
 "cells": [
  {
   "cell_type": "code",
   "execution_count": null,
   "id": "55ab4355",
   "metadata": {},
   "outputs": [],
   "source": [
    "import matplotlib.pyplot as plt\n",
    "import seaborn as sns\n",
    "import arviz as az\n",
    "import numpy as np\n",
    "import pandas as pd\n",
    "from baynes import FitPlotter, get_model, hdi"
   ]
  },
  {
   "cell_type": "markdown",
   "id": "632f8401",
   "metadata": {},
   "source": [
    "# Model comparison of simple linear fit"
   ]
  },
  {
   "cell_type": "code",
   "execution_count": null,
   "id": "a9e23c1b",
   "metadata": {},
   "outputs": [],
   "source": [
    "N = 21\n",
    "x = np.linspace(0, 10, N)\n",
    "\n",
    "alpha = 0.5\n",
    "beta = 0.4\n",
    "sigma = 0.5\n",
    "\n",
    "y = alpha + beta * (x + np.random.normal(0, sigma, N))\n",
    "data = {'N': N, 'x': x, 'y': y, 'prior': 0}\n",
    "\n",
    "fplot = FitPlotter()\n",
    "fplot.plot(x, y)"
   ]
  },
  {
   "cell_type": "code",
   "execution_count": null,
   "id": "880e7dc2",
   "metadata": {},
   "outputs": [],
   "source": [
    "model = get_model('linear')\n",
    "model_noalpha = get_model('linear_no_intercept.stan')"
   ]
  },
  {
   "cell_type": "code",
   "execution_count": null,
   "id": "1b972c0e",
   "metadata": {},
   "outputs": [],
   "source": [
    "fit = model.sample(data)\n",
    "fplot.add_fit(fit, 'with intercept')\n",
    "fit_noalpha = model_noalpha.sample(data)\n",
    "fplot.add_fit(fit_noalpha, 'no intercept')"
   ]
  },
  {
   "cell_type": "markdown",
   "id": "daf44c3f",
   "metadata": {},
   "source": [
    "## Compare posterior predictive checks"
   ]
  },
  {
   "cell_type": "code",
   "execution_count": null,
   "id": "0f6a17f4",
   "metadata": {},
   "outputs": [],
   "source": [
    "ax = fplot.new_figure('linear_compare').subplots()\n",
    "df_tot = pd.DataFrame()\n",
    "for title, f in fplot.fits.items():\n",
    "    df = f.draws_pd('y_rep').transpose()\n",
    "    df['x']=x\n",
    "    df['fit'] = title\n",
    "    df_tot = pd.concat([df, df_tot])\n",
    "\n",
    "ax.plot(x, y, label='data', color='black')\n",
    "ax = sns.lineplot(df_tot.melt(id_vars=['x', 'fit']), x='x', y='value', hue='fit', errorbar=hdi, ax=ax, err_kws={'alpha':1}, alpha=1, zorder=0)\n",
    "plt.legend(facecolor='white', edgecolor='white')\n",
    "ax.set_ylabel('y')"
   ]
  },
  {
   "cell_type": "markdown",
   "id": "51fd856e",
   "metadata": {},
   "source": [
    "## WAIC"
   ]
  },
  {
   "cell_type": "code",
   "execution_count": null,
   "id": "9cb2fdf1",
   "metadata": {},
   "outputs": [],
   "source": [
    "df = az.compare({'no intercept': fit_noalpha, 'with intercept':fit}, ic='waic')\n",
    "print(df[['elpd_waic', 'se', 'p_waic']].to_latex(float_format=\"%.2f\"))"
   ]
  },
  {
   "cell_type": "markdown",
   "id": "72460146",
   "metadata": {},
   "source": [
    "## PSIS-LOO"
   ]
  },
  {
   "cell_type": "code",
   "execution_count": null,
   "id": "f600b062",
   "metadata": {},
   "outputs": [],
   "source": [
    "ax = fplot.new_figure('loo_khat').subplots()\n",
    "loo_noa = az.loo(fit_noalpha)\n",
    "ax = az.plot_khat(loo_noa, label = 'no intercept', ax=ax, markersize=200)\n",
    "loo = az.loo(fit)\n",
    "az.plot_khat(loo, label = 'with intercept', ax=ax, markersize=100, marker='o')\n",
    "plt.legend(bbox_to_anchor=(1.05, 0.5), facecolor='white', edgecolor='white')"
   ]
  },
  {
   "cell_type": "code",
   "execution_count": null,
   "id": "77a138f2",
   "metadata": {},
   "outputs": [],
   "source": [
    "df = az.compare({'no intercept': fit_noalpha, 'with intercept':fit})\n",
    "print(df[['elpd_loo', 'se', 'p_loo']].to_latex(float_format=\"%.2f\"))"
   ]
  }
 ],
 "metadata": {
  "kernelspec": {
   "display_name": "baynesenv",
   "language": "python",
   "name": "baynesenv"
  },
  "language_info": {
   "codemirror_mode": {
    "name": "ipython",
    "version": 3
   },
   "file_extension": ".py",
   "mimetype": "text/x-python",
   "name": "python",
   "nbconvert_exporter": "python",
   "pygments_lexer": "ipython3",
   "version": "3.10.12"
  },
  "toc": {
   "base_numbering": 1,
   "nav_menu": {},
   "number_sections": true,
   "sideBar": true,
   "skip_h1_title": false,
   "title_cell": "Table of Contents",
   "title_sidebar": "Contents",
   "toc_cell": false,
   "toc_position": {},
   "toc_section_display": true,
   "toc_window_display": true
  }
 },
 "nbformat": 4,
 "nbformat_minor": 5
}

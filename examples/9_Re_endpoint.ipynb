{
 "cells": [
  {
   "cell_type": "code",
   "execution_count": 1,
   "metadata": {},
   "outputs": [],
   "source": [
    "%load_ext autoreload"
   ]
  },
  {
   "cell_type": "code",
   "execution_count": 10,
   "id": "c28cb47d",
   "metadata": {},
   "outputs": [],
   "source": [
    "%autoreload 2\n",
    "import logging\n",
    "import seaborn as sns\n",
    "import numpy as np\n",
    "import cmdstanpy\n",
    "\n",
    "from baynes.plotter import FitPlotter\n",
    "from baynes.toyMC import SpectraSampler\n",
    "from baynes.analysis import standard_analysis, multithreaded_run\n",
    "from baynes.probability import HoSpectrum, hdi, ptolemy\n",
    "from baynes.model_utils import get_model\n",
    "from numba import njit, prange\n",
    "\n",
    "from sympy import symbols, sin, diff, erf, exp, sqrt, Piecewise, And\n",
    "from sympy.utilities.lambdify import lambdify\n",
    "from scipy.special import gamma\n",
    "from scipy.constants import elementary_charge, hbar, c, electron_mass\n",
    "\n",
    "from math import erf, exp, sqrt\n",
    "import matplotlib.pyplot as plt\n",
    "\n",
    "cmdstanpy.utils.get_logger().setLevel(logging.ERROR)\n",
    "coeffs = np.loadtxt(\"parameters.dat\")[:,1:]\n",
    "\n",
    "from scipy.constants import hbar, c\n",
    "\n"
   ]
  },
  {
   "cell_type": "markdown",
   "metadata": {},
   "source": [
    "# TODO\n",
    "- Preliminare:\n",
    "    * normalizzazione\n",
    "    * media di bin vicini\n",
    "- Sensitivity analitica\n",
    "- Base:\n",
    "    * Prior $m_\\nu$\n",
    "    * andamento statistica m=0\n",
    "    * andamento m=0.3\n",
    "- Sistematiche:\n",
    "    * Qs 0.1 per statistica bassa e alta\n",
    "    * Qs 0.01 per statistica alta\n",
    "    * FWHM per alta?\n",
    "\n",
    "Confronto con beta?"
   ]
  },
  {
   "cell_type": "code",
   "execution_count": 3,
   "metadata": {},
   "outputs": [
    {
     "data": {
      "text/plain": [
       "(-10.0, 10.0)"
      ]
     },
     "execution_count": 3,
     "metadata": {},
     "output_type": "execute_result"
    },
    {
     "data": {
      "image/png": "[encoded data removed]",
      "text/plain": [
       "<Figure size 640x480 with 1 Axes>"
      ]
     },
     "metadata": {},
     "output_type": "display_data"
    }
   ],
   "source": [
    "me = 510998.95\n",
    "mT = 931.49410242e6*3.01604928;\n",
    "mhe3 = 931.49410242e6*3.0160293;\n",
    "mhe = mhe3 - me + 24.6\n",
    "Q = mT - mhe - me;\n",
    "Krec = 3.44;\n",
    "K0 = Q-Krec\n",
    "g_to_ev = 5.6095883571872E+32\n",
    "dE = 0.001\n",
    "E = np.arange(Q-20, Q+5, dE)\n",
    "m_nu=0.2\n",
    "y = 1e-3*365*24*3600*ptolemy(E, coeffs, m_nu, Q)\n",
    "plt.plot(E-K0, y)\n",
    "plt.yscale(\"log\")\n",
    "plt.ylim(1e-4, 1e12)\n",
    "plt.xlim(-10, 10)"
   ]
  },
  {
   "cell_type": "code",
   "execution_count": 11,
   "metadata": {},
   "outputs": [],
   "source": [
    "@njit(parallel=True)\n",
    "def ptolemyint(E, coeffs, m_nu, Q=18589.8):\n",
    "    \"\"\"Compute the b-decay spectrum of tritium in graphene.\"\"\"\n",
    "    y = 0\n",
    "    me = 510998.95\n",
    "    mhe3 = 931.49410242e6*3.0160293\n",
    "    lambda_val = 4.21e-5\n",
    "    eps0 = 5.76\n",
    "    Gf = 1.1663787e-23\n",
    "    Vud = 0.97373\n",
    "    gsq = (Gf*Vud)**2 * (1+(1.25*1.65)**2)\n",
    "    NH3=1/1.66054e-24/3.01604928\n",
    "\n",
    "    const_discrspe=NH3*gsq*lambda_val**2/(4 * np.pi**3 * 6.582119e-16)\n",
    "    const_contspe=NH3*gsq*lambda_val/(2 * np.pi**(7./2.) * 6.582119e-16)\n",
    "\n",
    "\n",
    "    i_disc = lambda_val / (2 * np.pi**3)\n",
    "    pb = np.sqrt(E**2 + 2 * E * me)\n",
    "\n",
    "    for k in prange(64):\n",
    "        Qn = Q - coeffs[k][0]\n",
    "        pn = coeffs[k][1]\n",
    "        an = coeffs[k][2]\n",
    "        bn = coeffs[k][3]\n",
    "        cn = coeffs[k][4]\n",
    "        E_nu = Qn - E\n",
    "        if E_nu >= m_nu:\n",
    "            xb = (pb - pn) / pn\n",
    "            y += (\n",
    "                const_discrspe\n",
    "                * pb\n",
    "                * (E + me)\n",
    "                * np.sqrt(E_nu**2 - m_nu**2)\n",
    "                * E_nu\n",
    "                * (an + xb * lambda_val * pn * (2 * bn - lambda_val * pn * cn))\n",
    "            )\n",
    "\n",
    "    i_cont = 1 / (np.pi ** (7. / 2.))\n",
    "    QKE = Q - E - eps0\n",
    "    if QKE >= m_nu:\n",
    "        b = -pb + np.sqrt(2 * mhe3 * (QKE - m_nu))\n",
    "        bl = b * lambda_val\n",
    "        pl = pb * lambda_val\n",
    "        expbl = np.exp(-(bl**2))\n",
    "        exppl = np.exp(-(pl**2))\n",
    "        erfplbl = erf(pl) + erf(bl)\n",
    "        pb2_2mhe3 = pb ** 2 / (2 * mhe3)\n",
    "        kinf2 = np.sqrt(1 - (m_nu / (4.0 + QKE - pb2_2mhe3)) ** 2)\n",
    "        I0 = (\n",
    "            np.sqrt(np.pi)\n",
    "            / (2 * lambda_val)\n",
    "            * pb\n",
    "            * (QKE - pb2_2mhe3) ** 2\n",
    "            * erfplbl\n",
    "        )\n",
    "        I1 = (\n",
    "            1\n",
    "            / (2 * lambda_val**2)\n",
    "            * (QKE - pb2_2mhe3)\n",
    "            * (QKE - 5.0 * pb2_2mhe3)\n",
    "            * (exppl - expbl)\n",
    "        )\n",
    "        I2 = (\n",
    "            1\n",
    "            / (4 * lambda_val**3)\n",
    "            * ((5.0 * pb2_2mhe3 - 3.0 * QKE) * pb / mhe3)\n",
    "            * (-2 * pl * exppl - 2 * bl * expbl + np.sqrt(np.pi) * erfplbl)\n",
    "        )\n",
    "        I3 = (\n",
    "            1\n",
    "            / (2 * lambda_val**4)\n",
    "            * ((5.0 * pb2_2mhe3 - QKE) / mhe3)\n",
    "            * (exppl * (1 + pl**2) - expbl * (1 + bl**2))\n",
    "        )\n",
    "        I4 = (\n",
    "            5\n",
    "            * pb\n",
    "            / (32 * mhe3**2 * lambda_val**5)\n",
    "            * (\n",
    "                -expbl * (6 * bl + 4 * bl**3)\n",
    "                - exppl * (6.0 * pl + 4 * pl**3)\n",
    "                + 3 * np.sqrt(np.pi) * erfplbl\n",
    "            )\n",
    "        )\n",
    "        I5 = (\n",
    "            1\n",
    "            / (8 * mhe3**2 * lambda_val**6)\n",
    "            * (\n",
    "                exppl * (2 + 2 * pl**2 + pl**4)\n",
    "                - expbl * (2.0 + 2.0 * bl**2 + bl**4)\n",
    "            )\n",
    "        )\n",
    "        y += const_contspe * (E + me) * kinf2 * (I0 + I1 + I2 + I3 + I4 + I5)\n",
    "\n",
    "    #norm = lambda_val * gsq / (2*mhe3)\n",
    "\n",
    "    return y"
   ]
  },
  {
   "cell_type": "code",
   "execution_count": 13,
   "metadata": {},
   "outputs": [
    {
     "name": "stderr",
     "output_type": "stream",
     "text": [
      "/tmp/ipykernel_6057/2447121553.py:2: IntegrationWarning: The maximum number of subdivisions (50) has been achieved.\n",
      "  If increasing the limit yields no improvement it is advised to analyze \n",
      "  the integrand in order to determine the difficulties.  If the position of a \n",
      "  local difficulty can be determined (singularity, discontinuity) one will \n",
      "  probably gain from splitting up the interval and calling the integrator \n",
      "  on the subranges.  Perhaps a special-purpose integrator should be used.\n",
      "  integrate.quad(ptolemyint, Q-10, Q, args = tuple([coeffs, m_nu, Q]))\n"
     ]
    },
    {
     "data": {
      "text/plain": [
       "(916.164987663027, 0.0003005129572102305)"
      ]
     },
     "execution_count": 13,
     "metadata": {},
     "output_type": "execute_result"
    }
   ],
   "source": [
    "from scipy import integrate\n",
    "integrate.quad(ptolemyint, Q-10, Q, args = tuple([coeffs, m_nu, Q]))"
   ]
  },
  {
   "cell_type": "code",
   "execution_count": 6,
   "metadata": {},
   "outputs": [
    {
     "ename": "TypingError",
     "evalue": "Failed in nopython mode pipeline (step: nopython frontend)\nNo implementation of function Function(<built-in function getitem>) found for signature:\n \n >>> getitem(array(int64, 0d, C), int64)\n \nThere are 22 candidate implementations:\n      - Of which 20 did not match due to:\n      Overload of function 'getitem': File: <numerous>: Line N/A.\n        With argument(s): '(array(int64, 0d, C), int64)':\n       No match.\n      - Of which 2 did not match due to:\n      Overload in function 'GetItemBuffer.generic': File: numba/core/typing/arraydecl.py: Line 209.\n        With argument(s): '(array(int64, 0d, C), int64)':\n       Rejected as the implementation raised a specific error:\n         NumbaTypeError: cannot index array(int64, 0d, C) with 1 indices: [int64]\n  raised from /home/pietro/work/TESI/BAYNES/baynesenv/lib/python3.10/site-packages/numba/core/typing/arraydecl.py:131\n\nDuring: typing of intrinsic-call at /home/pietro/work/TESI/BAYNES/baynes/baynes/probability.py (137)\n\nFile \"../baynes/probability.py\", line 137:\ndef ptolemy(E, coeffs, m_nu, Q=18589.8):\n    <source elided>\n        for j in range(N):\n            E_nu = Qn - E[j]\n            ^\n",
     "output_type": "error",
     "traceback": [
      "\u001b[0;31m---------------------------------------------------------------------------\u001b[0m",
      "\u001b[0;31mTypingError\u001b[0m                               Traceback (most recent call last)",
      "\u001b[1;32m/home/pietro/work/TESI/BAYNES/baynes/examples/9_Re_endpoint.ipynb Cell 7\u001b[0m line \u001b[0;36m1\n\u001b[0;32m----> <a href='vscode-notebook-cell:/home/pietro/work/TESI/BAYNES/baynes/examples/9_Re_endpoint.ipynb#W6sZmlsZQ%3D%3D?line=0'>1</a>\u001b[0m ptolemy(\u001b[39m1\u001b[39;49m, coeffs, m_nu, Q)\n",
      "File \u001b[0;32m~/work/TESI/BAYNES/baynesenv/lib/python3.10/site-packages/numba/core/dispatcher.py:468\u001b[0m, in \u001b[0;36m_DispatcherBase._compile_for_args\u001b[0;34m(self, *args, **kws)\u001b[0m\n\u001b[1;32m    464\u001b[0m         msg \u001b[39m=\u001b[39m (\u001b[39mf\u001b[39m\u001b[39m\"\u001b[39m\u001b[39m{\u001b[39;00m\u001b[39mstr\u001b[39m(e)\u001b[39m.\u001b[39mrstrip()\u001b[39m}\u001b[39;00m\u001b[39m \u001b[39m\u001b[39m\\n\u001b[39;00m\u001b[39m\\n\u001b[39;00m\u001b[39mThis error may have been caused \u001b[39m\u001b[39m\"\u001b[39m\n\u001b[1;32m    465\u001b[0m                \u001b[39mf\u001b[39m\u001b[39m\"\u001b[39m\u001b[39mby the following argument(s):\u001b[39m\u001b[39m\\n\u001b[39;00m\u001b[39m{\u001b[39;00margs_str\u001b[39m}\u001b[39;00m\u001b[39m\\n\u001b[39;00m\u001b[39m\"\u001b[39m)\n\u001b[1;32m    466\u001b[0m         e\u001b[39m.\u001b[39mpatch_message(msg)\n\u001b[0;32m--> 468\u001b[0m     error_rewrite(e, \u001b[39m'\u001b[39;49m\u001b[39mtyping\u001b[39;49m\u001b[39m'\u001b[39;49m)\n\u001b[1;32m    469\u001b[0m \u001b[39mexcept\u001b[39;00m errors\u001b[39m.\u001b[39mUnsupportedError \u001b[39mas\u001b[39;00m e:\n\u001b[1;32m    470\u001b[0m     \u001b[39m# Something unsupported is present in the user code, add help info\u001b[39;00m\n\u001b[1;32m    471\u001b[0m     error_rewrite(e, \u001b[39m'\u001b[39m\u001b[39munsupported_error\u001b[39m\u001b[39m'\u001b[39m)\n",
      "File \u001b[0;32m~/work/TESI/BAYNES/baynesenv/lib/python3.10/site-packages/numba/core/dispatcher.py:409\u001b[0m, in \u001b[0;36m_DispatcherBase._compile_for_args.<locals>.error_rewrite\u001b[0;34m(e, issue_type)\u001b[0m\n\u001b[1;32m    407\u001b[0m     \u001b[39mraise\u001b[39;00m e\n\u001b[1;32m    408\u001b[0m \u001b[39melse\u001b[39;00m:\n\u001b[0;32m--> 409\u001b[0m     \u001b[39mraise\u001b[39;00m e\u001b[39m.\u001b[39mwith_traceback(\u001b[39mNone\u001b[39;00m)\n",
      "\u001b[0;31mTypingError\u001b[0m: Failed in nopython mode pipeline (step: nopython frontend)\nNo implementation of function Function(<built-in function getitem>) found for signature:\n \n >>> getitem(array(int64, 0d, C), int64)\n \nThere are 22 candidate implementations:\n      - Of which 20 did not match due to:\n      Overload of function 'getitem': File: <numerous>: Line N/A.\n        With argument(s): '(array(int64, 0d, C), int64)':\n       No match.\n      - Of which 2 did not match due to:\n      Overload in function 'GetItemBuffer.generic': File: numba/core/typing/arraydecl.py: Line 209.\n        With argument(s): '(array(int64, 0d, C), int64)':\n       Rejected as the implementation raised a specific error:\n         NumbaTypeError: cannot index array(int64, 0d, C) with 1 indices: [int64]\n  raised from /home/pietro/work/TESI/BAYNES/baynesenv/lib/python3.10/site-packages/numba/core/typing/arraydecl.py:131\n\nDuring: typing of intrinsic-call at /home/pietro/work/TESI/BAYNES/baynes/baynes/probability.py (137)\n\nFile \"../baynes/probability.py\", line 137:\ndef ptolemy(E, coeffs, m_nu, Q=18589.8):\n    <source elided>\n        for j in range(N):\n            E_nu = Qn - E[j]\n            ^\n"
     ]
    }
   ],
   "source": [
    "ptolemy(1, coeffs, m_nu, Q)"
   ]
  },
  {
   "cell_type": "code",
   "execution_count": 242,
   "metadata": {},
   "outputs": [
    {
     "ename": "TypeError",
     "evalue": "object of type 'int' has no len()",
     "output_type": "error",
     "traceback": [
      "\u001b[0;31m---------------------------------------------------------------------------\u001b[0m",
      "\u001b[0;31mTypeError\u001b[0m                                 Traceback (most recent call last)",
      "\u001b[1;32m/home/pietro/work/TESI/BAYNES/baynes/examples/9_Re_endpoint.ipynb Cell 8\u001b[0m line \u001b[0;36m1\n\u001b[0;32m----> <a href='vscode-notebook-cell:/home/pietro/work/TESI/BAYNES/baynes/examples/9_Re_endpoint.ipynb#Y101sZmlsZQ%3D%3D?line=0'>1</a>\u001b[0m \u001b[39mlen\u001b[39;49m(\u001b[39m1\u001b[39;49m)\n",
      "\u001b[0;31mTypeError\u001b[0m: object of type 'int' has no len()"
     ]
    }
   ],
   "source": [
    "len(1)"
   ]
  },
  {
   "cell_type": "code",
   "execution_count": 216,
   "metadata": {},
   "outputs": [
    {
     "name": "stdout",
     "output_type": "stream",
     "text": [
      "3521942035.4075804\n"
     ]
    }
   ],
   "source": [
    "print(sum(y)*dE)"
   ]
  },
  {
   "cell_type": "code",
   "execution_count": 155,
   "metadata": {},
   "outputs": [],
   "source": [
    "from math import factorial, exp, log, sqrt, pi\n",
    "\n",
    "@njit\n",
    "def poisson(N, mean):\n",
    "    if mean == 0:\n",
    "        return 0\n",
    "    elif N > 100:\n",
    "        return exp(-(N-mean)**2/(2*N))/ sqrt(- 2* pi*sqrt(N))\n",
    "    elif N == 0:\n",
    "        return N*log(mean) - mean - 1\n",
    "    else:\n",
    "        return N*log(mean) - mean - 1 - N*(N-1)/2\n",
    "\n",
    "\n",
    "@njit\n",
    "def likelihood(N, bin_edges, data, coeffs, m, Q):\n",
    "    y_edges = ptolemy(bin_edges, coeffs, m, Q)\n",
    "    y_centers = (y_edges[1:]+y_edges[0:-1])/2\n",
    "    y_centers = y_centers* sum(data)/sum(y_centers)\n",
    "    likelihood = 0\n",
    "   # for i in prange(N):\n",
    "    #    likelihood+=poisson(data[i], y_centers[i])\n",
    "    return y_centers\n",
    "\n",
    "def loggaus(x, mu, sigma):\n",
    "    return -(x-mu)**2/(2*sigma**2) - pi*sigma"
   ]
  },
  {
   "cell_type": "code",
   "execution_count": 159,
   "metadata": {},
   "outputs": [
    {
     "ename": "AttributeError",
     "evalue": "module 'numpy' has no attribute 'factorial'",
     "output_type": "error",
     "traceback": [
      "\u001b[0;31m---------------------------------------------------------------------------\u001b[0m",
      "\u001b[0;31mAttributeError\u001b[0m                            Traceback (most recent call last)",
      "\u001b[1;32m/home/pietro/work/TESI/BAYNES/baynes/examples/9_Re_endpoint.ipynb Cell 7\u001b[0m line \u001b[0;36m1\n\u001b[0;32m----> <a href='vscode-notebook-cell:/home/pietro/work/TESI/BAYNES/baynes/examples/9_Re_endpoint.ipynb#X62sZmlsZQ%3D%3D?line=0'>1</a>\u001b[0m np\u001b[39m.\u001b[39mexp(np\u001b[39m.\u001b[39;49mfactorial(\u001b[39m30\u001b[39m))\n",
      "File \u001b[0;32m~/work/TESI/BAYNES/baynesenv/lib/python3.10/site-packages/numpy/__init__.py:333\u001b[0m, in \u001b[0;36m__getattr__\u001b[0;34m(attr)\u001b[0m\n\u001b[1;32m    330\u001b[0m     \u001b[39m\"\u001b[39m\u001b[39mRemoved in NumPy 1.25.0\u001b[39m\u001b[39m\"\u001b[39m\n\u001b[1;32m    331\u001b[0m     \u001b[39mraise\u001b[39;00m \u001b[39mRuntimeError\u001b[39;00m(\u001b[39m\"\u001b[39m\u001b[39mTester was removed in NumPy 1.25.\u001b[39m\u001b[39m\"\u001b[39m)\n\u001b[0;32m--> 333\u001b[0m \u001b[39mraise\u001b[39;00m \u001b[39mAttributeError\u001b[39;00m(\u001b[39m\"\u001b[39m\u001b[39mmodule \u001b[39m\u001b[39m{!r}\u001b[39;00m\u001b[39m has no attribute \u001b[39m\u001b[39m\"\u001b[39m\n\u001b[1;32m    334\u001b[0m                      \u001b[39m\"\u001b[39m\u001b[39m{!r}\u001b[39;00m\u001b[39m\"\u001b[39m\u001b[39m.\u001b[39mformat(\u001b[39m__name__\u001b[39m, attr))\n",
      "\u001b[0;31mAttributeError\u001b[0m: module 'numpy' has no attribute 'factorial'"
     ]
    }
   ],
   "source": []
  },
  {
   "cell_type": "code",
   "execution_count": 156,
   "metadata": {},
   "outputs": [
    {
     "data": {
      "text/plain": [
       "[<matplotlib.lines.Line2D at 0x7f4ce584f1f0>]"
      ]
     },
     "execution_count": 156,
     "metadata": {},
     "output_type": "execute_result"
    },
    {
     "data": {
      "image/png": "[encoded data removed]",
      "text/plain": [
       "<Figure size 640x480 with 1 Axes>"
      ]
     },
     "metadata": {},
     "output_type": "display_data"
    }
   ],
   "source": [
    "plt.plot(likelihood(len(events), s.ROI_bin_edges, events, coeffs, 0, Q)-events)"
   ]
  },
  {
   "cell_type": "code",
   "execution_count": 139,
   "metadata": {},
   "outputs": [],
   "source": [
    "from numba import prange"
   ]
  },
  {
   "cell_type": "code",
   "execution_count": 144,
   "metadata": {},
   "outputs": [],
   "source": [
    "Qs= np.linspace(Q-2, Q+5, 50)\n",
    "ms=np.linspace(0, 1, 10)\n",
    "\n",
    "ls = [[likelihood(len(events), s.ROI_bin_edges, events, coeffs, mnu, Qval)+loggaus(Qval, Q, 0.1) for Qval in Qs] for mnu in ms]"
   ]
  },
  {
   "cell_type": "code",
   "execution_count": 145,
   "metadata": {},
   "outputs": [
    {
     "data": {
      "text/plain": [
       "<matplotlib.colorbar.Colorbar at 0x7f4ce54834f0>"
      ]
     },
     "execution_count": 145,
     "metadata": {},
     "output_type": "execute_result"
    },
    {
     "data": {
      "image/png": "[encoded data removed]",
      "text/plain": [
       "<Figure size 640x480 with 2 Axes>"
      ]
     },
     "metadata": {},
     "output_type": "display_data"
    }
   ],
   "source": [
    "plt.pcolor(Qs, ms, ls)\n",
    "plt.colorbar()"
   ]
  },
  {
   "cell_type": "code",
   "execution_count": 142,
   "metadata": {},
   "outputs": [
    {
     "data": {
      "text/plain": [
       "[[-52693.77690309125,\n",
       "  -52165.45163210593,\n",
       "  -51492.03638766887,\n",
       "  -50963.57640117665,\n",
       "  -50666.11431509421,\n",
       "  -50300.00855033801,\n",
       "  -50200.78372408101,\n",
       "  -50006.913694078125,\n",
       "  -49773.0584936024,\n",
       "  -49605.759421734074,\n",
       "  -49486.23540772728,\n",
       "  -49373.128370436,\n",
       "  -49308.22585911168,\n",
       "  -49293.59988691393,\n",
       "  -49305.950933446176,\n",
       "  -49292.614593242586,\n",
       "  -49336.8186157326,\n",
       "  -49396.68650797742,\n",
       "  -49474.26737417109,\n",
       "  -49576.251657824374,\n",
       "  -49695.172153273925,\n",
       "  -49769.53584938865,\n",
       "  -49868.60215492137,\n",
       "  -49983.95931651934,\n",
       "  -50053.63999352044,\n",
       "  -50158.69789261778,\n",
       "  -50201.36834587549,\n",
       "  -50239.27116033972,\n",
       "  -50283.16986044082,\n",
       "  -50339.5091484215,\n",
       "  -50329.563737950535,\n",
       "  -50354.262351674486,\n",
       "  -50351.18409509527,\n",
       "  -50346.80520809797,\n",
       "  -50337.19987197168,\n",
       "  -50323.62056564394,\n",
       "  -50302.36217947036,\n",
       "  -50283.70364988209,\n",
       "  -50258.61445794287,\n",
       "  -50246.71839394354,\n",
       "  -50223.194121095614,\n",
       "  -50197.56891844742,\n",
       "  -50194.34633348118,\n",
       "  -50182.082218574804,\n",
       "  -50173.1493470726,\n",
       "  -50181.67822899574,\n",
       "  -50203.75941052744,\n",
       "  -50216.25949549617,\n",
       "  -50255.56541697083,\n",
       "  -50299.21206849663],\n",
       " [-52736.60088595127,\n",
       "  -52072.29580199653,\n",
       "  -51584.082239804586,\n",
       "  -51203.13786635707,\n",
       "  -50790.38083327914,\n",
       "  -50402.11782847703,\n",
       "  -50169.79863761944,\n",
       "  -49946.66488050252,\n",
       "  -49722.63356736073,\n",
       "  -49606.79450710834,\n",
       "  -49479.8615908193,\n",
       "  -49377.6375308978,\n",
       "  -49332.20878980238,\n",
       "  -49276.280444997385,\n",
       "  -49289.26428802572,\n",
       "  -49289.37441463474,\n",
       "  -49359.10971554898,\n",
       "  -49374.021620912616,\n",
       "  -49468.97620217192,\n",
       "  -49565.782709536004,\n",
       "  -49678.58385624528,\n",
       "  -49758.08769965885,\n",
       "  -49855.70219989989,\n",
       "  -49943.67328802831,\n",
       "  -50025.9993174319,\n",
       "  -50120.231648630746,\n",
       "  -50198.47330312361,\n",
       "  -50245.460432111526,\n",
       "  -50340.22157966188,\n",
       "  -50292.813189071334,\n",
       "  -50341.466509449856,\n",
       "  -50351.78781666947,\n",
       "  -50356.15326115387,\n",
       "  -50339.26613195236,\n",
       "  -50324.7006269767,\n",
       "  -50326.41327879589,\n",
       "  -50294.77229080781,\n",
       "  -50312.08308909874,\n",
       "  -50250.24361245356,\n",
       "  -50242.28613627672,\n",
       "  -50232.67196578143,\n",
       "  -50209.85645664476,\n",
       "  -50200.548196517455,\n",
       "  -50144.46889849803,\n",
       "  -50181.82117030692,\n",
       "  -50187.249426390415,\n",
       "  -50193.90180021985,\n",
       "  -50227.1009815757,\n",
       "  -50228.80722106371,\n",
       "  -50289.54973305946],\n",
       " [-52642.71481896211,\n",
       "  -52235.16154587909,\n",
       "  -51692.36348649098,\n",
       "  -51179.537512474046,\n",
       "  -50886.173015940665,\n",
       "  -50538.541051117914,\n",
       "  -50212.418674036926,\n",
       "  -50037.547278894206,\n",
       "  -49759.2907062758,\n",
       "  -49591.60718053121,\n",
       "  -49479.61326556186,\n",
       "  -49396.49230383964,\n",
       "  -49334.7487643756,\n",
       "  -49279.85060069892,\n",
       "  -49309.63180874801,\n",
       "  -49287.65933852738,\n",
       "  -49321.14134832572,\n",
       "  -49417.13747766526,\n",
       "  -49456.80639704201,\n",
       "  -49511.26021457452,\n",
       "  -49648.59769555201,\n",
       "  -49726.93676656584,\n",
       "  -49919.1131653104,\n",
       "  -49952.99027276091,\n",
       "  -50126.469886083985,\n",
       "  -50110.49618540445,\n",
       "  -50156.220002736634,\n",
       "  -50243.04023751361,\n",
       "  -50288.4371524345,\n",
       "  -50423.39364591995,\n",
       "  -50342.96569787902,\n",
       "  -50345.64870622524,\n",
       "  -50360.720397410645,\n",
       "  -50342.85065714785,\n",
       "  -50336.02606857406,\n",
       "  -50321.36479034756,\n",
       "  -50299.93511264622,\n",
       "  -50278.8064250608,\n",
       "  -50261.789210974646,\n",
       "  -50242.33757007176,\n",
       "  -50255.307678957295,\n",
       "  -50218.30287161572,\n",
       "  -50172.17794939832,\n",
       "  -50182.69257753258,\n",
       "  -50156.19192222937,\n",
       "  -50179.19981989535,\n",
       "  -50206.15576457184,\n",
       "  -50218.02333806629,\n",
       "  -50251.973601757956,\n",
       "  -50297.50622610246],\n",
       " [-52896.067803939644,\n",
       "  -52219.398849251644,\n",
       "  -51801.662794966236,\n",
       "  -51299.05539197727,\n",
       "  -50857.53161686551,\n",
       "  -50524.32329792156,\n",
       "  -50278.6626111413,\n",
       "  -50104.25757657364,\n",
       "  -49826.707002444185,\n",
       "  -49556.30318597381,\n",
       "  -49507.479093696544,\n",
       "  -49393.76856166309,\n",
       "  -49321.931421049034,\n",
       "  -49287.72870171087,\n",
       "  -49269.13356965194,\n",
       "  -49285.2026975624,\n",
       "  -49329.313389857445,\n",
       "  -49391.6253170369,\n",
       "  -49473.59060227109,\n",
       "  -49541.79615297159,\n",
       "  -49667.00730345327,\n",
       "  -49757.87673542294,\n",
       "  -49873.9363033662,\n",
       "  -49970.31221461765,\n",
       "  -50057.21786169274,\n",
       "  -50134.08538817868,\n",
       "  -50199.58816528925,\n",
       "  -50253.12455290946,\n",
       "  -50294.69724498694,\n",
       "  -50345.74448828812,\n",
       "  -50344.205542166834,\n",
       "  -50354.02587397595,\n",
       "  -50351.84961080336,\n",
       "  -50349.88137723724,\n",
       "  -50334.31465395066,\n",
       "  -50322.83410731712,\n",
       "  -50303.86940723509,\n",
       "  -50321.55940122692,\n",
       "  -50262.05556213127,\n",
       "  -50237.319439351915,\n",
       "  -50219.20153906271,\n",
       "  -50201.36556698494,\n",
       "  -50187.12577342533,\n",
       "  -50176.23738545426,\n",
       "  -50174.24349446704,\n",
       "  -50178.05230168772,\n",
       "  -50193.564221557834,\n",
       "  -50212.083942830744,\n",
       "  -50244.41812899293,\n",
       "  -50291.507135692795],\n",
       " [-53226.735534425796,\n",
       "  -52590.05054602842,\n",
       "  -51950.0107318624,\n",
       "  -51415.58127731975,\n",
       "  -50881.81798196254,\n",
       "  -50621.681909782594,\n",
       "  -50303.20296916418,\n",
       "  -50038.19680268471,\n",
       "  -49820.168494536294,\n",
       "  -49642.36006382172,\n",
       "  -49502.206863094245,\n",
       "  -49396.05625363119,\n",
       "  -49322.58968145617,\n",
       "  -49280.05833738461,\n",
       "  -49266.18158549382,\n",
       "  -49280.905479613015,\n",
       "  -49320.10022320037,\n",
       "  -49386.75708031175,\n",
       "  -49463.21252038667,\n",
       "  -49557.13671431356,\n",
       "  -49659.279392129865,\n",
       "  -49762.29720570112,\n",
       "  -49868.83224256161,\n",
       "  -49979.826255151616,\n",
       "  -50057.93318970832,\n",
       "  -50126.85853127968,\n",
       "  -50201.96733743293,\n",
       "  -50256.07366261513,\n",
       "  -50298.02934694503,\n",
       "  -50328.32160203658,\n",
       "  -50347.81476317597,\n",
       "  -50358.75959189115,\n",
       "  -50358.93956926881,\n",
       "  -50422.372690379656,\n",
       "  -50341.55220784721,\n",
       "  -50325.49538144633,\n",
       "  -50306.20922807676,\n",
       "  -50255.400278227135,\n",
       "  -50308.949852556994,\n",
       "  -50244.61765094241,\n",
       "  -50211.545556137484,\n",
       "  -50192.52877633732,\n",
       "  -50192.047503151705,\n",
       "  -50171.748868090144,\n",
       "  -50177.67196656506,\n",
       "  -50186.071171888805,\n",
       "  -50191.78540209688,\n",
       "  -50208.63441879439,\n",
       "  -50237.877558316926,\n",
       "  -50298.452848634515],\n",
       " [-53510.31324193096,\n",
       "  -52807.52550930304,\n",
       "  -52245.17249113543,\n",
       "  -51646.04197252371,\n",
       "  -51168.36055616732,\n",
       "  -50736.56078638458,\n",
       "  -50411.07150504687,\n",
       "  -50122.6745104662,\n",
       "  -49887.77114081622,\n",
       "  -49691.34479091981,\n",
       "  -49630.04526590862,\n",
       "  -49420.74201744358,\n",
       "  -49354.03280171648,\n",
       "  -49290.241241022195,\n",
       "  -49282.905413143424,\n",
       "  -49277.70693031993,\n",
       "  -49338.640908336216,\n",
       "  -49387.118906232536,\n",
       "  -49487.946132138706,\n",
       "  -49553.802349169695,\n",
       "  -49689.44777224174,\n",
       "  -49758.376790634706,\n",
       "  -49906.106469445964,\n",
       "  -49961.35373863052,\n",
       "  -50050.86330405634,\n",
       "  -50152.786996528106,\n",
       "  -50212.87902889122,\n",
       "  -50249.65063122671,\n",
       "  -50371.15801840689,\n",
       "  -50312.58721575984,\n",
       "  -50346.26210695275,\n",
       "  -50361.92479666095,\n",
       "  -50371.94751510432,\n",
       "  -50351.86199308574,\n",
       "  -50365.564733203275,\n",
       "  -50343.43175267491,\n",
       "  -50299.450510467315,\n",
       "  -50286.60443248358,\n",
       "  -50260.034380391706,\n",
       "  -50240.420218464016,\n",
       "  -50213.37675465815,\n",
       "  -50201.379534750005,\n",
       "  -50187.85700717353,\n",
       "  -50179.30735973041,\n",
       "  -50156.69308348524,\n",
       "  -50165.72629260463,\n",
       "  -50182.03558265036,\n",
       "  -50211.454378330964,\n",
       "  -50217.35169121947,\n",
       "  -50280.85596073748],\n",
       " [-53825.967837249926,\n",
       "  -52954.58904168147,\n",
       "  -52357.33343951787,\n",
       "  -51968.66363604839,\n",
       "  -51343.52491801354,\n",
       "  -50914.88286382028,\n",
       "  -50538.175294371846,\n",
       "  -50224.29726381586,\n",
       "  -49974.0977981779,\n",
       "  -49757.85464285315,\n",
       "  -49586.78624671284,\n",
       "  -49512.401869900656,\n",
       "  -49371.3099450892,\n",
       "  -49297.52679008386,\n",
       "  -49267.781235088194,\n",
       "  -49295.83832794261,\n",
       "  -49300.28911209724,\n",
       "  -49347.20886376677,\n",
       "  -49495.59167463098,\n",
       "  -49654.74382081203,\n",
       "  -49615.36483164078,\n",
       "  -49806.28248753172,\n",
       "  -49865.617714068576,\n",
       "  -49951.52467231733,\n",
       "  -50057.34783752248,\n",
       "  -50103.08054412902,\n",
       "  -50207.60536313234,\n",
       "  -50218.632427947705,\n",
       "  -50315.094123241266,\n",
       "  -50361.14645434662,\n",
       "  -50362.25238225805,\n",
       "  -50374.843011081044,\n",
       "  -50357.46970260335,\n",
       "  -50364.9251784498,\n",
       "  -50351.03176941822,\n",
       "  -50366.30644054993,\n",
       "  -50379.87755928765,\n",
       "  -50287.79836262965,\n",
       "  -50273.826630967815,\n",
       "  -50250.36773030702,\n",
       "  -50224.58728306477,\n",
       "  -50205.843532292114,\n",
       "  -50189.29193046798,\n",
       "  -50178.73000887608,\n",
       "  -50169.05733771942,\n",
       "  -50172.18408747444,\n",
       "  -50188.01222976735,\n",
       "  -50200.52607582556,\n",
       "  -50220.69311458815,\n",
       "  -50265.356127304694],\n",
       " [-54248.110782448464,\n",
       "  -53374.525014078084,\n",
       "  -52756.59673016087,\n",
       "  -52041.578788635685,\n",
       "  -51441.376333093234,\n",
       "  -51104.63185869164,\n",
       "  -50675.4832754444,\n",
       "  -50303.26750512592,\n",
       "  -50064.10676380003,\n",
       "  -49868.03088446473,\n",
       "  -49650.91989757392,\n",
       "  -49468.31809733289,\n",
       "  -49389.231744978686,\n",
       "  -49316.61158093635,\n",
       "  -49275.085755143,\n",
       "  -49276.262332388615,\n",
       "  -49295.37617378676,\n",
       "  -49391.28933813794,\n",
       "  -49452.11214603263,\n",
       "  -49586.46873521345,\n",
       "  -49644.36588451939,\n",
       "  -49757.53095006138,\n",
       "  -49892.12810992941,\n",
       "  -49961.44228570529,\n",
       "  -50050.7595916126,\n",
       "  -50112.4736755234,\n",
       "  -50223.344642511336,\n",
       "  -50298.01686616945,\n",
       "  -50336.35746199186,\n",
       "  -50367.291995536085,\n",
       "  -50435.07811129801,\n",
       "  -50397.89309473651,\n",
       "  -50375.74196272301,\n",
       "  -50374.749712210476,\n",
       "  -50370.32830556359,\n",
       "  -50348.19859170664,\n",
       "  -50324.741210930784,\n",
       "  -50305.590991397694,\n",
       "  -50284.598010064066,\n",
       "  -50258.83308024957,\n",
       "  -50241.94383706358,\n",
       "  -50207.37202670047,\n",
       "  -50194.423124260145,\n",
       "  -50181.180860698456,\n",
       "  -50172.40229984405,\n",
       "  -50174.4060389324,\n",
       "  -50179.742428982805,\n",
       "  -50196.92466905967,\n",
       "  -50224.97685315837,\n",
       "  -50264.45557373514],\n",
       " [-54676.02650488801,\n",
       "  -53853.58504788187,\n",
       "  -52977.47209767767,\n",
       "  -52445.86893443269,\n",
       "  -51787.58836978562,\n",
       "  -51252.82930305612,\n",
       "  -50870.48414904581,\n",
       "  -50521.261198922504,\n",
       "  -50180.941728060316,\n",
       "  -49991.429507966495,\n",
       "  -49691.747264578065,\n",
       "  -49550.8030206312,\n",
       "  -49491.10449082205,\n",
       "  -49344.67006576545,\n",
       "  -49309.11319952559,\n",
       "  -49269.51427725799,\n",
       "  -49326.07598835015,\n",
       "  -49335.848356926654,\n",
       "  -49410.848956015376,\n",
       "  -49504.02777090745,\n",
       "  -49613.60727033949,\n",
       "  -49729.08246744221,\n",
       "  -49967.14354541767,\n",
       "  -49950.03920650537,\n",
       "  -50094.55291582649,\n",
       "  -50163.752216771354,\n",
       "  -50224.04500006799,\n",
       "  -50299.27870877937,\n",
       "  -50329.17332744798,\n",
       "  -50384.891462359585,\n",
       "  -50427.68478504126,\n",
       "  -50403.08382450515,\n",
       "  -50456.54581387059,\n",
       "  -50405.52088803216,\n",
       "  -50389.19122010146,\n",
       "  -50366.546422110034,\n",
       "  -50345.447764036886,\n",
       "  -50325.739407012865,\n",
       "  -50299.11260872298,\n",
       "  -50258.094147925345,\n",
       "  -50254.943882066436,\n",
       "  -50221.45477380202,\n",
       "  -50202.16601946636,\n",
       "  -50185.54563582346,\n",
       "  -50179.04304924296,\n",
       "  -50175.43599227321,\n",
       "  -50179.48234803645,\n",
       "  -50194.6732843816,\n",
       "  -50218.21981331008,\n",
       "  -50254.882935648835],\n",
       " [-55018.96179641867,\n",
       "  -54288.2038557451,\n",
       "  -53496.74409319809,\n",
       "  -52664.8073424379,\n",
       "  -52127.589890079995,\n",
       "  -51582.04556161927,\n",
       "  -51102.33537143478,\n",
       "  -50655.30408285475,\n",
       "  -50320.06028912867,\n",
       "  -50009.83066739901,\n",
       "  -49824.805690046385,\n",
       "  -49640.90441338785,\n",
       "  -49478.49468777608,\n",
       "  -49354.09419023127,\n",
       "  -49332.961817786665,\n",
       "  -49274.479496578264,\n",
       "  -49307.557233647196,\n",
       "  -49302.9058309792,\n",
       "  -49432.64813999291,\n",
       "  -49488.34053892796,\n",
       "  -49668.693962601326,\n",
       "  -49706.281389671574,\n",
       "  -49839.49148461075,\n",
       "  -49963.87538363689,\n",
       "  -50164.300365735384,\n",
       "  -50105.297317568235,\n",
       "  -50265.864274774576,\n",
       "  -50465.802328362646,\n",
       "  -50358.594391975006,\n",
       "  -50404.18176131039,\n",
       "  -50499.25115716371,\n",
       "  -50437.68423740127,\n",
       "  -50448.626331140214,\n",
       "  -50443.77883780371,\n",
       "  -50413.179601634954,\n",
       "  -50396.291598728945,\n",
       "  -50373.70974271768,\n",
       "  -50348.75337446756,\n",
       "  -50319.900670810035,\n",
       "  -50292.91672161007,\n",
       "  -50262.1560988784,\n",
       "  -50241.16490939598,\n",
       "  -50224.2071491606,\n",
       "  -50201.95064805276,\n",
       "  -50187.14451903248,\n",
       "  -50172.56339156199,\n",
       "  -50188.983929542235,\n",
       "  -50197.78658645211,\n",
       "  -50224.436255424844,\n",
       "  -50256.50161107168]]"
      ]
     },
     "execution_count": 142,
     "metadata": {},
     "output_type": "execute_result"
    }
   ],
   "source": [
    "ls"
   ]
  },
  {
   "cell_type": "code",
   "execution_count": 146,
   "metadata": {},
   "outputs": [],
   "source": [
    "logs = np.array(ls)"
   ]
  },
  {
   "cell_type": "code",
   "execution_count": 151,
   "metadata": {},
   "outputs": [
    {
     "name": "stderr",
     "output_type": "stream",
     "text": [
      "/tmp/ipykernel_14416/1777463741.py:1: RuntimeWarning: overflow encountered in exp\n",
      "  np.exp(logs-np.sum(logs))\n"
     ]
    },
    {
     "data": {
      "text/plain": [
       "array([[inf, inf, inf, inf, inf, inf, inf, inf, inf, inf, inf, inf, inf,\n",
       "        inf, inf, inf, inf, inf, inf, inf, inf, inf, inf, inf, inf, inf,\n",
       "        inf, inf, inf, inf, inf, inf, inf, inf, inf, inf, inf, inf, inf,\n",
       "        inf, inf, inf, inf, inf, inf, inf, inf, inf, inf, inf],\n",
       "       [inf, inf, inf, inf, inf, inf, inf, inf, inf, inf, inf, inf, inf,\n",
       "        inf, inf, inf, inf, inf, inf, inf, inf, inf, inf, inf, inf, inf,\n",
       "        inf, inf, inf, inf, inf, inf, inf, inf, inf, inf, inf, inf, inf,\n",
       "        inf, inf, inf, inf, inf, inf, inf, inf, inf, inf, inf],\n",
       "       [inf, inf, inf, inf, inf, inf, inf, inf, inf, inf, inf, inf, inf,\n",
       "        inf, inf, inf, inf, inf, inf, inf, inf, inf, inf, inf, inf, inf,\n",
       "        inf, inf, inf, inf, inf, inf, inf, inf, inf, inf, inf, inf, inf,\n",
       "        inf, inf, inf, inf, inf, inf, inf, inf, inf, inf, inf],\n",
       "       [inf, inf, inf, inf, inf, inf, inf, inf, inf, inf, inf, inf, inf,\n",
       "        inf, inf, inf, inf, inf, inf, inf, inf, inf, inf, inf, inf, inf,\n",
       "        inf, inf, inf, inf, inf, inf, inf, inf, inf, inf, inf, inf, inf,\n",
       "        inf, inf, inf, inf, inf, inf, inf, inf, inf, inf, inf],\n",
       "       [inf, inf, inf, inf, inf, inf, inf, inf, inf, inf, inf, inf, inf,\n",
       "        inf, inf, inf, inf, inf, inf, inf, inf, inf, inf, inf, inf, inf,\n",
       "        inf, inf, inf, inf, inf, inf, inf, inf, inf, inf, inf, inf, inf,\n",
       "        inf, inf, inf, inf, inf, inf, inf, inf, inf, inf, inf],\n",
       "       [inf, inf, inf, inf, inf, inf, inf, inf, inf, inf, inf, inf, inf,\n",
       "        inf, inf, inf, inf, inf, inf, inf, inf, inf, inf, inf, inf, inf,\n",
       "        inf, inf, inf, inf, inf, inf, inf, inf, inf, inf, inf, inf, inf,\n",
       "        inf, inf, inf, inf, inf, inf, inf, inf, inf, inf, inf],\n",
       "       [inf, inf, inf, inf, inf, inf, inf, inf, inf, inf, inf, inf, inf,\n",
       "        inf, inf, inf, inf, inf, inf, inf, inf, inf, inf, inf, inf, inf,\n",
       "        inf, inf, inf, inf, inf, inf, inf, inf, inf, inf, inf, inf, inf,\n",
       "        inf, inf, inf, inf, inf, inf, inf, inf, inf, inf, inf],\n",
       "       [inf, inf, inf, inf, inf, inf, inf, inf, inf, inf, inf, inf, inf,\n",
       "        inf, inf, inf, inf, inf, inf, inf, inf, inf, inf, inf, inf, inf,\n",
       "        inf, inf, inf, inf, inf, inf, inf, inf, inf, inf, inf, inf, inf,\n",
       "        inf, inf, inf, inf, inf, inf, inf, inf, inf, inf, inf],\n",
       "       [inf, inf, inf, inf, inf, inf, inf, inf, inf, inf, inf, inf, inf,\n",
       "        inf, inf, inf, inf, inf, inf, inf, inf, inf, inf, inf, inf, inf,\n",
       "        inf, inf, inf, inf, inf, inf, inf, inf, inf, inf, inf, inf, inf,\n",
       "        inf, inf, inf, inf, inf, inf, inf, inf, inf, inf, inf],\n",
       "       [inf, inf, inf, inf, inf, inf, inf, inf, inf, inf, inf, inf, inf,\n",
       "        inf, inf, inf, inf, inf, inf, inf, inf, inf, inf, inf, inf, inf,\n",
       "        inf, inf, inf, inf, inf, inf, inf, inf, inf, inf, inf, inf, inf,\n",
       "        inf, inf, inf, inf, inf, inf, inf, inf, inf, inf, inf]])"
      ]
     },
     "execution_count": 151,
     "metadata": {},
     "output_type": "execute_result"
    }
   ],
   "source": [
    "np.exp(logs-np.sum(logs))"
   ]
  },
  {
   "cell_type": "code",
   "execution_count": 67,
   "metadata": {},
   "outputs": [
    {
     "data": {
      "text/plain": [
       "[<matplotlib.lines.Line2D at 0x7f4ce61f80a0>]"
      ]
     },
     "execution_count": 67,
     "metadata": {},
     "output_type": "execute_result"
    },
    {
     "data": {
      "image/png": "[encoded data removed]",
      "text/plain": [
       "<Figure size 640x480 with 1 Axes>"
      ]
     },
     "metadata": {},
     "output_type": "display_data"
    }
   ],
   "source": [
    "plt.plot(events)\n",
    "plt.plot(y)"
   ]
  },
  {
   "cell_type": "code",
   "execution_count": 24,
   "metadata": {},
   "outputs": [
    {
     "data": {
      "text/plain": [
       "array([132179, 127263, 121709, 116953, 112615, 108866, 104400, 100409,\n",
       "        96763,  93119,  89027,  86745,  82856,  80807,  77284,  75312,\n",
       "        72802,  69990,  67791,  66062,  63951,  62235,  60334,  58537,\n",
       "        57394,  55531,  53937,  52856,  51408,  50164,  49248,  47495,\n",
       "        46519,  45260,  44678,  43912,  42610,  42016,  41165,  39870,\n",
       "        39056,  38285,  37713,  36342,  35845,  34550,  34463,  33125,\n",
       "        33107,  31850,  31201,  30557,  29970,  29096,  28451,  27805,\n",
       "        27100,  26540,  25603,  25370,  24088,  23982,  23061,  22745,\n",
       "        22277,  21266,  21031,  20389,  19765,  19320,  18887,  18138,\n",
       "        17418,  17167,  16597,  16362,  15550,  15035,  14623,  14075,\n",
       "        13743,  13129,  12782,  12263,  11961,  11395,  11055,  10719,\n",
       "        10159,   9917,   9599,   9123,   8767,   8478,   8098,   7794,\n",
       "         7365,   7177,   6893,   6450,   6098,   5785,   5506,   5285,\n",
       "         5087,   4843,   4557,   4223,   4116,   3776,   3616,   3315,\n",
       "         3227,   3056,   2821,   2683,   2458,   2266,   2128,   2066,\n",
       "         1927,   1756,   1661,   1452,   1377,   1279,   1206,   1055,\n",
       "         1001,    928,    776,    731,    671,    598,    556,    500,\n",
       "          480,    391,    379,    324,    272,    232,    204,    184,\n",
       "          169,    161,    125,    111,     79,     63,     62,     65,\n",
       "           50,     35,     49,     27,     21,     23,     16,      9,\n",
       "            8,      6,      7,      6,      2,      2,      3,      1,\n",
       "            1,      1,      0,      3,      0,      1,      0,      0,\n",
       "            0,      0,      0,      0,      0,      1,      0,      0,\n",
       "            0,      0,      0,      0,      0,      0,      0,      0,\n",
       "            0,      0,      0,      0,      0,      0,      0,      0,\n",
       "            0,      0,      0,      0,      0,      0,      0,      0,\n",
       "            0,      0,      0,      0,      0,      0,      0,      0,\n",
       "            0,      0,      0,      0])"
      ]
     },
     "execution_count": 24,
     "metadata": {},
     "output_type": "execute_result"
    }
   ],
   "source": [
    "events"
   ]
  },
  {
   "cell_type": "code",
   "execution_count": 25,
   "metadata": {},
   "outputs": [
    {
     "data": {
      "text/plain": [
       "373237224543.1398"
      ]
     },
     "execution_count": 25,
     "metadata": {},
     "output_type": "execute_result"
    }
   ],
   "source": [
    "np.sum(3.14e7*1000*ptolemy(E, coeffs, m_nu, Q)*1e-9)*dE"
   ]
  },
  {
   "cell_type": "code",
   "execution_count": null,
   "metadata": {},
   "outputs": [],
   "source": []
  },
  {
   "cell_type": "code",
   "execution_count": 52,
   "metadata": {},
   "outputs": [
    {
     "data": {
      "text/plain": [
       "5.609588608927036e+35"
      ]
     },
     "execution_count": 52,
     "metadata": {},
     "output_type": "execute_result"
    }
   ],
   "source": [
    "1/(1.78266192e-36)"
   ]
  },
  {
   "cell_type": "code",
   "execution_count": 26,
   "metadata": {},
   "outputs": [
    {
     "data": {
      "text/plain": [
       "18611.252170085907"
      ]
     },
     "execution_count": 26,
     "metadata": {},
     "output_type": "execute_result"
    }
   ],
   "source": [
    "mT-mhe3"
   ]
  },
  {
   "cell_type": "code",
   "execution_count": null,
   "metadata": {},
   "outputs": [],
   "source": []
  },
  {
   "cell_type": "code",
   "execution_count": null,
   "metadata": {},
   "outputs": [],
   "source": [
    "def allowed_beta(E, m_nu, Q=18589.6, Z=1):\n",
    "    me = 510998.95\n",
    "    p = np.sqrt(E**2+E*me)\n",
    "    alpha = 1/137\n",
    "    eta = Z* alpha * E/p\n",
    "    F = 2*np.pi/(1-np.exp(-2*np.pi*eta))\n",
    "    return F*p*(E+me)*(Q-E)*np.sqrt(np.clip((Q - E) ** 2 - m_nu**2, 0, None)) + 1e-8\n",
    "\n",
    "\n",
    "def allowed_betasy():\n",
    "    E = symbols(\"E\")\n",
    "    m_nu, Q = symbols(\"m_nu, Q\")\n",
    "    me = 510998.95\n",
    "    p = sqrt(E**2+E*me)\n",
    "    alpha = 1/137\n",
    "    eta = alpha * E/p\n",
    "    F = 2*np.pi/(1-exp(-2*np.pi*eta))\n",
    "    return Piecewise((F*p*(E+me)*(Q-E)*sqrt((Q - E) ** 2 - m_nu**2), And(Q-E>=m_nu, m_nu>=0, Q>=0)),(0, True))+1e-8\n",
    "\n",
    "\n",
    "m_nu = symbols(\"m_nu\")\n",
    "E = symbols(\"E\")\n",
    "Q = symbols(\"Q\")\n",
    "partial_m_beta = diff(allowed_betasy(), m_nu)\n",
    "dens_beta = 1/allowed_betasy() * (partial_m_beta**2)\n",
    "f_beta = lambdify((E, m_nu, Q), dens_beta, \"numpy\")"
   ]
  },
  {
   "cell_type": "code",
   "execution_count": null,
   "metadata": {},
   "outputs": [],
   "source": [
    "def ptolemysym(coeffs):\n",
    "    \"\"\"Compute the b-decay spectrum of tritium in graphene.\"\"\"\n",
    "    E = symbols(\"E\")\n",
    "    y = symbols(\"y\")\n",
    "    m_nu, Q = symbols(\"m_nu, Q\")\n",
    "    me = 510998.95\n",
    "    mhe3 = 2809413505.67592\n",
    "    lambda_val = 4.21e-5\n",
    "    eps0 = 5.76\n",
    "\n",
    "    i_disc = lambda_val / (2 * np.pi**3)\n",
    "    pb = sqrt(E**2 + 2 * E * me)\n",
    "\n",
    "    y = 0\n",
    "    for k in range(64):\n",
    "        Qn = Q - coeffs[k][0]\n",
    "        pn = coeffs[k][1]\n",
    "        an = coeffs[k][2]\n",
    "        bn = coeffs[k][3]\n",
    "        cn = coeffs[k][4]\n",
    "        E_nu = Qn - E\n",
    "        xb = (pb - pn) / pn\n",
    "        y += Piecewise((i_disc * pb * (E + me) * sqrt(E_nu**2 -m_nu**2) * E_nu * (an + xb * lambda_val * pn * (2 * bn - lambda_val * pn * cn)), E_nu>=m_nu), (0, True))\n",
    "\n",
    "    i_cont = 1 / (np.pi**(7 / 2))\n",
    "    QKE = Q - E - eps0\n",
    "    b = -pb + sqrt(2 * mhe3 * (QKE - m_nu))\n",
    "    bl = b * lambda_val\n",
    "    pl = pb * lambda_val\n",
    "    expbl = exp(-bl**2)\n",
    "    exppl = exp(-pl**2)\n",
    "    erfplbl = erf(pl) + erf(bl)\n",
    "    pb2_2mhe3 = pb**2 / (2 * mhe3)\n",
    "    kinf2 = sqrt(1 - (m_nu / (4.0 + QKE - pb2_2mhe3))**2)\n",
    "    I0 = sqrt(np.pi) / (2 * lambda_val) * pb * (QKE - pb2_2mhe3)**2 * erfplbl\n",
    "    I1 = 1 / (2 * lambda_val**2) * (QKE - pb2_2mhe3) * (QKE - 5.0 * pb2_2mhe3) * (exppl - expbl)\n",
    "    I2 = 1 / (4 * lambda_val**3) * ((5.0 * pb2_2mhe3  - 3.0 * QKE)* pb / mhe3) * (\n",
    "            -2 * pl * exppl - 2 * bl * expbl + sqrt(np.pi) * erfplbl)\n",
    "    I3 = 1 / (2 * lambda_val**4) * ((5.0 * pb2_2mhe3 - QKE )/ mhe3) * (\n",
    "            exppl * (1 + pl**2) - expbl * (1 + bl**2))\n",
    "    I4 = 5 * pb / (32 * mhe3**2 * lambda_val**5) * (\n",
    "            -expbl * (6 * bl + 4 * bl**3) - exppl * (6.0 * pl + 4 * pl**3) + 3 * sqrt(np.pi) * erfplbl)\n",
    "    I5 = 1 / (8 * mhe3**2 * lambda_val**6) * (exppl * (2 + 2 * pl**2 + pl**4) - expbl * (2.0 + 2.0 * bl**2 + bl**4))\n",
    "    y += Piecewise((i_cont * (E + me) * kinf2 * (I0 + I1 + I2 + I3 + I4 + I5), QKE>=m_nu), (0, True)) + 1e-8\n",
    "\n",
    "    return y\n",
    "\n",
    "m_nu = symbols(\"m_nu\")\n",
    "E = symbols(\"E\")\n",
    "Q = symbols(\"Q\")\n",
    "\n",
    "partial_m_pt = diff(ptolemysym(coeffs), m_nu)\n",
    "dens_pt = 1/ptolemysym(coeffs) * (partial_m_pt**2)\n",
    "f_pt = lambdify((E, m_nu, Q), dens_pt, \"numpy\")\n"
   ]
  },
  {
   "cell_type": "code",
   "execution_count": null,
   "id": "404e95f7",
   "metadata": {},
   "outputs": [],
   "source": [
    "m_nu = 0.05\n",
    "Q = 18589.6\n",
    "E = np.linspace(18570, Q, 1000)\n",
    "\n",
    "pt_norm = f_pt(18000,m_nu, Q)\n",
    "beta_norm = f_beta(18000,m_nu, Q)\n",
    "\n",
    "sp1 = ptolemy(E, coeffs, m_nu, Q)\n",
    "beta = allowed_beta(E, 0)\n",
    "beta_d = np.array([f_beta(e,m_nu, Q) for e in E])\n",
    "pt_d = np.array([f_pt(e, m_nu, Q) for e in E])\n",
    "\n",
    "#for m in [0, 0.05, 0.1, 0.5, 1, 2]:\n",
    " #   plt.plot(E, ptolemy(E, coeffs, m, Q))\n",
    "#plt.plot(E, beta/sum(beta))\n",
    "#plt.plot(E, sp1/sum(sp1))\n",
    "plt.plot(E, beta_d)\n",
    "plt.plot(E, pt_d*beta_norm/pt_norm)\n",
    "plt.yscale(\"log\")\n"
   ]
  },
  {
   "cell_type": "code",
   "execution_count": null,
   "metadata": {},
   "outputs": [],
   "source": [
    "m = 0.0001\n",
    "A = 3.57e8\n",
    "A_T = A * 1\n",
    "bkg = 0\n",
    "FWHM= 0.1\n",
    "n_days = 3* 365\n",
    "Q=18592.01\n",
    "s_Q = 0.07\n",
    "\n",
    "\n",
    "\n",
    "\n",
    "s = SpectraSampler({'$^{163}-Ho$': [allowed_beta, [0], A_T]}, flat_bkg=bkg, FWHM=FWHM, dE=0.02, integrate=True, ROI=[18580, 18591])\n",
    "s.plot_spectrum()\n",
    "s.set_measure_time(n_days, n_det=1)\n",
    "\n",
    "events = s.sample()[0]\n",
    "s.plot_events(events)"
   ]
  },
  {
   "cell_type": "code",
   "execution_count": null,
   "id": "b283b79b",
   "metadata": {},
   "outputs": [],
   "source": [
    "m_nu=1\n",
    "Q=18592.01\n",
    "\n",
    "E = np.arange(Q-5, Q, 0.02)\n",
    "sp1 = ptolemy(E, coeffs, m_nu, Q)\n",
    "plt.plot(E, sp1)\n",
    "E = np.arange(Q-5, Q, 0.01)\n",
    "sp1 = ptolemy(E, coeffs, m_nu, Q)\n",
    "plt.plot(E, sp1)\n",
    "plt.yscale(\"log\")"
   ]
  },
  {
   "cell_type": "code",
   "execution_count": 104,
   "id": "12cbf69c",
   "metadata": {},
   "outputs": [
    {
     "data": {
      "image/png": "[encoded data removed]",
      "text/plain": [
       "<Figure size 640x480 with 1 Axes>"
      ]
     },
     "metadata": {},
     "output_type": "display_data"
    },
    {
     "data": {
      "image/png": "[encoded data removed]",
      "text/plain": [
       "<Figure size 640x480 with 1 Axes>"
      ]
     },
     "metadata": {},
     "output_type": "display_data"
    }
   ],
   "source": [
    "m = 0.2\n",
    "A = 3.57e8\n",
    "A_T = A * 1\n",
    "bkg = 0\n",
    "FWHM= 0.\n",
    "n_days = 1* 365\n",
    "s_Q = 0.07\n",
    "coeffs = np.loadtxt(\"parameters.dat\")[:,1:]\n",
    "\n",
    "me = 510998.95\n",
    "mT = 931.49410242e6*3.01604928;\n",
    "mhe3 = 931.49410242e6*3.0160293;\n",
    "mhe = mhe3 - me + 24.6\n",
    "Q = mT - mhe - me;\n",
    "Krec = 3.44;\n",
    "K0 = Q-Krec\n",
    "n_events  =3.5e9\n",
    "\n",
    "\n",
    "s = SpectraSampler({'$^{163}Ho$': [ptolemyint, [coeffs, m, Q], A_T]}, flat_bkg=bkg, FWHM=FWHM, dE=0.05, integrate=True, ROI=[Q-10, Q+1], n_events=n_events)\n",
    "s.plot_spectrum()\n",
    "#s.set_measure_time(n_days, n_det=1)\n",
    "\n",
    "events = s.sample()[0]\n",
    "s.plot_events(events)\n",
    "\n",
    "data={'N_bins': len(events),\n",
    "      'x': s.ROI_bin_centers,\n",
    "      \"N_ev\": s.n_events,\n",
    "      'counts': events,\n",
    "      'p_Q': Q,\n",
    "      'p_std_Q': s_Q,\n",
    "      'p_FWHM': FWHM,\n",
    "      'p_std_FWHM': 0.01,\n",
    "      'm_max':10,\n",
    "      \"coeffs\": coeffs,\n",
    "      \"prior\":1\n",
    "}"
   ]
  },
  {
   "cell_type": "code",
   "execution_count": 96,
   "metadata": {},
   "outputs": [],
   "source": [
    "s_sum = SpectraSampler({'$^{163}Ho$': [ptolemy, [coeffs, m, Q], A_T]}, flat_bkg=bkg, FWHM=0.1, dE=0.01, integrate=False, ROI=[Q-10, Q+1])\n",
    "sp_sum = s_sum.full_spectrum[s_sum.ROI_idx[0]:s_sum.ROI_idx[1]]"
   ]
  },
  {
   "cell_type": "code",
   "execution_count": 101,
   "metadata": {},
   "outputs": [],
   "source": [
    "N=2\n",
    "s_sum2 = SpectraSampler({'$^{163}Ho$': [ptolemy, [coeffs, m, Q], A_T]}, flat_bkg=bkg, FWHM=0.1, dE=N*0.01, integrate=False, ROI=[Q-10, Q+1])\n",
    "sp_sum2 = s_sum2.full_spectrum[s_sum2.ROI_idx[0]:s_sum2.ROI_idx[1]]"
   ]
  },
  {
   "cell_type": "code",
   "execution_count": 102,
   "metadata": {},
   "outputs": [
    {
     "name": "stderr",
     "output_type": "stream",
     "text": [
      "/tmp/ipykernel_6057/1609146173.py:1: RuntimeWarning: divide by zero encountered in divide\n",
      "  plt.plot(s_sum2.ROI_bin_centers, (np.bincount(np.arange(len(sp_sum))//N, sp_sum)/N-sp_sum2)/sp_sum2)\n",
      "/tmp/ipykernel_6057/1609146173.py:1: RuntimeWarning: invalid value encountered in divide\n",
      "  plt.plot(s_sum2.ROI_bin_centers, (np.bincount(np.arange(len(sp_sum))//N, sp_sum)/N-sp_sum2)/sp_sum2)\n"
     ]
    },
    {
     "data": {
      "text/plain": [
       "(-0.05, 0.05)"
      ]
     },
     "execution_count": 102,
     "metadata": {},
     "output_type": "execute_result"
    },
    {
     "data": {
      "image/png": "[encoded data removed]",
      "text/plain": [
       "<Figure size 640x480 with 1 Axes>"
      ]
     },
     "metadata": {},
     "output_type": "display_data"
    }
   ],
   "source": [
    "plt.plot(s_sum2.ROI_bin_centers, (np.bincount(np.arange(len(sp_sum))//N, sp_sum)/N-sp_sum2)/sp_sum2)\n",
    "plt.axvline(Q)\n",
    "plt.ylim(-0.05, 0.05)"
   ]
  },
  {
   "cell_type": "code",
   "execution_count": 52,
   "metadata": {},
   "outputs": [
    {
     "name": "stderr",
     "output_type": "stream",
     "text": [
      "/tmp/ipykernel_6057/1115375732.py:1: RuntimeWarning: invalid value encountered in divide\n",
      "  plt.plot(s.ROI_bin_centers, (np.bincount(np.arange(len(sp_sum))//2, sp_sum)/2-s.full_spectrum[s.ROI_idx[0]:s.ROI_idx[1]])/s.full_spectrum[s.ROI_idx[0]:s.ROI_idx[1]])\n"
     ]
    },
    {
     "data": {
      "text/plain": [
       "(-0.01, 0.02)"
      ]
     },
     "execution_count": 52,
     "metadata": {},
     "output_type": "execute_result"
    },
    {
     "data": {
      "image/png": "[encoded data removed]",
      "text/plain": [
       "<Figure size 640x480 with 1 Axes>"
      ]
     },
     "metadata": {},
     "output_type": "display_data"
    }
   ],
   "source": [
    "plt.plot(s.ROI_bin_centers, (np.bincount(np.arange(len(sp_sum))//2, sp_sum)/2-s.full_spectrum[s.ROI_idx[0]:s.ROI_idx[1]])/s.full_spectrum[s.ROI_idx[0]:s.ROI_idx[1]])\n",
    "plt.ylim(-0.01, 0.02)"
   ]
  },
  {
   "cell_type": "code",
   "execution_count": 35,
   "metadata": {},
   "outputs": [
    {
     "data": {
      "text/plain": [
       "[<matplotlib.lines.Line2D at 0x7f72cd2954b0>]"
      ]
     },
     "execution_count": 35,
     "metadata": {},
     "output_type": "execute_result"
    },
    {
     "data": {
      "image/png": "[encoded data removed]",
      "text/plain": [
       "<Figure size 640x480 with 1 Axes>"
      ]
     },
     "metadata": {},
     "output_type": "display_data"
    }
   ],
   "source": [
    "plt.plot(s.full_spectrum[-100:])"
   ]
  },
  {
   "cell_type": "code",
   "execution_count": null,
   "id": "e65ebd4e",
   "metadata": {},
   "outputs": [],
   "source": [
    "model= get_model(\"ptolemy_endpoint_allQs.stan\")\n",
    "\n",
    "\n",
    "\n",
    "sampler_kwargs={\n",
    "    'chains': 4,\n",
    "    'iter_warmup': 500,\n",
    "    'iter_sampling': 500,\n",
    "    'save_warmup': True,\n",
    "    'adapt_delta': 0.9,\n",
    "    \"sig_figs\": 10,\n",
    "    \"show_console\": False,\n",
    "    \"max_treedepth\": 12,\n",
    "    \"inits\": {\"m_red\": 0.01, \"z\": 0, \"Qs\":np.linspace(0.001, 6, 63)}\n",
    "}\n",
    "\n",
    "plot_pars = ['m_nu', 'Q', \"Qs[1]\", \"Qs[2]\", \"Qs[62]\", \"Qs[63]\"]\n",
    "p = FitPlotter(col_wrap=4)\n",
    "\n",
    "#fit = model.sample(data, chains=1, fixed_param=True , iter_sampling=4, iter_warmup=1)\n",
    "\n",
    "fit = standard_analysis(model, data, p, sampler_kwargs, fit_title='m=0', plot_params = plot_pars)"
   ]
  },
  {
   "cell_type": "code",
   "execution_count": null,
   "id": "79005bc8",
   "metadata": {},
   "outputs": [],
   "source": [
    "plot_pars = ['m_nu', 'Q', \"Qs[1]\", \"Qs[2]\", \"Qs[62]\", \"Qs[63]\"]\n",
    "p.pair_grid(parameters=plot_pars)"
   ]
  },
  {
   "cell_type": "code",
   "execution_count": null,
   "id": "1556585b",
   "metadata": {},
   "outputs": [],
   "source": [
    "model= get_model(\"ptolemy_endpoint.stan\")\n",
    "\n",
    "sampler_kwargs={\n",
    "    'chains': 4,\n",
    "    'iter_warmup': 500,\n",
    "    'iter_sampling': 500,\n",
    "    'save_warmup': True,\n",
    "    'adapt_delta': 0.9,\n",
    "    \"sig_figs\": 10,\n",
    "    \"show_console\": False,\n",
    "    \"inits\": {\"m_red\": 0.01, \"z\": 0}\n",
    "}\n",
    "\n",
    "plot_pars = ['m_nu', 'Q']\n",
    "p = FitPlotter(col_wrap=4)\n",
    "\n",
    "#fit = model.sample(data, chains=1, fixed_param=True , iter_sampling=4, iter_warmup=1)\n",
    "\n",
    "fit_noQs = standard_analysis(model, data, p, sampler_kwargs, fit_title='m=0', plot_params = plot_pars)"
   ]
  },
  {
   "cell_type": "code",
   "execution_count": null,
   "metadata": {},
   "outputs": [],
   "source": [
    "p.pair_grid(parameters=['m_nu', 'Q'])"
   ]
  },
  {
   "cell_type": "code",
   "execution_count": null,
   "id": "97c34074",
   "metadata": {},
   "outputs": [],
   "source": [
    "m = 0.05\n",
    "A = 3.57e8\n",
    "A_T = A * 100\n",
    "bkg = 0\n",
    "FWHM= 0.1\n",
    "n_days = 3* 365\n",
    "Q=18592.01\n",
    "s_Q = 0.07\n",
    "coeffs = np.loadtxt(\"parameters.dat\")[:,1:]\n",
    "model= get_model(\"ptolemy_endpoint.stan\")\n",
    "\n",
    "\n",
    "def nu_mass_fit(m):\n",
    "\n",
    "    s = SpectraSampler({'$^{163}Ho$': [ptolemy, [coeffs, m, Q], A_T]}, flat_bkg=bkg, FWHM=FWHM, dE=0.01, integrate=False, ROI=[Q-5, Q+0.5])\n",
    "    s.set_measure_time(n_days, n_det=1)\n",
    "    events = s.sample()[0]\n",
    "\n",
    "    data={'N_bins': len(events),\n",
    "          'x': s.ROI_bin_centers,\n",
    "          \"N_ev\": s.n_events,\n",
    "          'counts': events,\n",
    "          'p_Q': Q,\n",
    "          'p_std_Q': s_Q,\n",
    "          'p_FWHM': FWHM,\n",
    "          'p_std_FWHM': 0.01,\n",
    "          'm_max':10,\n",
    "          \"coeffs\": coeffs,\n",
    "          \"prior\":0\n",
    "    }\n",
    "\n",
    "\n",
    "    inits={}\n",
    "    inits['m_nu_red'] = np.random.uniform(0,0.05)\n",
    "    inits['z'] = np.random.normal(0, 0.1)\n",
    "\n",
    "    sampler_kwargs={\n",
    "        'chains': 1,\n",
    "        'iter_warmup': 500,\n",
    "        'iter_sampling': 1000,\n",
    "        'save_warmup': False,\n",
    "        'adapt_delta': 0.9,\n",
    "        \"sig_figs\": 10,\n",
    "        \"show_console\": False,\n",
    "        \"show_progress\": False,\n",
    "        \"inits\": inits\n",
    "    }\n",
    "\n",
    "    fit = model.sample(data, **sampler_kwargs)\n",
    "    return fit\n",
    "\n",
    "n_fits = 64\n",
    "n_processes = 32\n",
    "result = multithreaded_run(nu_mass_fit, [m]*n_fits, n_processes)"
   ]
  },
  {
   "cell_type": "code",
   "execution_count": null,
   "id": "5ed91233",
   "metadata": {},
   "outputs": [],
   "source": [
    "a=1\n",
    "def f():\n",
    "    return a"
   ]
  },
  {
   "cell_type": "code",
   "execution_count": null,
   "id": "7cfe93a6",
   "metadata": {},
   "outputs": [],
   "source": [
    "data = {}\n",
    "efficiency = [0.1, 1, 10, 100]\n",
    "for e in efficiency:\n",
    "    A_T = A * e\n",
    "    data[e] = multithreaded_run(nu_mass_fit, [m]*n_fits, n_processes)\n",
    "\n",
    "data_array = {}\n",
    "for key, item in data.items():\n",
    "    posteriors = []\n",
    "    for fit in item:\n",
    "        posteriors.append(fit.draws_pd()['m_nu'].to_numpy().flatten())\n",
    "    posteriors = np.array(posteriors)\n",
    "    data_array[key] = posteriors\n",
    "dict_to_json(data_array, \"ptolemy/m0.json\")"
   ]
  },
  {
   "cell_type": "code",
   "execution_count": null,
   "id": "789f24fa",
   "metadata": {},
   "outputs": [],
   "source": [
    "data = {}\n",
    "m_nus = [0.05, 0.1, 0.3, 0.5]\n",
    "for m in m_nus:\n",
    "    A_T = A * 100\n",
    "    data[m] = multithreaded_run(nu_mass_fit, [m]*n_fits, n_processes)\n",
    "\n",
    "m_data_array = {}\n",
    "for key, item in data.items():\n",
    "    posteriors = []\n",
    "    for fit in item:\n",
    "        posteriors.append(fit.draws_pd()['m_nu'].to_numpy().flatten())\n",
    "    posteriors = np.array(posteriors)\n",
    "    m_data_array[key] = posteriors\n",
    "dict_to_json(m_data_array, \"ptolemy/msweep100.json\")"
   ]
  },
  {
   "cell_type": "code",
   "execution_count": null,
   "id": "22fce12e",
   "metadata": {},
   "outputs": [],
   "source": [
    "from baynes import dict_to_json\n",
    "\n",
    "data_array = {}\n",
    "for key, item in data.items():\n",
    "    posteriors = []\n",
    "    for fit in item:\n",
    "        posteriors.append(fit.draws_pd()['m_nu'].to_numpy().flatten())\n",
    "    posteriors = np.array(posteriors)\n",
    "    data_array[key] = posteriors\n",
    "dict_to_json(data_array, \"ptolemy/m0.json\")"
   ]
  },
  {
   "attachments": {},
   "cell_type": "markdown",
   "id": "8fdaef80",
   "metadata": {},
   "source": [
    "### Plot the posteriors for $m_\\nu$ and combine their samples in a histogram. The upper limit on the parameter's estimate is given by the confidence interval of this distribution."
   ]
  },
  {
   "cell_type": "code",
   "execution_count": null,
   "id": "c1a4130d",
   "metadata": {},
   "outputs": [],
   "source": [
    "posteriors = []\n",
    "for fit in data[0.05]:\n",
    "    posteriors.append(fit.draws_pd()['m_nu'].to_numpy().flatten())\n",
    "posteriors = np.array(posteriors)\n",
    "\n",
    "ax = p.new_figure('multi').subplots()\n",
    "sns.boxplot(posteriors.transpose(), whis=[2.5, 95], showfliers=False, palette='flare', ax=ax)\n",
    "ax.figure.set_size_inches(25, 5)\n",
    "ax.set_xticks([])\n",
    "ax.set_ylabel('m_nu', fontsize=25)\n",
    "\n",
    "\n",
    "full = posteriors.flatten()\n",
    "ax = p.new_figure('multi').subplots()\n",
    "x_max=1\n",
    "\n",
    "prob = 0.68\n",
    "print( str(prob*100) + '% highest density interval: ', hdi(full, prob=prob))\n",
    "ax.axvspan(hdi(full, prob=prob)[1], x_max, color='gray', alpha=0.2, lw=0)\n",
    "\n",
    "prob = 0.9\n",
    "print( str(prob*100) + '% highest density interval: ', hdi(full, prob=prob))\n",
    "ax.axvspan(hdi(full, prob=prob)[1], x_max, color='gray', alpha=0.2, lw=0)\n",
    "\n",
    "sns.histplot(posteriors.transpose(), bins=1000, alpha=1, multiple='stack', legend=False, lw=0., palette='flare', ax=ax)\n",
    "ax.grid(False)\n",
    "ax.set_xlim(0, x_max)\n",
    "ax.set_xlabel('m_nu', fontsize=14)\n",
    "ax.set_ylabel('counts', fontsize=14)\n",
    "ax.figure.set_size_inches(8, 5)"
   ]
  },
  {
   "cell_type": "code",
   "execution_count": null,
   "id": "1586c9d8",
   "metadata": {},
   "outputs": [],
   "source": [
    "his = []\n",
    "for key, posteriors in m_data_array.items():\n",
    "    lo, hi = hdi(posteriors.flatten(), prob=0.9)\n",
    "    his.append(hi)\n",
    "    plt.scatter([key, key], [lo,hi])\n",
    "#plt.xscale(\"log\")"
   ]
  },
  {
   "cell_type": "code",
   "execution_count": null,
   "id": "2a079f2f",
   "metadata": {},
   "outputs": [],
   "source": [
    "effs = np.log10(np.array(efficiency))\n",
    "pars = np.polyfit(np.log10(np.array(efficiency)), his, 1)"
   ]
  },
  {
   "cell_type": "code",
   "execution_count": null,
   "id": "f578c1f3",
   "metadata": {},
   "outputs": [],
   "source": [
    "plt.plot(effs, np.polyval(pars, effs))"
   ]
  },
  {
   "cell_type": "code",
   "execution_count": null,
   "id": "7e9b2113",
   "metadata": {},
   "outputs": [],
   "source": [
    "pars"
   ]
  },
  {
   "cell_type": "code",
   "execution_count": null,
   "id": "ab91925d",
   "metadata": {},
   "outputs": [],
   "source": [
    "help(np.polyval)"
   ]
  },
  {
   "cell_type": "code",
   "execution_count": null,
   "id": "9c177551",
   "metadata": {},
   "outputs": [],
   "source": []
  }
 ],
 "metadata": {
  "kernelspec": {
   "display_name": "baynesenv",
   "language": "python",
   "name": "baynesenv"
  },
  "language_info": {
   "codemirror_mode": {
    "name": "ipython",
    "version": 3
   },
   "file_extension": ".py",
   "mimetype": "text/x-python",
   "name": "python",
   "nbconvert_exporter": "python",
   "pygments_lexer": "ipython3",
   "version": "3.10.12"
  }
 },
 "nbformat": 4,
 "nbformat_minor": 5
}

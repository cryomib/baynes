{
 "cells": [
  {
   "cell_type": "code",
   "execution_count": null,
   "id": "55ab4355",
   "metadata": {},
   "outputs": [],
   "source": [
    "from baynes import *\n",
    "import matplotlib.pyplot as plt\n",
    "import seaborn as sns\n",
    "import numpy as np\n",
    "\n",
    "import cmdstanpy\n",
    "import logging\n",
    "cmdstanpy.utils.get_logger().setLevel(logging.ERROR)"
   ]
  },
  {
   "cell_type": "markdown",
   "id": "bd0df5b9",
   "metadata": {},
   "source": [
    "# Gaussian Processes"
   ]
  },
  {
   "cell_type": "code",
   "execution_count": null,
   "id": "880e7dc2",
   "metadata": {},
   "outputs": [],
   "source": [
    "def cov_exp_quad(x1, x2, alpha, rho):\n",
    "    x1 = np.asarray(x1)\n",
    "    x2 = np.asarray(x1)\n",
    "    k = []\n",
    "    for x in x1:\n",
    "        k.append((x-x2)**2)\n",
    "    return alpha**2 * np.exp(-np.array(k)/(2*rho**2))\n",
    "\n",
    "def cov_periodic(x1, x2, alpha, rho, p):\n",
    "    x1 = np.asarray(x1)\n",
    "    x2 = np.asarray(x1)\n",
    "    k = []\n",
    "    for x in x1:\n",
    "        k.append(np.abs(x-x2))\n",
    "    return alpha**2 * np.exp(-2*np.sin(np.pi*np.array(k)/p)**2/(rho**2))"
   ]
  },
  {
   "cell_type": "markdown",
   "id": "25815481",
   "metadata": {},
   "source": [
    "## Generate data"
   ]
  },
  {
   "cell_type": "code",
   "execution_count": null,
   "id": "990bb70f",
   "metadata": {},
   "outputs": [],
   "source": [
    "N2=31\n",
    "x = np.linspace(0,10, N2)\n",
    "N1=11\n",
    "x1 = np.sort(np.random.choice(x, N1))\n",
    "y1 = 0.3*x1 + np.random.normal(0,0.1,N1)+ 0.5* np.sin(x1)\n",
    "plt.scatter(x1, y1)"
   ]
  },
  {
   "cell_type": "markdown",
   "id": "c9919a56",
   "metadata": {},
   "source": [
    "## Exponentiated quadratic kernel"
   ]
  },
  {
   "cell_type": "code",
   "execution_count": null,
   "id": "c4ae6892",
   "metadata": {},
   "outputs": [],
   "source": [
    "data={'N1':N1, 'N2':N2, 'x1':x1, 'x2':x, 'y1':y1}\n",
    "fit = get_model('GP_quadratic.stan').sample(data,\n",
    "                   chains=8,\n",
    "                   iter_warmup=500,\n",
    "                   iter_sampling=500,\n",
    "                   save_warmup=True,\n",
    "                   adapt_delta=0.9,\n",
    "                   inits=1)\n",
    "print(fit.diagnose())\n"
   ]
  },
  {
   "cell_type": "code",
   "execution_count": null,
   "id": "1e78d451",
   "metadata": {},
   "outputs": [],
   "source": [
    "fplot = FitPlotter(fit)\n",
    "df = fit.draws_pd(['y2']).transpose()\n",
    "df['x']=x\n",
    "df = df.melt(id_vars='x')\n",
    "ax = sns.lineplot(df, x='x', y='value', errorbar=hdi, label='GP median')\n",
    "ax.set_ylabel('y')\n",
    "sns.scatterplot(x=x1, y=y1, ax=ax, label='data')\n",
    "fplot.new_figure('GP', ax.figure)\n",
    "fplot.update_legend(edgecolor='white', bbox_to_anchor=(0.6,0.85))\n"
   ]
  },
  {
   "cell_type": "code",
   "execution_count": null,
   "id": "d364973c",
   "metadata": {},
   "outputs": [],
   "source": [
    "means = fit.draws_pd(['alpha', 'rho']).mean(axis=0)\n",
    "z=cov_exp_quad(x, x, means['alpha'], means['rho'])\n",
    "f = fplot.new_figure('kernel')\n",
    "ax = f.subplots()\n",
    "c = plt.pcolor(x,x,z)\n",
    "c.set_edgecolor('face')\n",
    "f.colorbar(c)\n",
    "ax.set_xlabel('x')\n",
    "ax.set_ylabel(r\"x'\")"
   ]
  },
  {
   "cell_type": "markdown",
   "id": "38a2f2d8",
   "metadata": {},
   "source": [
    "## Periodic kernel"
   ]
  },
  {
   "cell_type": "code",
   "execution_count": null,
   "id": "38b55ec1",
   "metadata": {},
   "outputs": [],
   "source": [
    "model = get_model('GP_periodic.stan')\n",
    "fit = model.sample(data,\n",
    "                   chains=4,\n",
    "                   iter_warmup=500,\n",
    "                   iter_sampling=500,\n",
    "                   save_warmup=True,\n",
    "                   show_progress=True)\n",
    "print(fit.diagnose())\n",
    "fplot.add_fit(fit)\n",
    "df = fit.draws_pd(['y2']).transpose()\n",
    "df['x']=x\n",
    "df = df.melt(id_vars='x')\n",
    "ax = sns.lineplot(df, x='x', y='value', errorbar=hdi, label='GP median')\n",
    "ax.set_ylabel('y')\n",
    "sns.scatterplot(x=x1, y=y1, ax=ax, label='data')\n",
    "fplot.new_figure('GP', ax.figure)\n",
    "fplot.update_legend(edgecolor='white', bbox_to_anchor=(1.2,0.65))"
   ]
  },
  {
   "cell_type": "code",
   "execution_count": null,
   "id": "ae7a9bdd",
   "metadata": {},
   "outputs": [],
   "source": [
    "f = fplot.new_figure('kernel')\n",
    "ax = f.subplots()\n",
    "alpha, rho, p = fit.summary()['Mean'].loc[['alpha', 'rho', 'p']]\n",
    "z = cov_periodic(x, x, alpha, rho, p) \n",
    "c = ax.pcolor(x,x,z)\n",
    "c.set_edgecolor('face')\n",
    "f.colorbar(c)\n",
    "ax.set_xlabel('x')\n",
    "ax.set_ylabel(r\"x'\")"
   ]
  }
 ],
 "metadata": {
  "kernelspec": {
   "display_name": "baynesenv",
   "language": "python",
   "name": "baynesenv"
  },
  "language_info": {
   "codemirror_mode": {
    "name": "ipython",
    "version": 3
   },
   "file_extension": ".py",
   "mimetype": "text/x-python",
   "name": "python",
   "nbconvert_exporter": "python",
   "pygments_lexer": "ipython3",
   "version": "3.10.12"
  },
  "toc": {
   "base_numbering": 1,
   "nav_menu": {},
   "number_sections": true,
   "sideBar": true,
   "skip_h1_title": false,
   "title_cell": "Table of Contents",
   "title_sidebar": "Contents",
   "toc_cell": false,
   "toc_position": {},
   "toc_section_display": true,
   "toc_window_display": true
  }
 },
 "nbformat": 4,
 "nbformat_minor": 5
}

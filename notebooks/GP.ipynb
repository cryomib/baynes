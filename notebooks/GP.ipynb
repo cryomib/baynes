{
 "cells": [
  {
   "cell_type": "code",
   "execution_count": null,
   "id": "55ab4355",
   "metadata": {},
   "outputs": [],
   "source": [
    "import matplotlib.pyplot as plt\n",
    "import seaborn as sns\n",
    "import numpy as np\n",
    "from cmdstanpy import CmdStanModel\n",
    "from baynes.plotter import FitPlotter\n",
    "from baynes.model_utils import get_stan_file\n",
    "from baynes.probability import hdi\n",
    "import pandas as pd\n",
    "from scipy import stats\n",
    "import arviz as az\n",
    "sns.set_style('ticks')\n",
    "#sns.set_palette('colorblind')\n",
    "sns.set_context(\"notebook\", font_scale=1.6)\n",
    "plt.rc(\"axes.spines\", top=False, right=False)\n"
   ]
  },
  {
   "cell_type": "code",
   "execution_count": null,
   "id": "880e7dc2",
   "metadata": {},
   "outputs": [],
   "source": [
    "fplot = FitPlotter(fig_ratio=1, output_dir=\"/home/pietro/work/TESI/thesis/figures/ch2/GP/\", output_format='.pdf')"
   ]
  },
  {
   "cell_type": "code",
   "execution_count": null,
   "id": "990bb70f",
   "metadata": {},
   "outputs": [],
   "source": [
    "N2=101\n",
    "x = np.linspace(0,10, N2)\n",
    "N1=51\n",
    "x1 = np.sort(np.random.choice(x, N1))\n",
    "y1 = 0.3*x1 + np.random.normal(0,0.1,N1)+ 0.5* np.sin(x1)\n",
    "plt.scatter(x1, y1)"
   ]
  },
  {
   "cell_type": "code",
   "execution_count": null,
   "id": "fc2f980f",
   "metadata": {},
   "outputs": [],
   "source": [
    "stan_file = get_stan_file('GPquad.stan')\n",
    "model = CmdStanModel(stan_file=stan_file,\n",
    "                     cpp_options={'STAN_THREADS': True, 'jN': 4})\n",
    "model.format(overwrite_file=True, canonicalize=True)"
   ]
  },
  {
   "cell_type": "code",
   "execution_count": null,
   "id": "c4ae6892",
   "metadata": {},
   "outputs": [],
   "source": [
    "data={'N1':N1, 'N2':N2, 'x1':x1, 'x2':x, 'y1':y1}\n",
    "#data={'N':N1, 'x':x1, 'y':y1, 'prior':0}\n",
    "\n",
    "fit = model.sample(data,\n",
    "                   chains=4,\n",
    "                   iter_warmup=500,\n",
    "                   iter_sampling=500,\n",
    "                   save_warmup=True,\n",
    "                   show_progress=True,\n",
    "                   adapt_delta=0.9,\n",
    "                   inits=1)\n",
    "print(fit.diagnose())\n",
    "fplot.add_fit(fit)\n",
    "df = fit.draws_pd(['y2']).transpose()\n",
    "df['x']=x\n",
    "df = df.melt(id_vars='x')\n",
    "ax = sns.lineplot(df, x='x', y='value', errorbar=hdi)\n",
    "sns.scatterplot(x=x1, y=y1, ax=ax)"
   ]
  },
  {
   "cell_type": "code",
   "execution_count": null,
   "id": "25188763",
   "metadata": {},
   "outputs": [],
   "source": [
    "stan_file = get_stan_file('GPperiod.stan')\n",
    "modelper = CmdStanModel(stan_file=stan_file,\n",
    "                     cpp_options={'STAN_THREADS': True, 'jN': 4})"
   ]
  },
  {
   "cell_type": "code",
   "execution_count": null,
   "id": "38b55ec1",
   "metadata": {},
   "outputs": [],
   "source": [
    "data={'N1':N1, 'N2':N2, 'x1':x1, 'x2':x, 'y1':y1}\n",
    "#data={'N':N1, 'x':x1, 'y':y1, 'prior':0}\n",
    "\n",
    "fit = modelper.sample(data,\n",
    "                   chains=4,\n",
    "                   iter_warmup=500,\n",
    "                   iter_sampling=500,\n",
    "                   save_warmup=True,\n",
    "                   show_progress=True)\n",
    "print(fit.diagnose())\n",
    "fplot.add_fit(fit)\n",
    "df = fit.draws_pd(['y2']).transpose()\n",
    "df['x']=x\n",
    "df = df.melt(id_vars='x')\n",
    "ax = sns.lineplot(df, x='x', y='value', errorbar=hdi)\n",
    "sns.scatterplot(x=x1, y=y1, ax=ax)"
   ]
  }
 ],
 "metadata": {
  "kernelspec": {
   "display_name": "baynesenv",
   "language": "python",
   "name": "baynesenv"
  },
  "language_info": {
   "codemirror_mode": {
    "name": "ipython",
    "version": 3
   },
   "file_extension": ".py",
   "mimetype": "text/x-python",
   "name": "python",
   "nbconvert_exporter": "python",
   "pygments_lexer": "ipython3",
   "version": "3.10.6"
  },
  "toc": {
   "base_numbering": 1,
   "nav_menu": {},
   "number_sections": true,
   "sideBar": true,
   "skip_h1_title": false,
   "title_cell": "Table of Contents",
   "title_sidebar": "Contents",
   "toc_cell": false,
   "toc_position": {},
   "toc_section_display": true,
   "toc_window_display": true
  }
 },
 "nbformat": 4,
 "nbformat_minor": 5
}

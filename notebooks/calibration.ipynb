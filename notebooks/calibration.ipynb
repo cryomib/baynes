{
 "cells": [
  {
   "cell_type": "code",
   "execution_count": null,
   "metadata": {},
   "outputs": [],
   "source": [
    "from baynes.model_utils import *\n",
    "from baynes.plotter import FitPlotter\n",
    "from cmdstanpy import CmdStanModel\n",
    "from baynes.analysis import standard_analysis\n",
    "import matplotlib.pyplot as plt\n",
    "import cmdstanpy\n",
    "import logging\n",
    "cmdstanpy.utils.get_logger().setLevel(logging.ERROR)\n",
    "plt.style.use('ggplot')"
   ]
  },
  {
   "cell_type": "code",
   "execution_count": null,
   "metadata": {},
   "outputs": [],
   "source": [
    "stan_file= get_stan_file(\"lorentzians_asymm.stan\")\n",
    "model = CmdStanModel(stan_file=stan_file,\n",
    "                     **get_compiler_kwargs())"
   ]
  },
  {
   "cell_type": "code",
   "execution_count": null,
   "metadata": {},
   "outputs": [],
   "source": [
    "datContent = [i.strip().split() for i in open(\"Fe_cal_7.dat\").readlines()]\n",
    "data = [float(d) for d in datContent[0]]\n",
    "counts, edges = np.histogram(data, 100)\n",
    "centers = np.array([(edges[i]+edges[i+1])/2 for i in range(len(edges)-1)])\n",
    "plt.plot(centers, counts)"
   ]
  },
  {
   "cell_type": "code",
   "execution_count": null,
   "metadata": {},
   "outputs": [],
   "source": [
    "data={\"N_bins\": len(counts), \n",
    "      'N_peaks': 2,\n",
    "      'counts': counts.tolist(), \n",
    "      'x': edges,\n",
    "      'N_ev': sum(counts), \n",
    "      'p_FWHM': 5, \n",
    "      'p_gamma': [3,0.8], \n",
    "      'p_E0': [5890, 5900],\n",
    "      'p_i': [0.4,0.4],\n",
    "      'prior': 1}\n",
    "\n",
    "sampler_kwargs={\n",
    "    'chains': 8,\n",
    "    'iter_warmup': 500,\n",
    "    'iter_sampling': 500,\n",
    "    'save_warmup': True, \n",
    "}\n",
    "p = FitPlotter(col_wrap=4)\n",
    "fit = standard_analysis(model, data, p, sampler_kwargs=sampler_kwargs)"
   ]
  },
  {
   "cell_type": "code",
   "execution_count": null,
   "metadata": {},
   "outputs": [],
   "source": [
    "fit.summary().loc['FWHM']"
   ]
  },
  {
   "cell_type": "code",
   "execution_count": null,
   "metadata": {},
   "outputs": [],
   "source": [
    "stan_file= get_stan_file(\"poisGP.stan\")\n",
    "model = CmdStanModel(stan_file=stan_file,\n",
    "                     **get_compiler_kwargs())"
   ]
  },
  {
   "cell_type": "code",
   "execution_count": null,
   "metadata": {},
   "outputs": [],
   "source": [
    "data = {'N': len(counts),\n",
    "        'x': centers,\n",
    "        'y': counts}\n",
    "\n",
    "sampler_kwargs={\n",
    "    'chains': 16,\n",
    "    'iter_warmup': 300,\n",
    "    'iter_sampling': 300,\n",
    "    'save_warmup': True, \n",
    "    'adapt_delta': 0.9,\n",
    "    'max_treedepth': 12,\n",
    "}\n",
    "plot_pars=['rho', 'alpha', 'a', 'eta[10]']\n",
    "fit = standard_analysis(model, data, p, sampler_kwargs, fit_title='m=0', data_key='y', rep_key='y_rep',plot_params=plot_pars)"
   ]
  }
 ],
 "metadata": {
  "kernelspec": {
   "display_name": "baynesenv",
   "language": "python",
   "name": "baynesenv"
  },
  "language_info": {
   "codemirror_mode": {
    "name": "ipython",
    "version": 3
   },
   "file_extension": ".py",
   "mimetype": "text/x-python",
   "name": "python",
   "nbconvert_exporter": "python",
   "pygments_lexer": "ipython3",
   "version": "3.10.6"
  }
 },
 "nbformat": 4,
 "nbformat_minor": 2
}

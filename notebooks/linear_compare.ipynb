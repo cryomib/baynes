{
 "cells": [
  {
   "cell_type": "code",
   "execution_count": null,
   "id": "55ab4355",
   "metadata": {},
   "outputs": [],
   "source": [
    "import matplotlib.pyplot as plt\n",
    "import seaborn as sns\n",
    "import arviz as az\n",
    "import numpy as np\n",
    "from cmdstanpy import CmdStanModel\n",
    "from baynes import FitPlotter, get_compiler_kwargs, get_stan_file, standard_analysis, hdi\n",
    "import pandas as pd\n",
    "\n",
    "sns.set_style('ticks')\n",
    "sns.set_palette('colorblind')\n",
    "sns.set_context(\"notebook\", font_scale=1.6)\n",
    "plt.rc(\"axes.spines\", top=False, right=False)"
   ]
  },
  {
   "cell_type": "code",
   "execution_count": null,
   "id": "a9e23c1b",
   "metadata": {},
   "outputs": [],
   "source": [
    "N = 21\n",
    "x = np.linspace(0, 10, N)\n",
    "\n",
    "alpha = 0.5\n",
    "beta = 0.4\n",
    "sigma = 0.5\n",
    "\n",
    "y = alpha + beta * (x + np.random.normal(0, sigma, N))\n",
    "plt.plot(x, y)\n",
    "\n",
    "data = {'N': N, 'x': x, 'y': y, 'prior': 0}\n",
    "fplot = FitPlotter(output_dir=\"/home/pietro/work/TESI/thesis/figures/ch2/linear/\", output_format='.pdf', fig_ratio=1.2, fig_scale=6)"
   ]
  },
  {
   "cell_type": "code",
   "execution_count": null,
   "id": "880e7dc2",
   "metadata": {},
   "outputs": [],
   "source": [
    "model = CmdStanModel(stan_file=get_stan_file('linear_simple.stan'),\n",
    "                     **get_compiler_kwargs())\n",
    "                     \n",
    "model_noalpha = CmdStanModel(stan_file=get_stan_file('linear_no_intercept.stan'),\n",
    "                            **get_compiler_kwargs())"
   ]
  },
  {
   "cell_type": "code",
   "execution_count": null,
   "id": "1b972c0e",
   "metadata": {},
   "outputs": [],
   "source": [
    "fit = model.sample(data)\n",
    "fplot.add_fit(fit, 'with intercept')\n",
    "fit_noalpha = model_noalpha.sample(data)\n",
    "fplot.add_fit(fit_noalpha, 'no intercept')\n"
   ]
  },
  {
   "cell_type": "code",
   "execution_count": null,
   "id": "0f6a17f4",
   "metadata": {},
   "outputs": [],
   "source": [
    "ax = fplot.new_figure('ppc_compare').subplots()\n",
    "df_tot = pd.DataFrame()\n",
    "for title, f in fplot.fits.items():\n",
    "    df = f.draws_pd('y_rep').transpose()\n",
    "    df['x']=x\n",
    "    df['fit'] = title\n",
    "    df_tot = pd.concat([df, df_tot])\n",
    "\n",
    "#sns.set_palette(sns.cubehelix_palette(hue=1))\n",
    "ax.plot(x, y, label='data', color='black')\n",
    "ax = sns.lineplot(df_tot.melt(id_vars=['x', 'fit']), x='x', y='value', hue='fit', errorbar=hdi, ax=ax, err_kws={'alpha':1}, alpha=0)\n",
    "plt.legend(bbox_to_anchor=(1.2, 0.4), facecolor='white', edgecolor='white')\n",
    "ax.set_ylabel('y')\n",
    "fplot.save_figures()"
   ]
  },
  {
   "cell_type": "code",
   "execution_count": null,
   "id": "9cb2fdf1",
   "metadata": {},
   "outputs": [],
   "source": [
    "df = az.compare({'no intercept': fit_noalpha, 'with intercept':fit}, ic='waic')\n",
    "print(df[['elpd_waic', 'se', 'p_waic']].to_latex(float_format=\"%.2f\"))"
   ]
  },
  {
   "cell_type": "code",
   "execution_count": null,
   "id": "f600b062",
   "metadata": {},
   "outputs": [],
   "source": [
    "ax = fplot.new_figure('loo_khat').subplots()\n",
    "loo = az.loo(fit_noalpha)\n",
    "ax = az.plot_khat(loo, label = 'no intercept', ax=ax, markersize=100)\n",
    "loo = az.loo(fit)\n",
    "az.plot_khat(loo, label = 'with intercept', ax=ax, markersize=100, color='orange', marker='o')\n",
    "plt.legend(bbox_to_anchor=(1.05, 0.5), facecolor='white', edgecolor='white')\n",
    "fplot.save_figures()"
   ]
  },
  {
   "cell_type": "code",
   "execution_count": null,
   "id": "77a138f2",
   "metadata": {},
   "outputs": [],
   "source": [
    "df = az.compare({'no intercept': fit_noalpha, 'with intercept':fit})\n",
    "print(df[['elpd_loo', 'se', 'p_loo']].to_latex(float_format=\"%.2f\"))"
   ]
  },
  {
   "cell_type": "code",
   "execution_count": null,
   "id": "44c9c1cc",
   "metadata": {},
   "outputs": [],
   "source": []
  }
 ],
 "metadata": {
  "kernelspec": {
   "display_name": "baynesenv",
   "language": "python",
   "name": "python3"
  },
  "language_info": {
   "codemirror_mode": {
    "name": "ipython",
    "version": 3
   },
   "file_extension": ".py",
   "mimetype": "text/x-python",
   "name": "python",
   "nbconvert_exporter": "python",
   "pygments_lexer": "ipython3",
   "version": "3.10.12"
  },
  "toc": {
   "base_numbering": 1,
   "nav_menu": {},
   "number_sections": true,
   "sideBar": true,
   "skip_h1_title": false,
   "title_cell": "Table of Contents",
   "title_sidebar": "Contents",
   "toc_cell": false,
   "toc_position": {},
   "toc_section_display": true,
   "toc_window_display": true
  }
 },
 "nbformat": 4,
 "nbformat_minor": 5
}

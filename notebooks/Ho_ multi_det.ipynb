{
 "cells": [
  {
   "cell_type": "code",
   "execution_count": null,
   "metadata": {},
   "outputs": [],
   "source": [
    "from baynes import *\n",
    "import pandas as pd\n",
    "from cmdstanpy import CmdStanModel\n",
    "import logging\n",
    "import matplotlib\n",
    "import matplotlib.pyplot as plt\n",
    "import seaborn as sns\n",
    "import cmdstanpy\n",
    "from baynes import hdi\n",
    "from collections import defaultdict\n",
    "import json\n",
    "from collections import defaultdict\n",
    "import arviz as az\n",
    "import numpy as np\n",
    "\n",
    "cmdstanpy.utils.get_logger().setLevel(logging.ERROR)\n",
    "\n",
    "sns.set_style('ticks')\n",
    "sns.set_context(\"notebook\", font_scale=1.2)\n",
    "plt.rc(\"axes.spines\", top=False, right=False)\n"
   ]
  },
  {
   "cell_type": "code",
   "execution_count": null,
   "metadata": {},
   "outputs": [],
   "source": [
    "fit=cmdstanpy.from_csv(\"/home/pietro/work/TESI/baynes/data/endpoint/64det/\")"
   ]
  },
  {
   "cell_type": "code",
   "execution_count": null,
   "metadata": {},
   "outputs": [],
   "source": [
    "ax = sns.catplot(fit.draws_pd(['E_syst']), kind='box')\n",
    "ax.figure.set_size_inches(20,5)"
   ]
  },
  {
   "cell_type": "code",
   "execution_count": null,
   "metadata": {},
   "outputs": [],
   "source": [
    "import json\n",
    "\n",
    "\n",
    "class NumpyEncoder(json.JSONEncoder):\n",
    "    def default(self, obj):\n",
    "        if isinstance(obj, np.integer):\n",
    "            return int(obj)\n",
    "        if isinstance(obj, np.floating):\n",
    "            return float(obj)\n",
    "        if isinstance(obj, np.ndarray):\n",
    "            return obj.tolist()\n",
    "        return super(NpEncoder, self).default(obj)\n",
    "\n",
    "def save_dict_to_json(dd, file_path):\n",
    "    with open(file_path, 'w') as json_file:\n",
    "        json.dump(dd, json_file, indent=4, cls=NumpyEncoder)\n",
    "    print(f\"Dictionary saved to {file_path}\")\n",
    "\n",
    "file_path = \"/home/pietro/work/TESI/baynes/data/endpoint/64results.json\"\n",
    "\n"
   ]
  },
  {
   "cell_type": "code",
   "execution_count": null,
   "metadata": {},
   "outputs": [],
   "source": [
    "m = 0\n",
    "Q = 2833\n",
    "A_Ho = 1\n",
    "bkg = 1e-4\n",
    "pu = 1.5e-6\n",
    "FWHM=6.8\n",
    "n_det = 64\n",
    "n_days = 100\n",
    "\n",
    "Qs=[]\n",
    "FWHMs=[]\n",
    "N_evs=[]\n",
    "events = []\n",
    "syst=[]\n",
    "E_H = [2047, 1842, 414.2, 333.5, 49.9, 26.3]\n",
    "\n",
    "data=defaultdict(list)\n",
    "fig, ax = plt.subplots()\n",
    "for i in range(n_det):\n",
    "    E_shift = np.random.normal(0, 10)\n",
    "    FWHM=np.random.normal(6.8, 1)\n",
    "\n",
    "    s = SpectraSampler({'$^{163}Ho$': [probability.HoSpectrum, [m, Q+E_shift, [E+E_shift for E in E_H]], np.random.normal(1,0.2)]}, flat_bkg=bkg, f_pileup=pu, FWHM=FWHM, dE=2, integrate=False, ROI=[2600, 2950])\n",
    "    s.set_measure_time(n_days, n_det=1)\n",
    "\n",
    "    events.append(s.sample()[0])\n",
    "    N_evs.append(sum(events[-1]))\n",
    "    data['FWHM'].append(FWHM)\n",
    "    syst.append(E_shift)\n",
    "    s.plot_events(events[-1], ax=ax)\n",
    "ax.get_legend().remove()\n",
    "\n",
    "FWHMs=  [x for _, x in sorted(zip(N_evs, data['FWHM']), key=lambda pair: pair[0], reverse=True)]\n",
    "events = [x for _, x in sorted(zip(N_evs, events), key=lambda pair: pair[0], reverse=True)]\n",
    "N_evs = sorted(N_evs, reverse=True)\n",
    "data.update({'N_bins': len(events[1]), \n",
    "      'N_det': n_det,\n",
    "      'x': s.ROI_bin_edges, \n",
    "      'counts': events,\n",
    "      'N_ev': N_evs,\n",
    "      'counts1': events[0],\n",
    "      'p_Q': 2833,\n",
    "      'm_max':250,\n",
    "\n",
    "})\n",
    "save_dict_to_json(data, \"/home/pietro/work/TESI/baynes/data/endpoint/data.json\")\n",
    "\n"
   ]
  },
  {
   "cell_type": "code",
   "execution_count": null,
   "metadata": {},
   "outputs": [],
   "source": [
    "def combine_detectors(events, N_ev, FWHMs, n_groups):\n",
    "    L = len(N_evs)\n",
    "    n_in_group = int(L/n_groups)\n",
    "    evs = [sum(events[i*n_in_group:(i+1)*n_in_group]) for i in range(n_groups)]\n",
    "    Ns = [sum(N_ev[i*n_in_group:(i+1)*n_in_group]) for i in range(n_groups)]\n",
    "    FWs = [sum(FWHMs[i*n_in_group:(i+1)*n_in_group])/n_in_group for i in range(n_groups)]\n",
    "    return evs, Ns, FWs"
   ]
  },
  {
   "cell_type": "code",
   "execution_count": null,
   "metadata": {},
   "outputs": [],
   "source": [
    "n_groups=1\n",
    "cgroup, Ngroup, FWgroup = combine_detectors(events, N_evs, FWHMs, n_groups)\n",
    "print(Ngroup)\n",
    "\n",
    "data.update({'N_det': int(n_det/n_groups), 'counts':cgroup, 'N_ev': Ngroup, 'counts1':cgroup[0], 'FWHM':FWgroup})"
   ]
  },
  {
   "cell_type": "code",
   "execution_count": null,
   "metadata": {},
   "outputs": [],
   "source": [
    "Ngroup"
   ]
  },
  {
   "cell_type": "code",
   "execution_count": null,
   "metadata": {},
   "outputs": [],
   "source": [
    "stan_file= get_stan_file(\"Ho_endpoint_simple.stan\")\n",
    "model = CmdStanModel(stan_file=stan_file,\n",
    "                     **get_compiler_kwargs())\n",
    "\n",
    "n_groups=1\n",
    "cgroup, Ngroup, FWgroup = combine_detectors(events, N_evs, FWHMs, n_groups)\n",
    "print(Ngroup)\n",
    "\n",
    "data.update({'N_det': 1, 'counts':cgroup[0], 'N_ev': Ngroup[0],  'p_FWHM':FWgroup[0]})\n",
    "\n",
    "sampler_kwargs={\n",
    "    'chains': 4,\n",
    "   # 'iter_warmup': 600,\n",
    "    'iter_sampling': 3000,\n",
    "    'save_warmup': True, \n",
    "   # 'max_treedepth': 11\n",
    "    'inits': {'m_red': 0.001, 'z': 1, 'bkg': 0.004, 'FWHM': 6},\n",
    "    'adapt_delta':0.95,\n",
    "    #'show_console': True\n",
    "}\n",
    "\n",
    "plot_pars = ['m_nu', 'Q', 'f_bkg', 'FWHM']\n",
    "p = FitPlotter(col_wrap=4, output_dir=\"/home/pietro/work/TESI/thesis/figures/ch3/endpoint/\", output_format='.pdf')\n",
    "fit = standard_analysis(model, data, p, sampler_kwargs=sampler_kwargs, plot_params=plot_pars)\n",
    "fit.save_csvfiles(\"/home/pietro/work/TESI/baynes/data/endpoint/\"+str(n_groups)+\"/\")"
   ]
  },
  {
   "cell_type": "code",
   "execution_count": null,
   "metadata": {},
   "outputs": [],
   "source": [
    "stan_file= get_stan_file(\"Ho_endpoint_multidet.stan\")\n",
    "multi_model = CmdStanModel(stan_file=stan_file,\n",
    "                     **get_compiler_kwargs())\n",
    "\n",
    "for n_groups in [2,4,8, 16, 32, 64]:\n",
    "    cgroup, Ngroup, FWgroup = combine_detectors(events, N_evs, FWHMs, n_groups)\n",
    "    print(Ngroup)\n",
    "\n",
    "    data.update({'N_det': n_groups, 'counts':cgroup, 'N_ev': Ngroup,  'FWHM':FWgroup, 'counts1':cgroup[0]})\n",
    "\n",
    "\n",
    "\n",
    "\n",
    "\n",
    "    sampler_kwargs={\n",
    "        'chains': 24,\n",
    "        'iter_warmup': 600,\n",
    "        'iter_sampling': 500,\n",
    "        'save_warmup': True, \n",
    "        'adapt_delta': 0.95,\n",
    "        'inits': {'m_red': 0.001, 'z': 0, 'f_bkg': [0.004]*n_groups, 'E_sigma':1, 'E_syst':[0]*n_groups},\n",
    "\n",
    "    }\n",
    "\n",
    "    pars=['m_nu', 'Q', 'E_sigma', 'E_syst[1]', 'f_bkg[1]']\n",
    "    fit = standard_analysis(multi_model, data, p, sampler_kwargs, fit_title='m=0', data_key='counts1', rep_key='counts1_rep', plot_params=pars)\n",
    "    fit.save_csvfiles(\"/home/pietro/work/TESI/baynes/data/endpoint/\"+str(n_groups)+\"/\")"
   ]
  },
  {
   "cell_type": "code",
   "execution_count": null,
   "metadata": {},
   "outputs": [],
   "source": [
    "df = pd.DataFrame()\n",
    "for i in [1,2,4,8,16,32, 64]:\n",
    "    if i ==64:\n",
    "        fit=cmdstanpy.from_csv('/home/pietro/work/TESI/baynes/data/endpoint/64det')\n",
    "    else:\n",
    "        fit = cmdstanpy.from_csv('/home/pietro/work/TESI/baynes/data/endpoint/'+str(i)+'/')\n",
    "    draws=fit.draws_pd('m_nu')\n",
    "    draws['group']=i\n",
    "    df =pd.concat([df, draws])"
   ]
  }
 ],
 "metadata": {
  "kernelspec": {
   "display_name": "baynesenv",
   "language": "python",
   "name": "python3"
  },
  "language_info": {
   "codemirror_mode": {
    "name": "ipython",
    "version": 3
   },
   "file_extension": ".py",
   "mimetype": "text/x-python",
   "name": "python",
   "nbconvert_exporter": "python",
   "pygments_lexer": "ipython3",
   "version": "3.10.12"
  }
 },
 "nbformat": 4,
 "nbformat_minor": 2
}

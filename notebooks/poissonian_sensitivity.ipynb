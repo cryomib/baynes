{
 "cells": [
  {
   "cell_type": "code",
   "execution_count": null,
   "id": "55ab4355",
   "metadata": {},
   "outputs": [],
   "source": [
    "import matplotlib.pyplot as plt\n",
    "import seaborn as sns\n",
    "import numpy as np\n",
    "from cmdstanpy import CmdStanModel\n",
    "from baynes.plotter import FitPlotter\n",
    "from baynes.model_utils import get_stan_file\n",
    "from baynes.analysis import *\n",
    "from baynes.probability import hdi\n",
    "import pandas as pd\n",
    "from scipy import stats\n",
    "import cmdstanpy\n",
    "import logging\n",
    "cmdstanpy.utils.get_logger().setLevel(logging.ERROR)\n",
    "sns.set_style('ticks')\n",
    "#sns.set_palette('colorblind')\n",
    "sns.set_context(\"notebook\", font_scale=1.6)\n",
    "plt.rc(\"axes.spines\", top=False, right=False)"
   ]
  },
  {
   "cell_type": "markdown",
   "id": "0caaaa9a",
   "metadata": {},
   "source": [
    "# Example 1: fit of a poissonian process\n",
    "### Generate the data"
   ]
  },
  {
   "cell_type": "code",
   "execution_count": null,
   "id": "a9e23c1b",
   "metadata": {},
   "outputs": [],
   "source": [
    "N=1000\n",
    "lambda_true = 6.3\n",
    "events = np.random.poisson(lambda_true, N)\n",
    "\n",
    "data_mean = np.mean(events)\n",
    "data_sd = np.std(events)\n",
    "print('- mean of data: ', data_mean)\n",
    "print('- sd of data: ', data_sd)\n",
    "bins = np.arange(min(events), max(events))\n",
    "sns.histplot(events, bins=bins)\n",
    "sns.despine()"
   ]
  },
  {
   "cell_type": "markdown",
   "id": "2515e650",
   "metadata": {},
   "source": [
    "### Compile and print the STAN model\n"
   ]
  },
  {
   "cell_type": "code",
   "execution_count": null,
   "id": "880e7dc2",
   "metadata": {},
   "outputs": [],
   "source": [
    "stan_file = get_stan_file('poisson.stan')\n",
    "model = CmdStanModel(stan_file=stan_file,\n",
    "                     cpp_options={'STAN_THREADS': True, 'jN': 4})\n",
    "print(model.code())"
   ]
  },
  {
   "cell_type": "code",
   "execution_count": null,
   "id": "b973cf90",
   "metadata": {},
   "outputs": [],
   "source": [
    "df=pd.DataFrame()\n",
    "prior_var=10\n",
    "data = {'N': len(events), 'y': events, 'alpha': 5, 'beta': 1, 'prior': 0}\n",
    "\n",
    "plot = FitPlotter(fig_scale=10)\n",
    "post=[]\n",
    "mus= np.linspace(1, 51, 10)\n",
    "\n",
    "Ns=[50, 100, 200, 500]\n",
    "for N in Ns:\n",
    "    events = np.random.poisson(lambda_true, N)\n",
    "    data = {'N': len(events), 'y': events, 'alpha': 5, 'beta': 1, 'prior': 0}\n",
    "    dN = pd.DataFrame()\n",
    "    for mu in mus:\n",
    "        data['beta'] = mu/prior_var\n",
    "        data['alpha'] = mu**2/prior_var\n",
    "    \n",
    "        fit = model.sample(data,\n",
    "                           chains=1,\n",
    "                           iter_warmup=200,\n",
    "                           iter_sampling=300,\n",
    "                           save_warmup=False,\n",
    "                           show_progress=False)\n",
    "       # plot.add_fit(fit, fit_title= str(mu))\n",
    "       # post.append(fit.stan_variable('lambda'))\n",
    "        \n",
    "        dfit = fit.draws_pd(['lambda'])\n",
    "      #  print(hdi(dfit.to_numpy().flatten()))\n",
    "        dfit['prior mean'] = mu\n",
    "       # print(dfit)\n",
    "        dN = pd.concat([dN, dfit])\n",
    "    dN['N'] = N\n",
    "    df = pd.concat([df, dN])\n",
    "\n",
    "#plot.get_fit_titles()\n",
    "#plot.ridgeplot(fit_titles='all')"
   ]
  },
  {
   "cell_type": "code",
   "execution_count": null,
   "id": "58593f3c",
   "metadata": {},
   "outputs": [],
   "source": [
    "ax = plot.new_figure('sens').subplots()\n",
    "sns.lineplot(df, x='prior mean', y='lambda', hue='N', style='N', errorbar=hdi, ax=ax)\n",
    "ax.legend(bbox_to_anchor=(1.1, 0.7), facecolor='white', edgecolor='white', title='N data')\n",
    "#ax.set_ylim(6.2, 6.4)"
   ]
  },
  {
   "cell_type": "code",
   "execution_count": null,
   "id": "d98da9a5",
   "metadata": {},
   "outputs": [],
   "source": [
    "plot.get_current_figure()"
   ]
  },
  {
   "cell_type": "code",
   "execution_count": null,
   "id": "3af70f33",
   "metadata": {},
   "outputs": [],
   "source": [
    "plot.ridgeplot(fit_titles=plot.get_fit_titles('mu'), height=0.7)"
   ]
  },
  {
   "cell_type": "code",
   "execution_count": null,
   "id": "4f875e0f",
   "metadata": {},
   "outputs": [],
   "source": [
    "plot.draws_df(fit_titles=plot.get_fit_titles('ad'), parameters='lambda').melt()"
   ]
  },
  {
   "cell_type": "code",
   "execution_count": null,
   "id": "322eb6ce",
   "metadata": {},
   "outputs": [],
   "source": [
    "sns.lineplot(plot.draws_df(fit_titles='all', parameters=['lambda']), x='fit', y='lambda')"
   ]
  },
  {
   "cell_type": "code",
   "execution_count": null,
   "id": "026efc86",
   "metadata": {},
   "outputs": [],
   "source": [
    "plot.draws_df(fit_titles='all', parameters=['lambda'])"
   ]
  },
  {
   "cell_type": "code",
   "execution_count": null,
   "id": "aeade97d",
   "metadata": {},
   "outputs": [],
   "source": [
    "sns.lineplot({'x': mus*len(post), 'y': post}, y='y')"
   ]
  },
  {
   "cell_type": "code",
   "execution_count": null,
   "id": "0125704a",
   "metadata": {},
   "outputs": [],
   "source": [
    "np.array(post).shape"
   ]
  },
  {
   "cell_type": "code",
   "execution_count": null,
   "id": "d3811073",
   "metadata": {},
   "outputs": [],
   "source": [
    "plt.hist(np.random.gamma(100, 1, 10000), bins=50)"
   ]
  },
  {
   "cell_type": "code",
   "execution_count": null,
   "id": "db09ab21",
   "metadata": {},
   "outputs": [],
   "source": [
    "data = {'N': len(events), 'y': events, 'alpha': 5, 'beta': 1, 'prior': 0}\n",
    "\n",
    "plot = FitPlotter()\n",
    "for mu in [1, 10, 20, 40, 60, 80, 100]:\n",
    "    data['alpha'] = mu\n",
    "    fit = model.sample(data,\n",
    "                       chains=4,\n",
    "                       iter_warmup=200,\n",
    "                       iter_sampling=300,\n",
    "                       save_warmup=False,\n",
    "                       show_progress=False)\n",
    "    plot.add_fit(fit, fit_title= \"$\\\\alpha=$\" + str(mu))\n",
    "plot.get_fit_titles()\n",
    "plot.ridgeplot(fit_titles=plot.get_fit_titles('alpha'))"
   ]
  },
  {
   "cell_type": "code",
   "execution_count": null,
   "id": "cfc6356f",
   "metadata": {},
   "outputs": [],
   "source": [
    "list(plot.fits.keys())"
   ]
  },
  {
   "cell_type": "code",
   "execution_count": null,
   "id": "931f045d",
   "metadata": {},
   "outputs": [],
   "source": [
    "N=100\n",
    "events = np.random.poisson(lambda_true, N)\n",
    "data = {'N': len(events), 'y': events, 'alpha': 3, 'beta': 0.1, 'prior': 1}\n",
    "sampler_kwargs={\n",
    "    'chains': 4,\n",
    "    'iter_warmup': 500,\n",
    "    'iter_sampling': 2000,\n",
    "    'save_warmup': True, \n",
    "}\n",
    "fplot = FitPlotter(fig_scale=7)\n",
    "fit = standard_analysis(model, data, fplot, sampler_kwargs=sampler_kwargs, data_key='y', rep_key='y_rep', lines=True, legend=False, n_bins=len(bins))\n",
    "\n",
    "fit_prior = fplot.fits['fit_prior']\n",
    "joint = sns.jointplot({'posterior': fit.stan_variable('lambda'), 'prior': fit_prior.stan_variable('lambda')}, x='prior', y='posterior', kind='reg', scatter_kws={'s':0.1}, robust=True)\n",
    "fig = fplot.new_figure('static', joint.figure)"
   ]
  },
  {
   "cell_type": "code",
   "execution_count": null,
   "id": "c79fb6cf",
   "metadata": {},
   "outputs": [],
   "source": [
    "joint = sns.jointplot(fit.draws_pd(['lambda', 'sd_y_rep']), x='lambda', y='sd_y_rep', kind='reg', scatter_kws={'s':0.1})\n",
    "joint = sns.jointplot(fit.draws_pd(['lambda', 'mean_y_rep']), x='lambda', y='mean_y_rep', kind='reg', scatter_kws={'s':0.1})\n",
    "\n",
    "fig = fplot.new_figure('static', joint.figure)"
   ]
  },
  {
   "cell_type": "code",
   "execution_count": null,
   "id": "bcf05210",
   "metadata": {},
   "outputs": [],
   "source": [
    "fplot.pair_grid(['lambda', 'sd_y_rep', 'mean_y_rep'])"
   ]
  },
  {
   "cell_type": "code",
   "execution_count": null,
   "id": "02a3c336",
   "metadata": {},
   "outputs": [],
   "source": [
    "fplot.draws_df(fit_titles='all', parameters=['lambda', 'mean_y_rep'])"
   ]
  },
  {
   "cell_type": "code",
   "execution_count": null,
   "id": "89ae99ed",
   "metadata": {},
   "outputs": [],
   "source": [
    "fit_prior = fplot.fits['fit_prior']\n",
    "joint = sns.jointplot({'posterior': fit.stan_variable('lambda'), 'prior': fit_prior.stan_variable('lambda')}, x='prior', y='posterior', xlim=[0,15], kind='reg', scatter_kws={'s':0.1})\n",
    "fig = fplot.new_figure('static', joint.figure)"
   ]
  },
  {
   "cell_type": "code",
   "execution_count": null,
   "id": "7c5b223d",
   "metadata": {},
   "outputs": [],
   "source": []
  },
  {
   "cell_type": "code",
   "execution_count": null,
   "id": "27bb173d",
   "metadata": {},
   "outputs": [],
   "source": []
  },
  {
   "cell_type": "code",
   "execution_count": null,
   "id": "8e6a720f",
   "metadata": {},
   "outputs": [],
   "source": []
  },
  {
   "cell_type": "code",
   "execution_count": null,
   "id": "f2fa7694",
   "metadata": {},
   "outputs": [],
   "source": []
  }
 ],
 "metadata": {
  "kernelspec": {
   "display_name": "baynesenv",
   "language": "python",
   "name": "baynesenv"
  },
  "language_info": {
   "codemirror_mode": {
    "name": "ipython",
    "version": 3
   },
   "file_extension": ".py",
   "mimetype": "text/x-python",
   "name": "python",
   "nbconvert_exporter": "python",
   "pygments_lexer": "ipython3",
   "version": "3.10.12"
  },
  "toc": {
   "base_numbering": 1,
   "nav_menu": {},
   "number_sections": true,
   "sideBar": true,
   "skip_h1_title": false,
   "title_cell": "Table of Contents",
   "title_sidebar": "Contents",
   "toc_cell": false,
   "toc_position": {},
   "toc_section_display": true,
   "toc_window_display": true
  }
 },
 "nbformat": 4,
 "nbformat_minor": 5
}

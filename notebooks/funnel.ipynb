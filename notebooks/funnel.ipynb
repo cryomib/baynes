{
 "cells": [
  {
   "cell_type": "code",
   "execution_count": null,
   "id": "55ab4355",
   "metadata": {},
   "outputs": [],
   "source": [
    "import matplotlib.pyplot as plt\n",
    "import seaborn as sns\n",
    "import numpy as np\n",
    "from cmdstanpy import CmdStanModel\n",
    "from baynes.fplot import FitPlotter\n",
    "from baynes.model_utils import get_stan_file\n",
    "import pandas as pd\n",
    "from scipy import stats\n",
    "import arviz as az\n",
    "sns.set_style('ticks')\n",
    "#sns.set_palette('colorblind')\n",
    "sns.set_context(\"notebook\", font_scale=1.6)\n",
    "plt.rc(\"axes.spines\", top=False, right=False)"
   ]
  },
  {
   "cell_type": "code",
   "execution_count": null,
   "id": "880e7dc2",
   "metadata": {},
   "outputs": [],
   "source": [
    "fplot = FitPlotter(output_dir=\"/home/pietro/work/TESI/thesis/figures/ch2/poisson/\", output_format='.pdf')"
   ]
  },
  {
   "cell_type": "code",
   "execution_count": null,
   "id": "fc2f980f",
   "metadata": {},
   "outputs": [],
   "source": [
    "stan_file = get_stan_file('funnel.stan')\n",
    "model = CmdStanModel(stan_file=stan_file,\n",
    "                     cpp_options={'STAN_THREADS': True, 'jN': 4})\n",
    "print(model.code())\n",
    "fit = model.sample({},\n",
    "                   chains=4,\n",
    "                   iter_warmup=1000,\n",
    "                   iter_sampling=1000,\n",
    "                   save_warmup=True,\n",
    "                   show_progress=True,\n",
    "                   adapt_delta=0.9)\n",
    "print(fit.diagnose())"
   ]
  },
  {
   "cell_type": "code",
   "execution_count": null,
   "id": "68ef915e",
   "metadata": {},
   "outputs": [],
   "source": [
    "xmax=20\n",
    "ymin, ymax = -2, 5\n",
    "X = np.linspace(-xmax, xmax, 1001)\n",
    "Y= np.linspace(ymin, ymax, 1001)\n",
    "Z=[]\n",
    "for y in Y:\n",
    "    Z.append(stats.norm.pdf(X, 0, np.exp(y))* stats.norm.pdf(y, loc=0, scale=3))\n",
    "Z = np.array(Z)\n",
    "levels=Z[[900, 850, 800, 750, 700, 650, 600], 500]\n",
    "ax = fplot.new_figure('funnel').subplots()\n",
    "ax.contour(X, Y, Z, levels=levels, colors='grey', alpha=0.5, zorder=0)\n",
    "sns.scatterplot(fit.draws_pd(), x='x', y='y', hue='divergent__', legend=False, ax=ax)\n",
    "ax.set_xlim(-xmax, xmax)\n",
    "ax.set_ylim(ymin,ymax)"
   ]
  },
  {
   "cell_type": "code",
   "execution_count": null,
   "id": "cea8073d",
   "metadata": {},
   "outputs": [],
   "source": []
  }
 ],
 "metadata": {
  "kernelspec": {
   "display_name": "baynesenv",
   "language": "python",
   "name": "baynesenv"
  },
  "language_info": {
   "codemirror_mode": {
    "name": "ipython",
    "version": 3
   },
   "file_extension": ".py",
   "mimetype": "text/x-python",
   "name": "python",
   "nbconvert_exporter": "python",
   "pygments_lexer": "ipython3",
   "version": "3.10.12"
  },
  "toc": {
   "base_numbering": 1,
   "nav_menu": {},
   "number_sections": true,
   "sideBar": true,
   "skip_h1_title": false,
   "title_cell": "Table of Contents",
   "title_sidebar": "Contents",
   "toc_cell": false,
   "toc_position": {},
   "toc_section_display": true,
   "toc_window_display": true
  }
 },
 "nbformat": 4,
 "nbformat_minor": 5
}

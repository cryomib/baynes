{
 "cells": [
  {
   "cell_type": "code",
   "execution_count": null,
   "id": "55ab4355",
   "metadata": {},
   "outputs": [],
   "source": [
    "import matplotlib.pyplot as plt\n",
    "import seaborn as sns\n",
    "import numpy as np\n",
    "from cmdstanpy import CmdStanModel\n",
    "from baynes.plotter import FitPlotter\n",
    "from baynes.model_utils import get_stan_file\n",
    "import pandas as pd\n",
    "from scipy import stats\n",
    "sns.set_style('ticks')\n",
    "\n",
    "sns.set_context(\"notebook\", font_scale=1.6)\n",
    "plt.rc(\"axes.spines\", top=False, right=False)\n",
    "import cmdstanpy\n",
    "import logging\n",
    "cmdstanpy.utils.get_logger().setLevel(logging.ERROR)\n",
    "import arviz as az\n",
    "\n",
    "plt.style.use('rose-pine-dawn')"
   ]
  },
  {
   "attachments": {},
   "cell_type": "markdown",
   "id": "0caaaa9a",
   "metadata": {},
   "source": [
    "# Example 1: fit of a poissonian process\n",
    "### Generate the data"
   ]
  },
  {
   "attachments": {},
   "cell_type": "markdown",
   "id": "2515e650",
   "metadata": {},
   "source": [
    "### Compile and print the STAN model\n"
   ]
  },
  {
   "cell_type": "code",
   "execution_count": null,
   "id": "880e7dc2",
   "metadata": {},
   "outputs": [],
   "source": [
    "stan_file = get_stan_file('poisson_SBC.stan')\n",
    "model = CmdStanModel(stan_file=stan_file,\n",
    "                     cpp_options={'STAN_THREADS': True, 'jN': 4})\n",
    "print(model.code())"
   ]
  },
  {
   "cell_type": "code",
   "execution_count": null,
   "id": "36c5df49",
   "metadata": {},
   "outputs": [],
   "source": [
    "from baynes.analysis import multithreaded_run"
   ]
  },
  {
   "cell_type": "code",
   "execution_count": null,
   "id": "3e7a4b3d",
   "metadata": {},
   "outputs": [],
   "source": [
    "def SBC_plot(data, n_bins, percs=[0.05, 0.95]):\n",
    "    if isinstance(data, str):\n",
    "        data = pd.read_json(data)\n",
    "    elif isinstance(data, dict):\n",
    "        data = pd.DataFrame.from_dict(data)\n",
    "    hist = sns.displot(data.melt(value_name='rank'), bins=n_bins, kind='hist', x='rank', col='variable', col_wrap=2, alpha=1)\n",
    "    pdf = stats.binom(len(data), 1/n_bins)\n",
    "    hist.set_titles(\"\")\n",
    "    for ax in hist.axes.flatten():\n",
    "        xlim = ax.get_xlim()\n",
    "        ax.fill_between(ax.get_xlim(), pdf.ppf(percs[0]), pdf.ppf(percs[1]), color='grey', alpha=0.20, zorder=0)\n",
    "        ax.axhline(pdf.median(), color='grey', alpha=0.50, zorder=0)\n",
    "        ax.set_xlim(xlim)\n",
    "        ax.grid(visible=False)\n",
    "    return hist\n",
    "\n",
    "def ECDF_plot(data, n_bins, percs=[0.05, 0.95]):\n",
    "    if isinstance(data, str):\n",
    "        data = pd.read_json(data)\n",
    "    elif isinstance(data, dict):\n",
    "        data = pd.DataFrame.from_dict(data)\n",
    "    hist = sns.displot(data.melt(value_name='rank'), bins=n_bins, kind='hist', x='rank', col='variable', hue='variable', col_wrap=2, alpha=1)\n",
    "    pdf = stats.binom(len(data), 1/n_bins)\n",
    "    \n",
    "    for ax in hist.axes.flatten():\n",
    "        xlim = ax.get_xlim()\n",
    "        ax.fill_between(ax.get_xlim(), pdf.ppf(percs[0]), pdf.ppf(percs[1]), color='green', alpha=0.20, zorder=0)\n",
    "        ax.axhline(pdf.median(), color='green', alpha=0.50, zorder=0)\n",
    "        ax.set_xlim(xlim)\n",
    "        ax.grid(visible=False)\n",
    "    return hist"
   ]
  },
  {
   "cell_type": "code",
   "execution_count": null,
   "id": "e4935a18",
   "metadata": {},
   "outputs": [],
   "source": [
    "def run_SBC(model):\n",
    "    data = {'N': 500, 'alpha':5, 'beta':1, 'alpha_true':5, 'beta_true':1}\n",
    "    fit = model.sample(data,\n",
    "                         chains=1,\n",
    "                         iter_warmup=200,\n",
    "                         iter_sampling=398,\n",
    "                         save_warmup=False,\n",
    "                         show_progress=False,\n",
    "                         thin=2)\n",
    "    df = fit.draws_pd('lt_lambda')\n",
    "    rank = np.sum(df.to_numpy())\n",
    "    return rank\n",
    "rank = multithreaded_run(run_SBC, [model]*400, 4)\n"
   ]
  },
  {
   "cell_type": "code",
   "execution_count": null,
   "id": "9d89f247",
   "metadata": {},
   "outputs": [],
   "source": [
    "fplot = FitPlotter(output_dir=\"/home/pietro/work/TESI/thesis/figures/ch2/poisson/\", output_format='.pdf')\n",
    "hist = SBC_plot({'lambda':rank}, 20)\n",
    "fplot.new_figure('SBChist', hist.figure)\n",
    "fplot.resize(10,6)\n"
   ]
  },
  {
   "cell_type": "code",
   "execution_count": null,
   "id": "d366d9e4",
   "metadata": {},
   "outputs": [],
   "source": [
    "pdf = stats.uniform(0,200)\n",
    "\n",
    "ax = fplot.new_figure('SBCecdf').subplots()\n",
    "ax = az.plot_ecdf(rank, cdf = pdf.cdf, difference=True, ax=ax, plot_kwargs={}, fill_kwargs={'color': 'grey'})\n",
    "ax.set_xlabel('rank')\n",
    "ax.set_ylabel('ECDF difference')\n",
    "ax.plot([0]*200, ls='--', color='black', alpha=0.4)\n",
    "fplot.resize(8,6)\n",
    "fplot.save_figures('all')"
   ]
  },
  {
   "cell_type": "code",
   "execution_count": null,
   "id": "4933fb21",
   "metadata": {},
   "outputs": [],
   "source": [
    "\n",
    "SBC_plot({'lambda':rank}, 20)\n",
    "pdf = stats.uniform(0,200)\n",
    "ax = az.plot_ecdf(rank, cdf = pdf.cdf, difference=True, plot_kwargs={}, fill_kwargs={'color': 'grey'})\n",
    "ax.set_xlabel('rank')\n",
    "ax.set_ylabel('ECDF difference')\n",
    "ax.plot([0]*200, ls='--', color='black', alpha=0.4)\n"
   ]
  },
  {
   "cell_type": "code",
   "execution_count": null,
   "id": "722efda2",
   "metadata": {},
   "outputs": [],
   "source": [
    "exp = len(rank)/20\n",
    "counts, bins=np.histogram(rank, bins=20)\n",
    "chi_test = sum([(a-exp)**2/exp for a in counts])"
   ]
  },
  {
   "cell_type": "code",
   "execution_count": null,
   "id": "4a09b89a",
   "metadata": {},
   "outputs": [],
   "source": [
    "chi_test"
   ]
  },
  {
   "cell_type": "code",
   "execution_count": null,
   "id": "7c1db28d",
   "metadata": {},
   "outputs": [],
   "source": [
    "stats.chi2.sf(chi_test, 20)"
   ]
  },
  {
   "cell_type": "code",
   "execution_count": null,
   "id": "aa849df1",
   "metadata": {},
   "outputs": [],
   "source": [
    "chi_test"
   ]
  },
  {
   "cell_type": "code",
   "execution_count": null,
   "id": "cea7feb8",
   "metadata": {},
   "outputs": [],
   "source": []
  },
  {
   "cell_type": "code",
   "execution_count": null,
   "id": "e278ea83",
   "metadata": {},
   "outputs": [],
   "source": [
    "pdf = stats.uniform(0,200)\n",
    "ax = az.plot_ecdf(rank, cdf = pdf.cdf, difference=True, plot_kwargs={'color': 'darkred'}, fill_kwargs={'color': 'grey'})\n",
    "ax.set_xlabel('rank')\n",
    "ax.set_ylabel('ECDF difference')\n",
    "ax.plot([0]*200, ls='--', color='black', alpha=0.4)"
   ]
  },
  {
   "cell_type": "code",
   "execution_count": null,
   "id": "c2f9186d",
   "metadata": {},
   "outputs": [],
   "source": [
    "plt.hist(np.random.gamma(20,1, 10000), bins=50)"
   ]
  },
  {
   "cell_type": "code",
   "execution_count": null,
   "id": "ab97ad9b",
   "metadata": {},
   "outputs": [],
   "source": []
  }
 ],
 "metadata": {
  "kernelspec": {
   "display_name": "baynesenv",
   "language": "python",
   "name": "python3"
  },
  "language_info": {
   "codemirror_mode": {
    "name": "ipython",
    "version": 3
   },
   "file_extension": ".py",
   "mimetype": "text/x-python",
   "name": "python",
   "nbconvert_exporter": "python",
   "pygments_lexer": "ipython3",
   "version": "3.10.12"
  },
  "toc": {
   "base_numbering": 1,
   "nav_menu": {},
   "number_sections": true,
   "sideBar": true,
   "skip_h1_title": false,
   "title_cell": "Table of Contents",
   "title_sidebar": "Contents",
   "toc_cell": false,
   "toc_position": {},
   "toc_section_display": true,
   "toc_window_display": true
  }
 },
 "nbformat": 4,
 "nbformat_minor": 5
}

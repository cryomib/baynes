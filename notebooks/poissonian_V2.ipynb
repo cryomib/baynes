{
 "cells": [
  {
   "cell_type": "code",
   "execution_count": null,
   "id": "55ab4355",
   "metadata": {},
   "outputs": [],
   "source": [
    "import matplotlib.pyplot as plt\n",
    "import seaborn as sns\n",
    "import numpy as np\n",
    "from cmdstanpy import CmdStanModel\n",
    "from baynes.plotter import FitPlotter\n",
    "from baynes.model_utils import get_stan_file\n",
    "import pandas as pd\n",
    "from scipy import stats\n",
    "sns.set_style('ticks')\n",
    "#sns.set_palette('colorblind')\n",
    "sns.set_context(\"notebook\", font_scale=1.6)\n",
    "plt.rc(\"axes.spines\", top=False, right=False)"
   ]
  },
  {
   "cell_type": "markdown",
   "id": "0caaaa9a",
   "metadata": {},
   "source": [
    "# Example 1: fit of a poissonian process\n",
    "### Generate the data"
   ]
  },
  {
   "cell_type": "code",
   "execution_count": null,
   "id": "a9e23c1b",
   "metadata": {},
   "outputs": [],
   "source": [
    "N=500\n",
    "lambda_true = 6.3\n",
    "events = np.random.poisson(lambda_true, N)\n",
    "\n",
    "data_mean = np.mean(events)\n",
    "data_sd = np.std(events)\n",
    "print('- mean of data: ', data_mean)\n",
    "print('- sd of data: ', data_sd)\n",
    "bins = np.arange(min(events), max(events))\n",
    "sns.histplot(events, bins=bins)\n",
    "sns.despine()"
   ]
  },
  {
   "cell_type": "markdown",
   "id": "2515e650",
   "metadata": {},
   "source": [
    "### Compile and print the STAN model\n"
   ]
  },
  {
   "cell_type": "code",
   "execution_count": null,
   "id": "880e7dc2",
   "metadata": {},
   "outputs": [],
   "source": [
    "stan_file = get_stan_file('poisson.stan')\n",
    "model = CmdStanModel(stan_file=stan_file,\n",
    "                     cpp_options={'STAN_THREADS': True, 'jN': 4})\n",
    "print(model.code())"
   ]
  },
  {
   "cell_type": "markdown",
   "id": "2cb6fa8d",
   "metadata": {},
   "source": [
    "### Assemble the data\n",
    "The model fits a poissonian with a lognormal prior for the only parameter $\\lambda$. The variables 'mu' and 'sigma' are the parameters of the lognormal, while 'prior' selects whether to generate simulated data only from the prior (1) or from the fit (0)"
   ]
  },
  {
   "cell_type": "code",
   "execution_count": null,
   "id": "6b13d415",
   "metadata": {},
   "outputs": [],
   "source": [
    "data = {'N': len(events), 'y': events, 'alpha': 5, 'beta': 1, 'prior': 1}"
   ]
  },
  {
   "cell_type": "markdown",
   "id": "0ba70467",
   "metadata": {},
   "source": [
    "### Prior predictive check\n",
    "Run the model without warmup and with fixed parameters"
   ]
  },
  {
   "cell_type": "code",
   "execution_count": null,
   "id": "30ff68f6",
   "metadata": {},
   "outputs": [],
   "source": [
    "fit_prior = model.sample(data,\n",
    "                         save_warmup=False)"
   ]
  },
  {
   "cell_type": "markdown",
   "id": "1c40b62c",
   "metadata": {},
   "source": [
    "Initialize a FitPlotter object adding the fit and its title (optional), then plot a predictive check. By default, the 5-95% interval of the simulated data is drawn. If the data is unbinned, as in this case, pass the number of bins that will be used in the plot as an additional argument. "
   ]
  },
  {
   "cell_type": "code",
   "execution_count": null,
   "id": "1013745c",
   "metadata": {},
   "outputs": [],
   "source": [
    "sns.set_style('ticks')\n",
    "#sns.set_context('paper')\n",
    "plt.rc(\"axes.spines\", top=False, right=False)\n",
    "#plt.rc(\"axes\", xmargin=0, ymargin=0)\n",
    "plotter = FitPlotter(fit_prior, fit_title='prior', fig_scale=6, output_dir=\"/home/pietro/work/TESI/thesis/figures/ch2/poisson/\", output_format='.pdf')\n",
    "plotter.predictive_check('y_rep', \n",
    "                         data=data, \n",
    "                         data_key='y', \n",
    "                         lines=True,\n",
    "                         legend=False,\n",
    "                         n_bins=len(bins),\n",
    "                         color='orange')"
   ]
  },
  {
   "cell_type": "markdown",
   "id": "d7440e85",
   "metadata": {},
   "source": [
    "### Fit the model\n",
    "Allow to generate quantities depending on the fit parameter, then sample specifying the warmup iterations. Use $diagnose()$ to check the convergence of the fit."
   ]
  },
  {
   "cell_type": "code",
   "execution_count": null,
   "id": "fc2f980f",
   "metadata": {},
   "outputs": [],
   "source": [
    "data['prior'] = 0\n",
    "fit = model.sample(data,\n",
    "                   chains=4,\n",
    "                   iter_warmup=500,\n",
    "                   iter_sampling=1000,\n",
    "                   save_warmup=True,\n",
    "                   show_progress=True,\n",
    "                   inits={'lambda':5})\n",
    "print(fit.diagnose())"
   ]
  },
  {
   "cell_type": "markdown",
   "id": "0dc44d22",
   "metadata": {},
   "source": [
    "Add the new fit to the FitPlotter and inspect the convergence of the only parameter. By default, new fits are added to an internal dictionary and new graphs are generated from the last added fit. All the parameters are plotted if None is passed as the first argument of the plotting function."
   ]
  },
  {
   "cell_type": "code",
   "execution_count": null,
   "id": "d93b0f4c",
   "metadata": {},
   "outputs": [],
   "source": [
    "plotter.add_fit(fit, fit_title='posterior')\n",
    "plotter.convergence_plot(wspace=0.2)\n",
    "plotter.resize(12,5)\n",
    "\n"
   ]
  },
  {
   "cell_type": "markdown",
   "id": "aa9c1c9b",
   "metadata": {},
   "source": [
    "Plot the posterior predictive check"
   ]
  },
  {
   "cell_type": "code",
   "execution_count": null,
   "id": "b33ae324",
   "metadata": {},
   "outputs": [],
   "source": [
    "plotter.predictive_check('y_rep', \n",
    "                         data=data, \n",
    "                         data_key='y', \n",
    "                         lines = True,\n",
    "                         n_bins=len(bins),\n",
    "                         legend=False,\n",
    "                         color='lightblue')"
   ]
  },
  {
   "cell_type": "markdown",
   "id": "085b521d",
   "metadata": {},
   "source": [
    "Print the results for the parameter $lambda$ and plot its posterior distribution."
   ]
  },
  {
   "cell_type": "code",
   "execution_count": null,
   "id": "966cdc48",
   "metadata": {},
   "outputs": [],
   "source": [
    "plotter.kde_plot()\n",
    "plotter.add_lines([lambda_true], color='green', label='true value', ls='--')\n",
    "plotter.resize(8,6)\n",
    "plotter.get_current_figure()\n",
    "#fit.summary().loc[['lambda']]"
   ]
  },
  {
   "cell_type": "code",
   "execution_count": null,
   "id": "958eeaa5",
   "metadata": {},
   "outputs": [],
   "source": [
    "plotter.cat_plot(fit_titles='all', aspect=1.5)\n",
    "plotter.add_lines([lambda_true], color='green')"
   ]
  },
  {
   "cell_type": "code",
   "execution_count": null,
   "id": "f11c3d99",
   "metadata": {},
   "outputs": [],
   "source": [
    "gamma_dist=stats.gamma(5+N*np.mean(events), scale=1/(1+N))\n",
    "x = np.linspace(gamma_dist.ppf(0.0001), gamma_dist.ppf(0.9999), 100)\n",
    "ax = plotter.plot(x, gamma_dist.pdf(x), 'r-', lw=2, alpha=0.6, label='exact')\n",
    "sns.histplot(fit.draws_pd(['lambda']), x='lambda', ax=ax, stat='density', label='HMC')\n",
    "plotter.update_legend(bbox_to_anchor=(1.15, 0.6), facecolor='white', edgecolor='white')\n",
    "plotter.resize(6,6)"
   ]
  },
  {
   "cell_type": "code",
   "execution_count": null,
   "id": "f0d971b2",
   "metadata": {},
   "outputs": [],
   "source": [
    "exact = {'Mean': gamma_dist.mean(), 'StdDev': gamma_dist.std(), '5%': gamma_dist.ppf(0.05), '95%': gamma_dist.ppf(0.95)}\n",
    "df = pd.concat([fit.summary().loc[['lambda']], fit_prior.summary().loc[['lambda']]])\n",
    "d=df[['Mean', 'StdDev', '5%', '95%', 'N_Eff']]\n",
    "d = pd.concat([pd.DataFrame.from_dict([exact]), d])\n",
    " \n",
    "print(d.to_latex(float_format=\"%.2f\"))"
   ]
  },
  {
   "cell_type": "code",
   "execution_count": null,
   "id": "9d09a330",
   "metadata": {},
   "outputs": [],
   "source": [
    "variables = ['mean_y_rep', 'sd_y_rep']\n",
    "plotter.fig_scale = 8\n",
    "plotter.cat_plot(variables, fit_titles='all')\n",
    "plotter.add_lines(x_coords=[data_mean, data_sd], color='green', lw=2, ls='--') \n",
    "plotter.resize(12, 4)"
   ]
  },
  {
   "cell_type": "markdown",
   "id": "41413555",
   "metadata": {},
   "source": [
    "Most of the plots support multiple parameters and fit combinations. For example, we can compare the prior and posterior distributions for the simulated data's mean and standard deviation. This can also be done with wrappers of Seaborn's functions $displot$ and $catplot$, allowing for many possibilities"
   ]
  },
  {
   "cell_type": "code",
   "execution_count": null,
   "id": "7e0c21a2",
   "metadata": {},
   "outputs": [],
   "source": [
    "variables = ['mean_y_rep', 'sd_y_rep']\n",
    "plotter.fig_scale = 6\n",
    "plotter.dis_plot(variables, kind='hist', hue='variable', common_bins=False, element=\"step\")"
   ]
  },
  {
   "cell_type": "markdown",
   "id": "ff2d9f8e",
   "metadata": {},
   "source": [
    "It is also possible to add vertical and horizontal lines to the last created figure. In this case we can see that not only the fit has converged to the true value, but also that the simulated data mean and standard deviation converge to that of the real data. This means that the model can qualitatively describe various properties of the data and is a good indicator of its usefulness."
   ]
  }
 ],
 "metadata": {
  "kernelspec": {
   "display_name": "baynesenv",
   "language": "python",
   "name": "baynesenv"
  },
  "language_info": {
   "codemirror_mode": {
    "name": "ipython",
    "version": 3
   },
   "file_extension": ".py",
   "mimetype": "text/x-python",
   "name": "python",
   "nbconvert_exporter": "python",
   "pygments_lexer": "ipython3",
   "version": "3.10.6"
  },
  "toc": {
   "base_numbering": 1,
   "nav_menu": {},
   "number_sections": true,
   "sideBar": true,
   "skip_h1_title": false,
   "title_cell": "Table of Contents",
   "title_sidebar": "Contents",
   "toc_cell": false,
   "toc_position": {},
   "toc_section_display": true,
   "toc_window_display": true
  }
 },
 "nbformat": 4,
 "nbformat_minor": 5
}
